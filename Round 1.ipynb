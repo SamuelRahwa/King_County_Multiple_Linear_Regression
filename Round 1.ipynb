{
 "cells": [
  {
   "cell_type": "code",
   "execution_count": 1,
   "id": "33850180",
   "metadata": {
    "ExecuteTime": {
     "end_time": "2021-04-22T04:20:35.293405Z",
     "start_time": "2021-04-22T04:20:33.241403Z"
    }
   },
   "outputs": [],
   "source": [
    "import numpy as np\n",
    "import scipy.stats as stats\n",
    "import pandas as pd\n",
    "import matplotlib.pyplot as plt\n",
    "%matplotlib inline\n",
    "import seaborn as sns\n",
    "sns.set_style('darkgrid')\n",
    "\n",
    "import statsmodels.api as sm\n",
    "from statsmodels.formula.api import ols\n",
    "from statsmodels.stats.diagnostic import linear_rainbow, het_breuschpagan\n",
    "from statsmodels.stats.outliers_influence import variance_inflation_factor\n",
    "\n",
    "from sklearn.preprocessing import LabelEncoder"
   ]
  },
  {
   "cell_type": "code",
   "execution_count": 2,
   "id": "fe865faf",
   "metadata": {
    "ExecuteTime": {
     "end_time": "2021-04-22T04:20:35.574045Z",
     "start_time": "2021-04-22T04:20:35.449213Z"
    }
   },
   "outputs": [
    {
     "name": "stdout",
     "output_type": "stream",
     "text": [
      "CONTRIBUTING.md    README.md          \u001b[34mdata\u001b[m\u001b[m/              student.ipynb\r\n",
      "LICENSE.md         Round 1.ipynb      halfway-there.gif\r\n"
     ]
    }
   ],
   "source": [
    "ls"
   ]
  },
  {
   "cell_type": "code",
   "execution_count": 3,
   "id": "3b76b075",
   "metadata": {
    "ExecuteTime": {
     "end_time": "2021-04-22T04:20:37.115221Z",
     "start_time": "2021-04-22T04:20:37.039797Z"
    }
   },
   "outputs": [],
   "source": [
    "data = pd.read_csv(\"data/kc_house_data.csv\")"
   ]
  },
  {
   "cell_type": "code",
   "execution_count": 4,
   "id": "aef9b54e",
   "metadata": {
    "ExecuteTime": {
     "end_time": "2021-04-22T04:20:39.388289Z",
     "start_time": "2021-04-22T04:20:39.382487Z"
    }
   },
   "outputs": [],
   "source": [
    "data = data.reset_index()"
   ]
  },
  {
   "cell_type": "code",
   "execution_count": 5,
   "id": "66d82f50",
   "metadata": {
    "ExecuteTime": {
     "end_time": "2021-04-22T04:20:41.971726Z",
     "start_time": "2021-04-22T04:20:41.964835Z"
    }
   },
   "outputs": [
    {
     "data": {
      "text/plain": [
       "['index',\n",
       " 'id',\n",
       " 'date',\n",
       " 'price',\n",
       " 'bedrooms',\n",
       " 'bathrooms',\n",
       " 'sqft_living',\n",
       " 'sqft_lot',\n",
       " 'floors',\n",
       " 'waterfront',\n",
       " 'view',\n",
       " 'condition',\n",
       " 'grade',\n",
       " 'sqft_above',\n",
       " 'sqft_basement',\n",
       " 'yr_built',\n",
       " 'yr_renovated',\n",
       " 'zipcode',\n",
       " 'lat',\n",
       " 'long',\n",
       " 'sqft_living15',\n",
       " 'sqft_lot15']"
      ]
     },
     "execution_count": 5,
     "metadata": {},
     "output_type": "execute_result"
    }
   ],
   "source": [
    "columns = data.columns.to_list()\n",
    "columns"
   ]
  },
  {
   "cell_type": "code",
   "execution_count": 6,
   "id": "4d516c09",
   "metadata": {
    "ExecuteTime": {
     "end_time": "2021-04-22T04:20:46.764888Z",
     "start_time": "2021-04-22T04:20:46.761680Z"
    }
   },
   "outputs": [],
   "source": [
    "data.columns = data.columns.str.replace(' ', '')"
   ]
  },
  {
   "cell_type": "code",
   "execution_count": 7,
   "id": "c2fd1a91",
   "metadata": {
    "ExecuteTime": {
     "end_time": "2021-04-22T04:20:48.650958Z",
     "start_time": "2021-04-22T04:20:48.643438Z"
    }
   },
   "outputs": [],
   "source": [
    "data = data.drop(columns=['index', 'id'])"
   ]
  },
  {
   "cell_type": "code",
   "execution_count": 8,
   "id": "20d68295",
   "metadata": {
    "ExecuteTime": {
     "end_time": "2021-04-22T04:20:50.782358Z",
     "start_time": "2021-04-22T04:20:50.778332Z"
    }
   },
   "outputs": [
    {
     "data": {
      "text/plain": [
       "(21597, 20)"
      ]
     },
     "execution_count": 8,
     "metadata": {},
     "output_type": "execute_result"
    }
   ],
   "source": [
    "data.shape"
   ]
  },
  {
   "cell_type": "code",
   "execution_count": 9,
   "id": "b2837276",
   "metadata": {
    "ExecuteTime": {
     "end_time": "2021-04-22T04:20:52.256881Z",
     "start_time": "2021-04-22T04:20:52.251626Z"
    }
   },
   "outputs": [
    {
     "data": {
      "text/plain": [
       "date              object\n",
       "price            float64\n",
       "bedrooms           int64\n",
       "bathrooms        float64\n",
       "sqft_living        int64\n",
       "sqft_lot           int64\n",
       "floors           float64\n",
       "waterfront       float64\n",
       "view             float64\n",
       "condition          int64\n",
       "grade              int64\n",
       "sqft_above         int64\n",
       "sqft_basement     object\n",
       "yr_built           int64\n",
       "yr_renovated     float64\n",
       "zipcode            int64\n",
       "lat              float64\n",
       "long             float64\n",
       "sqft_living15      int64\n",
       "sqft_lot15         int64\n",
       "dtype: object"
      ]
     },
     "execution_count": 9,
     "metadata": {},
     "output_type": "execute_result"
    }
   ],
   "source": [
    "data.dtypes"
   ]
  },
  {
   "cell_type": "code",
   "execution_count": 10,
   "id": "02483f3a",
   "metadata": {
    "ExecuteTime": {
     "end_time": "2021-04-22T04:20:54.798567Z",
     "start_time": "2021-04-22T04:20:54.766164Z"
    }
   },
   "outputs": [],
   "source": [
    "data['date'] = pd.to_datetime(data['date'])"
   ]
  },
  {
   "cell_type": "code",
   "execution_count": 11,
   "id": "cf51609e",
   "metadata": {
    "ExecuteTime": {
     "end_time": "2021-04-22T04:20:56.809849Z",
     "start_time": "2021-04-22T04:20:56.804777Z"
    }
   },
   "outputs": [],
   "source": [
    "# reorder so price is the first column\n",
    "cols = list(data.columns)\n",
    "cols = [cols[1]] + cols[:1] + cols[2:]\n",
    "data = data[cols]"
   ]
  },
  {
   "cell_type": "code",
   "execution_count": 18,
   "id": "4a342035",
   "metadata": {
    "ExecuteTime": {
     "end_time": "2021-04-22T04:21:37.856917Z",
     "start_time": "2021-04-22T04:21:37.842221Z"
    }
   },
   "outputs": [
    {
     "data": {
      "text/html": [
       "<div>\n",
       "<style scoped>\n",
       "    .dataframe tbody tr th:only-of-type {\n",
       "        vertical-align: middle;\n",
       "    }\n",
       "\n",
       "    .dataframe tbody tr th {\n",
       "        vertical-align: top;\n",
       "    }\n",
       "\n",
       "    .dataframe thead th {\n",
       "        text-align: right;\n",
       "    }\n",
       "</style>\n",
       "<table border=\"1\" class=\"dataframe\">\n",
       "  <thead>\n",
       "    <tr style=\"text-align: right;\">\n",
       "      <th></th>\n",
       "      <th>price</th>\n",
       "      <th>date</th>\n",
       "      <th>bedrooms</th>\n",
       "      <th>bathrooms</th>\n",
       "      <th>sqft_living</th>\n",
       "      <th>sqft_lot</th>\n",
       "      <th>floors</th>\n",
       "      <th>waterfront</th>\n",
       "      <th>view</th>\n",
       "      <th>condition</th>\n",
       "      <th>grade</th>\n",
       "      <th>sqft_above</th>\n",
       "      <th>sqft_basement</th>\n",
       "      <th>yr_built</th>\n",
       "      <th>yr_renovated</th>\n",
       "      <th>zipcode</th>\n",
       "      <th>lat</th>\n",
       "      <th>long</th>\n",
       "      <th>sqft_living15</th>\n",
       "      <th>sqft_lot15</th>\n",
       "    </tr>\n",
       "  </thead>\n",
       "  <tbody>\n",
       "    <tr>\n",
       "      <th>1</th>\n",
       "      <td>538000.0</td>\n",
       "      <td>2014-12-09</td>\n",
       "      <td>3</td>\n",
       "      <td>2.25</td>\n",
       "      <td>2570</td>\n",
       "      <td>7242</td>\n",
       "      <td>2.0</td>\n",
       "      <td>0.0</td>\n",
       "      <td>0.0</td>\n",
       "      <td>3</td>\n",
       "      <td>7</td>\n",
       "      <td>2170</td>\n",
       "      <td>400.0</td>\n",
       "      <td>1951</td>\n",
       "      <td>1991.0</td>\n",
       "      <td>98125</td>\n",
       "      <td>47.7210</td>\n",
       "      <td>-122.319</td>\n",
       "      <td>1690</td>\n",
       "      <td>7639</td>\n",
       "    </tr>\n",
       "    <tr>\n",
       "      <th>3</th>\n",
       "      <td>604000.0</td>\n",
       "      <td>2014-12-09</td>\n",
       "      <td>4</td>\n",
       "      <td>3.00</td>\n",
       "      <td>1960</td>\n",
       "      <td>5000</td>\n",
       "      <td>1.0</td>\n",
       "      <td>0.0</td>\n",
       "      <td>0.0</td>\n",
       "      <td>5</td>\n",
       "      <td>7</td>\n",
       "      <td>1050</td>\n",
       "      <td>910.0</td>\n",
       "      <td>1965</td>\n",
       "      <td>0.0</td>\n",
       "      <td>98136</td>\n",
       "      <td>47.5208</td>\n",
       "      <td>-122.393</td>\n",
       "      <td>1360</td>\n",
       "      <td>5000</td>\n",
       "    </tr>\n",
       "    <tr>\n",
       "      <th>4</th>\n",
       "      <td>510000.0</td>\n",
       "      <td>2015-02-18</td>\n",
       "      <td>3</td>\n",
       "      <td>2.00</td>\n",
       "      <td>1680</td>\n",
       "      <td>8080</td>\n",
       "      <td>1.0</td>\n",
       "      <td>0.0</td>\n",
       "      <td>0.0</td>\n",
       "      <td>3</td>\n",
       "      <td>8</td>\n",
       "      <td>1680</td>\n",
       "      <td>0.0</td>\n",
       "      <td>1987</td>\n",
       "      <td>0.0</td>\n",
       "      <td>98074</td>\n",
       "      <td>47.6168</td>\n",
       "      <td>-122.045</td>\n",
       "      <td>1800</td>\n",
       "      <td>7503</td>\n",
       "    </tr>\n",
       "    <tr>\n",
       "      <th>5</th>\n",
       "      <td>1230000.0</td>\n",
       "      <td>2014-05-12</td>\n",
       "      <td>4</td>\n",
       "      <td>4.50</td>\n",
       "      <td>5420</td>\n",
       "      <td>101930</td>\n",
       "      <td>1.0</td>\n",
       "      <td>0.0</td>\n",
       "      <td>0.0</td>\n",
       "      <td>3</td>\n",
       "      <td>11</td>\n",
       "      <td>3890</td>\n",
       "      <td>1530.0</td>\n",
       "      <td>2001</td>\n",
       "      <td>0.0</td>\n",
       "      <td>98053</td>\n",
       "      <td>47.6561</td>\n",
       "      <td>-122.005</td>\n",
       "      <td>4760</td>\n",
       "      <td>101930</td>\n",
       "    </tr>\n",
       "    <tr>\n",
       "      <th>6</th>\n",
       "      <td>257500.0</td>\n",
       "      <td>2014-06-27</td>\n",
       "      <td>3</td>\n",
       "      <td>2.25</td>\n",
       "      <td>1715</td>\n",
       "      <td>6819</td>\n",
       "      <td>2.0</td>\n",
       "      <td>0.0</td>\n",
       "      <td>0.0</td>\n",
       "      <td>3</td>\n",
       "      <td>7</td>\n",
       "      <td>1715</td>\n",
       "      <td>?</td>\n",
       "      <td>1995</td>\n",
       "      <td>0.0</td>\n",
       "      <td>98003</td>\n",
       "      <td>47.3097</td>\n",
       "      <td>-122.327</td>\n",
       "      <td>2238</td>\n",
       "      <td>6819</td>\n",
       "    </tr>\n",
       "  </tbody>\n",
       "</table>\n",
       "</div>"
      ],
      "text/plain": [
       "       price       date  bedrooms  bathrooms  sqft_living  sqft_lot  floors  \\\n",
       "1   538000.0 2014-12-09         3       2.25         2570      7242     2.0   \n",
       "3   604000.0 2014-12-09         4       3.00         1960      5000     1.0   \n",
       "4   510000.0 2015-02-18         3       2.00         1680      8080     1.0   \n",
       "5  1230000.0 2014-05-12         4       4.50         5420    101930     1.0   \n",
       "6   257500.0 2014-06-27         3       2.25         1715      6819     2.0   \n",
       "\n",
       "   waterfront  view  condition  grade  sqft_above sqft_basement  yr_built  \\\n",
       "1         0.0   0.0          3      7        2170         400.0      1951   \n",
       "3         0.0   0.0          5      7        1050         910.0      1965   \n",
       "4         0.0   0.0          3      8        1680           0.0      1987   \n",
       "5         0.0   0.0          3     11        3890        1530.0      2001   \n",
       "6         0.0   0.0          3      7        1715             ?      1995   \n",
       "\n",
       "   yr_renovated  zipcode      lat     long  sqft_living15  sqft_lot15  \n",
       "1        1991.0    98125  47.7210 -122.319           1690        7639  \n",
       "3           0.0    98136  47.5208 -122.393           1360        5000  \n",
       "4           0.0    98074  47.6168 -122.045           1800        7503  \n",
       "5           0.0    98053  47.6561 -122.005           4760      101930  \n",
       "6           0.0    98003  47.3097 -122.327           2238        6819  "
      ]
     },
     "execution_count": 18,
     "metadata": {},
     "output_type": "execute_result"
    }
   ],
   "source": [
    "data.head()"
   ]
  },
  {
   "cell_type": "code",
   "execution_count": 20,
   "id": "84077b7e",
   "metadata": {
    "ExecuteTime": {
     "end_time": "2021-04-22T04:23:16.927674Z",
     "start_time": "2021-04-22T04:23:16.684054Z"
    }
   },
   "outputs": [],
   "source": [
    "data.to_csv('cleaned_kc_house_data.csv')"
   ]
  },
  {
   "cell_type": "markdown",
   "id": "55621f40",
   "metadata": {},
   "source": [
    "### Need to check on possibly modification of data types for the following columns: \n",
    "\n",
    "1.) sqft_basement\n",
    "\n",
    "2.) date              "
   ]
  },
  {
   "cell_type": "code",
   "execution_count": 13,
   "id": "6de42536",
   "metadata": {
    "ExecuteTime": {
     "end_time": "2021-04-22T04:21:22.079931Z",
     "start_time": "2021-04-22T04:21:22.057266Z"
    }
   },
   "outputs": [
    {
     "data": {
      "text/plain": [
       "price             0.00\n",
       "date              0.00\n",
       "bedrooms          0.00\n",
       "bathrooms         0.00\n",
       "sqft_living       0.00\n",
       "sqft_lot          0.00\n",
       "floors            0.00\n",
       "waterfront       11.00\n",
       "view              0.29\n",
       "condition         0.00\n",
       "grade             0.00\n",
       "sqft_above        0.00\n",
       "sqft_basement     0.00\n",
       "yr_built          0.00\n",
       "yr_renovated     17.79\n",
       "zipcode           0.00\n",
       "lat               0.00\n",
       "long              0.00\n",
       "sqft_living15     0.00\n",
       "sqft_lot15        0.00\n",
       "dtype: float64"
      ]
     },
     "execution_count": 13,
     "metadata": {},
     "output_type": "execute_result"
    }
   ],
   "source": [
    "data.isna().mean().round(4) * 100"
   ]
  },
  {
   "cell_type": "markdown",
   "id": "68240896",
   "metadata": {},
   "source": [
    "### Check why waterfront and year renovated have a missing data percentage over 10%"
   ]
  },
  {
   "cell_type": "code",
   "execution_count": 14,
   "id": "a405d567",
   "metadata": {
    "ExecuteTime": {
     "end_time": "2021-04-22T04:21:25.264862Z",
     "start_time": "2021-04-22T04:21:25.105519Z"
    }
   },
   "outputs": [],
   "source": [
    "errors = []\n",
    "for idx in data.index:\n",
    "    try: \n",
    "        float(data.sqft_basement[idx])\n",
    "    except:\n",
    "        errors.append(idx)"
   ]
  },
  {
   "cell_type": "code",
   "execution_count": 15,
   "id": "0b05bf52",
   "metadata": {
    "ExecuteTime": {
     "end_time": "2021-04-22T04:21:28.071116Z",
     "start_time": "2021-04-22T04:21:28.065941Z"
    }
   },
   "outputs": [
    {
     "data": {
      "text/plain": [
       "?    454\n",
       "Name: sqft_basement, dtype: int64"
      ]
     },
     "execution_count": 15,
     "metadata": {},
     "output_type": "execute_result"
    }
   ],
   "source": [
    "data.iloc[errors].sqft_basement.value_counts()"
   ]
  },
  {
   "cell_type": "code",
   "execution_count": 16,
   "id": "f1236ed0",
   "metadata": {
    "ExecuteTime": {
     "end_time": "2021-04-22T04:21:31.787429Z",
     "start_time": "2021-04-22T04:21:31.778564Z"
    }
   },
   "outputs": [],
   "source": [
    "data = data.dropna()"
   ]
  },
  {
   "cell_type": "code",
   "execution_count": 17,
   "id": "39ecc8cf",
   "metadata": {
    "ExecuteTime": {
     "end_time": "2021-04-22T04:21:33.456103Z",
     "start_time": "2021-04-22T04:21:33.448300Z"
    }
   },
   "outputs": [
    {
     "data": {
      "text/plain": [
       "price            0.0\n",
       "date             0.0\n",
       "bedrooms         0.0\n",
       "bathrooms        0.0\n",
       "sqft_living      0.0\n",
       "sqft_lot         0.0\n",
       "floors           0.0\n",
       "waterfront       0.0\n",
       "view             0.0\n",
       "condition        0.0\n",
       "grade            0.0\n",
       "sqft_above       0.0\n",
       "sqft_basement    0.0\n",
       "yr_built         0.0\n",
       "yr_renovated     0.0\n",
       "zipcode          0.0\n",
       "lat              0.0\n",
       "long             0.0\n",
       "sqft_living15    0.0\n",
       "sqft_lot15       0.0\n",
       "dtype: float64"
      ]
     },
     "execution_count": 17,
     "metadata": {},
     "output_type": "execute_result"
    }
   ],
   "source": [
    "data.isna().mean().round(4) * 100"
   ]
  },
  {
   "cell_type": "markdown",
   "id": "eb07a82a",
   "metadata": {},
   "source": [
    "### Finding Correlation"
   ]
  },
  {
   "cell_type": "code",
   "execution_count": null,
   "id": "d491ad91",
   "metadata": {
    "ExecuteTime": {
     "end_time": "2021-04-21T14:39:58.707225Z",
     "start_time": "2021-04-21T14:39:58.640570Z"
    }
   },
   "outputs": [],
   "source": [
    "data.describe()"
   ]
  },
  {
   "cell_type": "code",
   "execution_count": null,
   "id": "b14045cb",
   "metadata": {
    "ExecuteTime": {
     "end_time": "2021-04-21T14:40:34.307278Z",
     "start_time": "2021-04-21T14:40:34.261771Z"
    }
   },
   "outputs": [],
   "source": [
    "corr = data.corr()\n",
    "corr"
   ]
  },
  {
   "cell_type": "code",
   "execution_count": null,
   "id": "5709343c",
   "metadata": {
    "ExecuteTime": {
     "end_time": "2021-04-21T14:40:48.952321Z",
     "start_time": "2021-04-21T14:40:48.602458Z"
    }
   },
   "outputs": [],
   "source": [
    "sns.heatmap(corr);"
   ]
  },
  {
   "cell_type": "code",
   "execution_count": null,
   "id": "bf65cb7f",
   "metadata": {
    "ExecuteTime": {
     "end_time": "2021-04-21T14:41:10.187306Z",
     "start_time": "2021-04-21T14:41:09.861333Z"
    }
   },
   "outputs": [],
   "source": [
    "mask = np.triu(np.ones_like(corr, dtype=np.bool))\n",
    "\n",
    "fig1, ax1 = plt.subplots(figsize=(11, 9))\n",
    "sns.heatmap(corr, mask=mask, ax=ax1, cmap=\"viridis\");"
   ]
  },
  {
   "cell_type": "code",
   "execution_count": null,
   "id": "47f582eb",
   "metadata": {
    "ExecuteTime": {
     "end_time": "2021-04-21T15:02:22.230385Z",
     "start_time": "2021-04-21T15:02:11.120269Z"
    }
   },
   "outputs": [],
   "source": [
    "positively_correlated_cols = ['price','bedrooms','bathrooms', 'sqft_living', 'sqft_lot']\n",
    "positively_correlated_df = data[positively_correlated_cols]\n",
    "sns.pairplot(positively_correlated_df);"
   ]
  },
  {
   "cell_type": "code",
   "execution_count": null,
   "id": "89663649",
   "metadata": {
    "ExecuteTime": {
     "end_time": "2021-04-21T15:03:15.073395Z",
     "start_time": "2021-04-21T15:03:09.740333Z"
    }
   },
   "outputs": [],
   "source": [
    "log_bedrooms = np.log(positively_correlated_df['bedrooms'])\n",
    "log_bathrooms = np.log(positively_correlated_df['bathrooms'])\n",
    "log_sqft_living = np.log(positively_correlated_df['sqft_living'])\n",
    "log_sqft_lot = np.log(positively_correlated_df['sqft_lot'])\n",
    "\n",
    "scaled_bedrooms = (log_bedrooms-np.mean(log_bedrooms))/np.sqrt(np.var(log_bedrooms))\n",
    "scaled_bathrooms = (log_bathrooms-np.mean(log_bathrooms))/np.sqrt(np.var(log_bathrooms))\n",
    "scaled_sqft_living = (log_sqft_living-np.mean(log_sqft_living))/np.sqrt(np.var(log_sqft_living))\n",
    "scaled_sqft_lot = (log_sqft_lot-np.mean(log_sqft_lot))/np.sqrt(np.var(log_sqft_lot))\n",
    "\n",
    "\n",
    "data_positively_correlated_transformed = pd.DataFrame([])\n",
    "data_positively_correlated_transformed['bedrooms'] = scaled_bedrooms\n",
    "data_positively_correlated_transformed['bathrooms'] = scaled_bathrooms\n",
    "data_positively_correlated_transformed['sqft_living'] = scaled_sqft_living\n",
    "data_positively_correlated_transformed['sqft_lot'] = scaled_sqft_lot\n",
    "data_positively_correlated_transformed['price'] = positively_correlated_df['price']\n",
    "\n",
    "display(data_positively_correlated_transformed.shape)\n",
    "display(data_positively_correlated_transformed.head())\n",
    "sns.pairplot(data_positively_correlated_transformed);"
   ]
  },
  {
   "cell_type": "code",
   "execution_count": null,
   "id": "355e0db5",
   "metadata": {
    "ExecuteTime": {
     "end_time": "2021-04-21T15:04:23.003024Z",
     "start_time": "2021-04-21T15:04:22.996124Z"
    }
   },
   "outputs": [],
   "source": [
    "model_1_df = data_positively_correlated_transformed[['price','bedrooms','bathrooms', 'sqft_living', 'sqft_lot']].copy()\n",
    "model_1_df.dropna(inplace=True)"
   ]
  },
  {
   "cell_type": "code",
   "execution_count": null,
   "id": "7f6b1d47",
   "metadata": {
    "ExecuteTime": {
     "end_time": "2021-04-21T15:04:35.895459Z",
     "start_time": "2021-04-21T15:04:35.871088Z"
    }
   },
   "outputs": [],
   "source": [
    "model_1 = ols(formula = \"price ~ bedrooms + bathrooms + sqft_living + sqft_lot\", data = model_1_df)\n",
    "model_1_results = model_1.fit()"
   ]
  },
  {
   "cell_type": "code",
   "execution_count": null,
   "id": "79a74ae3",
   "metadata": {
    "ExecuteTime": {
     "end_time": "2021-04-21T15:06:00.253218Z",
     "start_time": "2021-04-21T15:06:00.236575Z"
    }
   },
   "outputs": [],
   "source": [
    "model_1_results.summary()"
   ]
  },
  {
   "cell_type": "markdown",
   "id": "c48dab66",
   "metadata": {},
   "source": [
    "### Model 1 ~ data_positively_correlated_transformed\n",
    "\n",
    "We are only explaining about 39% of the variance in price, but we have 4 positively transformed features and it's statistically significant at an alpha of 0.05.\n",
    "\n",
    "According to our model:\n",
    "\n",
    "A home price with zero bedrooms, bathrooms, square feet living and square lot on average is expected to cost $541,300.\n",
    "\n",
    "*** A negative coefficient suggests that as the independent variable increases, the dependent variable tends to decrease."
   ]
  },
  {
   "cell_type": "markdown",
   "id": "0bf9e0b6",
   "metadata": {},
   "source": [
    "### Linearity - data_positively_correlated_transformed"
   ]
  },
  {
   "cell_type": "code",
   "execution_count": null,
   "id": "32441f6d",
   "metadata": {
    "ExecuteTime": {
     "end_time": "2021-04-21T15:39:31.282132Z",
     "start_time": "2021-04-21T15:39:31.276343Z"
    }
   },
   "outputs": [],
   "source": [
    "rainbow_statistic, rainbow_p_value = linear_rainbow(model_1_results)\n",
    "print(\"Rainbow statistic:\", rainbow_statistic)\n",
    "print(\"Rainbow p-value:\", rainbow_p_value)"
   ]
  },
  {
   "cell_type": "markdown",
   "id": "99916a09",
   "metadata": {},
   "source": [
    "The null hypothesis is that the model is linearly predicted by the features, alternative hypothesis is that it is not. Thus returning a p-value above the alpha of .05 means that the current model meets the linearity assumption. "
   ]
  },
  {
   "cell_type": "markdown",
   "id": "d64bf88b",
   "metadata": {},
   "source": [
    "### Normality - data_positively_correlated_transformed\n",
    "\n",
    "Linear regression assumes that the residuals are normally distributed. It is possible to check this qualitatively with a Q-Q plot, but this example shows how to assess it statistically.\n",
    "\n",
    "The Jarque-Bera test is performed automatically as part of the model summary output, labeled Jarque-Bera (JB) and Prob(JB).\n",
    "\n",
    "The null hypothesis is that the residuals are normally distributed, alternative hypothesis is that they are not. Thus returning a low p-value means that the current model violates the normality assumption."
   ]
  },
  {
   "cell_type": "markdown",
   "id": "649c5ccd",
   "metadata": {},
   "source": [
    "From Model 1 Results: The Prob(JB): 0.00\n",
    "\n",
    "Thus returning a p-value below the alpha of .05 means that the current model does not meet the normality assumption.\n"
   ]
  },
  {
   "cell_type": "code",
   "execution_count": null,
   "id": "ca47fc89",
   "metadata": {
    "ExecuteTime": {
     "end_time": "2021-04-21T16:51:39.386383Z",
     "start_time": "2021-04-21T16:51:33.337483Z"
    }
   },
   "outputs": [],
   "source": [
    "from statsmodels.graphics.regressionplots import plot_leverage_resid2\n",
    "fig, ax = plt.subplots(figsize=(8,6))\n",
    "fig = plot_leverage_resid2(model_1_results, ax = ax)"
   ]
  },
  {
   "cell_type": "markdown",
   "id": "71f9ad0c",
   "metadata": {},
   "source": [
    "### Homoscadasticity - data_positively_correlated_transformed\n",
    "\n",
    "Linear regression assumes that the variance of the dependent variable is homogeneous across different value of the independent variable(s). We can visualize this by looking at the predicted life expectancy vs. the residuals."
   ]
  },
  {
   "cell_type": "code",
   "execution_count": null,
   "id": "88684492",
   "metadata": {
    "ExecuteTime": {
     "end_time": "2021-04-21T17:05:29.511844Z",
     "start_time": "2021-04-21T17:05:29.297016Z"
    }
   },
   "outputs": [],
   "source": [
    "y = data_positively_correlated_transformed['price']\n",
    "y_hat = model_1_results.predict()\n",
    "\n",
    "fig2, ax2 = plt.subplots()\n",
    "ax2.set(xlabel=\"Predicted Home Price\",\n",
    "        ylabel=\"Residuals (Predicted - Home Price)\")\n",
    "ax2.scatter(x=y_hat, y=y_hat-y, color=\"blue\", alpha=0.2);"
   ]
  },
  {
   "cell_type": "markdown",
   "id": "40173972",
   "metadata": {},
   "source": [
    "Just visually inspecting this, it seems like our model over-predicts home price between .75e6 and 1.00e6 in a way that doesn't happen for other homes. \n",
    "\n",
    "Plus we have some weird-looking data in the upper end that we might want to inspect."
   ]
  },
  {
   "cell_type": "code",
   "execution_count": null,
   "id": "8dec928d",
   "metadata": {
    "ExecuteTime": {
     "end_time": "2021-04-21T17:17:05.512351Z",
     "start_time": "2021-04-21T17:17:05.500777Z"
    }
   },
   "outputs": [],
   "source": [
    "lm, lm_p_value, fvalue, f_p_value = het_breuschpagan(y_hat, data_positively_correlated_transformed['price'])\n",
    "print(\"Lagrange Multiplier p-value:\", lm_p_value)\n",
    "print(\"F-statistic p-value:\", f_p_value)"
   ]
  },
  {
   "cell_type": "code",
   "execution_count": null,
   "id": "bee6e9e0",
   "metadata": {},
   "outputs": [],
   "source": []
  }
 ],
 "metadata": {
  "hide_input": false,
  "kernelspec": {
   "display_name": "Python 3",
   "language": "python",
   "name": "python3"
  },
  "language_info": {
   "codemirror_mode": {
    "name": "ipython",
    "version": 3
   },
   "file_extension": ".py",
   "mimetype": "text/x-python",
   "name": "python",
   "nbconvert_exporter": "python",
   "pygments_lexer": "ipython3",
   "version": "3.8.8"
  },
  "varInspector": {
   "cols": {
    "lenName": 16,
    "lenType": 16,
    "lenVar": 40
   },
   "kernels_config": {
    "python": {
     "delete_cmd_postfix": "",
     "delete_cmd_prefix": "del ",
     "library": "var_list.py",
     "varRefreshCmd": "print(var_dic_list())"
    },
    "r": {
     "delete_cmd_postfix": ") ",
     "delete_cmd_prefix": "rm(",
     "library": "var_list.r",
     "varRefreshCmd": "cat(var_dic_list()) "
    }
   },
   "types_to_exclude": [
    "module",
    "function",
    "builtin_function_or_method",
    "instance",
    "_Feature"
   ],
   "window_display": false
  }
 },
 "nbformat": 4,
 "nbformat_minor": 5
}
