{
 "cells": [
  {
   "cell_type": "code",
   "execution_count": 1,
   "id": "220479ff",
   "metadata": {
    "ExecuteTime": {
     "end_time": "2021-04-23T14:49:29.368512Z",
     "start_time": "2021-04-23T14:49:28.192526Z"
    }
   },
   "outputs": [],
   "source": [
    "import numpy as np\n",
    "import scipy.stats as stats\n",
    "import pandas as pd\n",
    "import matplotlib.pyplot as plt\n",
    "%matplotlib inline\n",
    "import seaborn as sns\n",
    "sns.set_style('darkgrid')\n",
    "\n",
    "import statsmodels.api as sm\n",
    "from statsmodels.formula.api import ols\n",
    "from statsmodels.stats.diagnostic import linear_rainbow, het_breuschpagan\n",
    "from statsmodels.stats.outliers_influence import variance_inflation_factor\n",
    "\n",
    "from sklearn.preprocessing import LabelEncoder"
   ]
  },
  {
   "cell_type": "code",
   "execution_count": 2,
   "id": "79e4b1a1",
   "metadata": {
    "ExecuteTime": {
     "end_time": "2021-04-23T14:49:31.436316Z",
     "start_time": "2021-04-23T14:49:31.311200Z"
    }
   },
   "outputs": [
    {
     "name": "stdout",
     "output_type": "stream",
     "text": [
      "CONTRIBUTING.md    Round 1.ipynb      Round 4.ipynb      halfway-there.gif\r\n",
      "LICENSE.md         Round 2.....ipynb  Untitled.ipynb\r\n",
      "README.md          Round 3.....ipynb  \u001b[34mdata\u001b[m\u001b[m/\r\n"
     ]
    }
   ],
   "source": [
    "ls"
   ]
  },
  {
   "cell_type": "code",
   "execution_count": 3,
   "id": "5be916c2",
   "metadata": {
    "ExecuteTime": {
     "end_time": "2021-04-23T14:49:34.575083Z",
     "start_time": "2021-04-23T14:49:34.526627Z"
    }
   },
   "outputs": [],
   "source": [
    "data = pd.read_csv(\"data/cleaned_housing_data.csv\")"
   ]
  },
  {
   "cell_type": "code",
   "execution_count": 4,
   "id": "7bf81f61",
   "metadata": {
    "ExecuteTime": {
     "end_time": "2021-04-23T14:49:36.162144Z",
     "start_time": "2021-04-23T14:49:36.130647Z"
    }
   },
   "outputs": [
    {
     "data": {
      "text/plain": [
       "(15762, 21)"
      ]
     },
     "metadata": {},
     "output_type": "display_data"
    },
    {
     "data": {
      "text/html": [
       "<div>\n",
       "<style scoped>\n",
       "    .dataframe tbody tr th:only-of-type {\n",
       "        vertical-align: middle;\n",
       "    }\n",
       "\n",
       "    .dataframe tbody tr th {\n",
       "        vertical-align: top;\n",
       "    }\n",
       "\n",
       "    .dataframe thead th {\n",
       "        text-align: right;\n",
       "    }\n",
       "</style>\n",
       "<table border=\"1\" class=\"dataframe\">\n",
       "  <thead>\n",
       "    <tr style=\"text-align: right;\">\n",
       "      <th></th>\n",
       "      <th>Unnamed: 0</th>\n",
       "      <th>price</th>\n",
       "      <th>date</th>\n",
       "      <th>bedrooms</th>\n",
       "      <th>bathrooms</th>\n",
       "      <th>sqft_living</th>\n",
       "      <th>sqft_lot</th>\n",
       "      <th>floors</th>\n",
       "      <th>waterfront</th>\n",
       "      <th>view</th>\n",
       "      <th>...</th>\n",
       "      <th>grade</th>\n",
       "      <th>sqft_above</th>\n",
       "      <th>sqft_basement</th>\n",
       "      <th>yr_built</th>\n",
       "      <th>yr_renovated</th>\n",
       "      <th>zipcode</th>\n",
       "      <th>lat</th>\n",
       "      <th>long</th>\n",
       "      <th>sqft_living15</th>\n",
       "      <th>sqft_lot15</th>\n",
       "    </tr>\n",
       "  </thead>\n",
       "  <tbody>\n",
       "    <tr>\n",
       "      <th>0</th>\n",
       "      <td>1</td>\n",
       "      <td>538000.0</td>\n",
       "      <td>2014-12-09</td>\n",
       "      <td>3</td>\n",
       "      <td>2.25</td>\n",
       "      <td>2570</td>\n",
       "      <td>7242</td>\n",
       "      <td>2.0</td>\n",
       "      <td>0.0</td>\n",
       "      <td>0.0</td>\n",
       "      <td>...</td>\n",
       "      <td>7</td>\n",
       "      <td>2170</td>\n",
       "      <td>400.0</td>\n",
       "      <td>1951</td>\n",
       "      <td>1991.0</td>\n",
       "      <td>98125</td>\n",
       "      <td>47.7210</td>\n",
       "      <td>-122.319</td>\n",
       "      <td>1690</td>\n",
       "      <td>7639</td>\n",
       "    </tr>\n",
       "    <tr>\n",
       "      <th>1</th>\n",
       "      <td>3</td>\n",
       "      <td>604000.0</td>\n",
       "      <td>2014-12-09</td>\n",
       "      <td>4</td>\n",
       "      <td>3.00</td>\n",
       "      <td>1960</td>\n",
       "      <td>5000</td>\n",
       "      <td>1.0</td>\n",
       "      <td>0.0</td>\n",
       "      <td>0.0</td>\n",
       "      <td>...</td>\n",
       "      <td>7</td>\n",
       "      <td>1050</td>\n",
       "      <td>910.0</td>\n",
       "      <td>1965</td>\n",
       "      <td>0.0</td>\n",
       "      <td>98136</td>\n",
       "      <td>47.5208</td>\n",
       "      <td>-122.393</td>\n",
       "      <td>1360</td>\n",
       "      <td>5000</td>\n",
       "    </tr>\n",
       "    <tr>\n",
       "      <th>2</th>\n",
       "      <td>4</td>\n",
       "      <td>510000.0</td>\n",
       "      <td>2015-02-18</td>\n",
       "      <td>3</td>\n",
       "      <td>2.00</td>\n",
       "      <td>1680</td>\n",
       "      <td>8080</td>\n",
       "      <td>1.0</td>\n",
       "      <td>0.0</td>\n",
       "      <td>0.0</td>\n",
       "      <td>...</td>\n",
       "      <td>8</td>\n",
       "      <td>1680</td>\n",
       "      <td>0.0</td>\n",
       "      <td>1987</td>\n",
       "      <td>0.0</td>\n",
       "      <td>98074</td>\n",
       "      <td>47.6168</td>\n",
       "      <td>-122.045</td>\n",
       "      <td>1800</td>\n",
       "      <td>7503</td>\n",
       "    </tr>\n",
       "    <tr>\n",
       "      <th>3</th>\n",
       "      <td>5</td>\n",
       "      <td>1230000.0</td>\n",
       "      <td>2014-05-12</td>\n",
       "      <td>4</td>\n",
       "      <td>4.50</td>\n",
       "      <td>5420</td>\n",
       "      <td>101930</td>\n",
       "      <td>1.0</td>\n",
       "      <td>0.0</td>\n",
       "      <td>0.0</td>\n",
       "      <td>...</td>\n",
       "      <td>11</td>\n",
       "      <td>3890</td>\n",
       "      <td>1530.0</td>\n",
       "      <td>2001</td>\n",
       "      <td>0.0</td>\n",
       "      <td>98053</td>\n",
       "      <td>47.6561</td>\n",
       "      <td>-122.005</td>\n",
       "      <td>4760</td>\n",
       "      <td>101930</td>\n",
       "    </tr>\n",
       "    <tr>\n",
       "      <th>4</th>\n",
       "      <td>6</td>\n",
       "      <td>257500.0</td>\n",
       "      <td>2014-06-27</td>\n",
       "      <td>3</td>\n",
       "      <td>2.25</td>\n",
       "      <td>1715</td>\n",
       "      <td>6819</td>\n",
       "      <td>2.0</td>\n",
       "      <td>0.0</td>\n",
       "      <td>0.0</td>\n",
       "      <td>...</td>\n",
       "      <td>7</td>\n",
       "      <td>1715</td>\n",
       "      <td>?</td>\n",
       "      <td>1995</td>\n",
       "      <td>0.0</td>\n",
       "      <td>98003</td>\n",
       "      <td>47.3097</td>\n",
       "      <td>-122.327</td>\n",
       "      <td>2238</td>\n",
       "      <td>6819</td>\n",
       "    </tr>\n",
       "  </tbody>\n",
       "</table>\n",
       "<p>5 rows × 21 columns</p>\n",
       "</div>"
      ],
      "text/plain": [
       "   Unnamed: 0      price        date  bedrooms  bathrooms  sqft_living  \\\n",
       "0           1   538000.0  2014-12-09         3       2.25         2570   \n",
       "1           3   604000.0  2014-12-09         4       3.00         1960   \n",
       "2           4   510000.0  2015-02-18         3       2.00         1680   \n",
       "3           5  1230000.0  2014-05-12         4       4.50         5420   \n",
       "4           6   257500.0  2014-06-27         3       2.25         1715   \n",
       "\n",
       "   sqft_lot  floors  waterfront  view  ...  grade  sqft_above  sqft_basement  \\\n",
       "0      7242     2.0         0.0   0.0  ...      7        2170          400.0   \n",
       "1      5000     1.0         0.0   0.0  ...      7        1050          910.0   \n",
       "2      8080     1.0         0.0   0.0  ...      8        1680            0.0   \n",
       "3    101930     1.0         0.0   0.0  ...     11        3890         1530.0   \n",
       "4      6819     2.0         0.0   0.0  ...      7        1715              ?   \n",
       "\n",
       "  yr_built  yr_renovated  zipcode      lat     long  sqft_living15  sqft_lot15  \n",
       "0     1951        1991.0    98125  47.7210 -122.319           1690        7639  \n",
       "1     1965           0.0    98136  47.5208 -122.393           1360        5000  \n",
       "2     1987           0.0    98074  47.6168 -122.045           1800        7503  \n",
       "3     2001           0.0    98053  47.6561 -122.005           4760      101930  \n",
       "4     1995           0.0    98003  47.3097 -122.327           2238        6819  \n",
       "\n",
       "[5 rows x 21 columns]"
      ]
     },
     "execution_count": 4,
     "metadata": {},
     "output_type": "execute_result"
    }
   ],
   "source": [
    "display(data.shape)\n",
    "data.head()"
   ]
  },
  {
   "cell_type": "code",
   "execution_count": null,
   "id": "5830bb5c",
   "metadata": {
    "ExecuteTime": {
     "end_time": "2021-04-23T14:46:39.686551Z",
     "start_time": "2021-04-23T14:46:39.681233Z"
    }
   },
   "outputs": [],
   "source": [
    "def bootstrap(df,column,target,sample_size=300):\n",
    "    unique = df[column].unique()\n",
    "    for val in unique:\n",
    "        samples = []\n",
    "        frame = df[df[column] == val]\n",
    "        for i in range(sample_size):\n",
    "            sample = np.random.choice(frame[target], size = frame.shape[0], replace = True)\n",
    "            samples.append(sample.mean())\n",
    "        plt.hist(samples, label = val, alpha =.7)\n",
    "    plt.legend();"
   ]
  },
  {
   "cell_type": "code",
   "execution_count": null,
   "id": "0065aee9",
   "metadata": {
    "ExecuteTime": {
     "end_time": "2021-04-23T14:46:40.314182Z",
     "start_time": "2021-04-23T14:46:39.688938Z"
    }
   },
   "outputs": [],
   "source": [
    "plt.figure(figsize = (15,6))\n",
    "frame = data[data.bedrooms>4]\n",
    "bootstrap(frame,'bedrooms','price')"
   ]
  },
  {
   "cell_type": "code",
   "execution_count": 5,
   "id": "bbc67041",
   "metadata": {
    "ExecuteTime": {
     "end_time": "2021-04-23T14:49:44.318637Z",
     "start_time": "2021-04-23T14:49:44.313002Z"
    }
   },
   "outputs": [],
   "source": [
    "data = data.drop(columns=['Unnamed: 0'])"
   ]
  },
  {
   "cell_type": "code",
   "execution_count": null,
   "id": "9b5b4875",
   "metadata": {
    "ExecuteTime": {
     "end_time": "2021-04-23T14:46:40.331356Z",
     "start_time": "2021-04-23T14:46:40.326186Z"
    }
   },
   "outputs": [],
   "source": [
    "data = data.drop(columns=['date'])"
   ]
  },
  {
   "cell_type": "code",
   "execution_count": null,
   "id": "5303cdb4",
   "metadata": {
    "ExecuteTime": {
     "end_time": "2021-04-23T14:46:40.340048Z",
     "start_time": "2021-04-23T14:46:40.333908Z"
    }
   },
   "outputs": [],
   "source": [
    "data = data.drop(columns=['lat','long'])"
   ]
  },
  {
   "cell_type": "code",
   "execution_count": 6,
   "id": "642ef52a",
   "metadata": {
    "ExecuteTime": {
     "end_time": "2021-04-23T14:49:47.226256Z",
     "start_time": "2021-04-23T14:49:47.221017Z"
    }
   },
   "outputs": [
    {
     "data": {
      "text/plain": [
       "price            float64\n",
       "date              object\n",
       "bedrooms           int64\n",
       "bathrooms        float64\n",
       "sqft_living        int64\n",
       "sqft_lot           int64\n",
       "floors           float64\n",
       "waterfront       float64\n",
       "view             float64\n",
       "condition          int64\n",
       "grade              int64\n",
       "sqft_above         int64\n",
       "sqft_basement     object\n",
       "yr_built           int64\n",
       "yr_renovated     float64\n",
       "zipcode            int64\n",
       "lat              float64\n",
       "long             float64\n",
       "sqft_living15      int64\n",
       "sqft_lot15         int64\n",
       "dtype: object"
      ]
     },
     "execution_count": 6,
     "metadata": {},
     "output_type": "execute_result"
    }
   ],
   "source": [
    "data.dtypes"
   ]
  },
  {
   "cell_type": "code",
   "execution_count": 7,
   "id": "01b4fd93",
   "metadata": {
    "ExecuteTime": {
     "end_time": "2021-04-23T14:49:51.303965Z",
     "start_time": "2021-04-23T14:49:51.176310Z"
    }
   },
   "outputs": [
    {
     "data": {
      "text/plain": [
       "Series([], Name: yr_renovated, dtype: int64)"
      ]
     },
     "execution_count": 7,
     "metadata": {},
     "output_type": "execute_result"
    }
   ],
   "source": [
    "errors = []\n",
    "for idx in data.index:\n",
    "    try: \n",
    "        float(data.yr_renovated[idx])\n",
    "    except:\n",
    "        errors.append(idx)\n",
    "        \n",
    "data.iloc[errors].yr_renovated.value_counts()"
   ]
  },
  {
   "cell_type": "code",
   "execution_count": 8,
   "id": "0718f3dc",
   "metadata": {
    "ExecuteTime": {
     "end_time": "2021-04-23T14:49:53.839871Z",
     "start_time": "2021-04-23T14:49:53.832811Z"
    }
   },
   "outputs": [],
   "source": [
    "data = data[data.sqft_basement != '?']"
   ]
  },
  {
   "cell_type": "code",
   "execution_count": 9,
   "id": "aa5bdcc0",
   "metadata": {
    "ExecuteTime": {
     "end_time": "2021-04-23T14:49:57.238839Z",
     "start_time": "2021-04-23T14:49:57.231502Z"
    }
   },
   "outputs": [],
   "source": [
    "data['price'] = data['price'].astype(int)\n",
    "data['bathrooms'] = data['bathrooms'].astype(int)\n",
    "data['floors'] = data['floors'].astype(int)\n",
    "data['waterfront'] = data['waterfront'].astype(int)\n",
    "data['view'] = data['view'].astype(int)"
   ]
  },
  {
   "cell_type": "code",
   "execution_count": 10,
   "id": "19c4447f",
   "metadata": {
    "ExecuteTime": {
     "end_time": "2021-04-23T14:50:01.943336Z",
     "start_time": "2021-04-23T14:50:01.934501Z"
    }
   },
   "outputs": [],
   "source": [
    "data['sqft_basement'] = pd.to_numeric(data.sqft_basement, errors=\"coerce\")\n",
    "data['yr_renovated'] = pd.to_numeric(data.yr_renovated, errors=\"coerce\")"
   ]
  },
  {
   "cell_type": "code",
   "execution_count": 11,
   "id": "6be6980f",
   "metadata": {
    "ExecuteTime": {
     "end_time": "2021-04-23T14:50:05.580746Z",
     "start_time": "2021-04-23T14:50:05.576273Z"
    }
   },
   "outputs": [],
   "source": [
    "data['sqft_basement'] = data['sqft_basement'].astype(int)\n",
    "data['yr_renovated'] = data['yr_renovated'].astype(int)"
   ]
  },
  {
   "cell_type": "code",
   "execution_count": 12,
   "id": "8b359c4b",
   "metadata": {
    "ExecuteTime": {
     "end_time": "2021-04-23T14:50:43.729391Z",
     "start_time": "2021-04-23T14:50:43.609341Z"
    }
   },
   "outputs": [],
   "source": [
    "data.to_csv('final_clean_housing_data.csv', index = False)"
   ]
  },
  {
   "cell_type": "markdown",
   "id": "a5ade629",
   "metadata": {},
   "source": [
    "### Outliers\n",
    "\n",
    "For each column, it first computes the Z-score of each value in the column, relative to the column mean and standard deviation.\n",
    "\n",
    "It then takes the absolute Z-score because the direction does not matter, only if it is below the threshold.\n",
    "all(axis=1) ensures that for each row, all column satisfy the constraint.\n",
    "\n",
    "Finally, the result of this condition is used to index the dataframe."
   ]
  },
  {
   "cell_type": "code",
   "execution_count": null,
   "id": "eaf109da",
   "metadata": {
    "ExecuteTime": {
     "end_time": "2021-04-23T14:46:40.623267Z",
     "start_time": "2021-04-23T14:46:40.593177Z"
    }
   },
   "outputs": [],
   "source": [
    "df = pd.DataFrame(data[data.apply(lambda x: np.abs(x - x.mean()) / x.std() < 3).all(axis=1)])"
   ]
  },
  {
   "cell_type": "code",
   "execution_count": null,
   "id": "6754a682",
   "metadata": {
    "ExecuteTime": {
     "end_time": "2021-04-23T14:46:40.672232Z",
     "start_time": "2021-04-23T14:46:40.624900Z"
    }
   },
   "outputs": [],
   "source": [
    "df.describe()"
   ]
  },
  {
   "cell_type": "code",
   "execution_count": null,
   "id": "71e55dda",
   "metadata": {
    "ExecuteTime": {
     "end_time": "2021-04-23T14:46:40.704137Z",
     "start_time": "2021-04-23T14:46:40.673895Z"
    }
   },
   "outputs": [],
   "source": [
    "df_corr = df.corr()\n",
    "df_corr"
   ]
  },
  {
   "cell_type": "code",
   "execution_count": null,
   "id": "6668d940",
   "metadata": {
    "ExecuteTime": {
     "end_time": "2021-04-23T14:46:41.041967Z",
     "start_time": "2021-04-23T14:46:40.706035Z"
    }
   },
   "outputs": [],
   "source": [
    "mask = np.triu(np.ones_like(df_corr, dtype=np.bool))\n",
    "\n",
    "fig1, ax1 = plt.subplots(figsize=(11, 9))\n",
    "sns.heatmap(df_corr, mask=mask, ax=ax1, cmap=\"viridis\");"
   ]
  },
  {
   "cell_type": "code",
   "execution_count": null,
   "id": "33e81f12",
   "metadata": {
    "ExecuteTime": {
     "end_time": "2021-04-23T14:46:41.618813Z",
     "start_time": "2021-04-23T14:46:41.043692Z"
    }
   },
   "outputs": [],
   "source": [
    "df[['price','sqft_above', 'sqft_living','grade','sqft_living15', 'bathrooms']].hist(figsize  = [6, 6]); "
   ]
  },
  {
   "cell_type": "code",
   "execution_count": null,
   "id": "142e6582",
   "metadata": {},
   "outputs": [],
   "source": []
  },
  {
   "cell_type": "markdown",
   "id": "1c8cc04a",
   "metadata": {},
   "source": [
    "### Let's use the following columns: sqft_livingsquare, sqft_above, sqft_lotsquare, grade, sqft_living15 and bathrooms"
   ]
  },
  {
   "cell_type": "code",
   "execution_count": null,
   "id": "ec960dbc",
   "metadata": {
    "ExecuteTime": {
     "end_time": "2021-04-23T14:46:47.338789Z",
     "start_time": "2021-04-23T14:46:41.625297Z"
    }
   },
   "outputs": [],
   "source": [
    "model1_cols = ['price','sqft_above', 'sqft_living','grade','sqft_living15', 'bathrooms']\n",
    "model1 = df[model1_cols]\n",
    "sns.pairplot(model1);"
   ]
  },
  {
   "cell_type": "markdown",
   "id": "1bc1747a",
   "metadata": {},
   "source": [
    "# Model 1 Evaluation:"
   ]
  },
  {
   "cell_type": "code",
   "execution_count": null,
   "id": "dcf74cfa",
   "metadata": {
    "ExecuteTime": {
     "end_time": "2021-04-23T14:46:47.348837Z",
     "start_time": "2021-04-23T14:46:47.343847Z"
    }
   },
   "outputs": [],
   "source": [
    "fsm_df1 = model1.copy()\n",
    "fsm_df1.dropna(inplace=True)"
   ]
  },
  {
   "cell_type": "code",
   "execution_count": null,
   "id": "31017f97",
   "metadata": {
    "ExecuteTime": {
     "end_time": "2021-04-23T14:46:47.375231Z",
     "start_time": "2021-04-23T14:46:47.351351Z"
    }
   },
   "outputs": [],
   "source": [
    "fsm1 = ols(formula =\"price ~ sqft_above + sqft_living + grade + sqft_living15 + bathrooms\", data=fsm_df1)\n",
    "fsm_results1 = fsm1.fit()"
   ]
  },
  {
   "cell_type": "code",
   "execution_count": null,
   "id": "f9d5312a",
   "metadata": {
    "ExecuteTime": {
     "end_time": "2021-04-23T14:46:47.398905Z",
     "start_time": "2021-04-23T14:46:47.377468Z"
    }
   },
   "outputs": [],
   "source": [
    "fsm_results1.summary()"
   ]
  },
  {
   "cell_type": "raw",
   "id": "4712ff4d",
   "metadata": {},
   "source": [
    "sqft_above  - square footage of house apart from basement\n",
    "\n",
    "sqft_livingsquare -  footage of the home\n",
    "\n",
    "grade - overall grade given to the housing unit, based on King County grading system\n",
    "\n",
    "sqft_living15 - The square footage of interior housing living space for the nearest 15 neighbors\n",
    "\n",
    "bathroomsNumber -  of bathrooms/bedrooms"
   ]
  },
  {
   "cell_type": "markdown",
   "id": "4385375f",
   "metadata": {},
   "source": [
    "#  Model 1, Evaluation:\n",
    "\n",
    "We are explaining about 47% of the variance in home price, with 5 features so far and it's statistically significant.\n",
    "\n",
    "According to our model:\n",
    "\n",
    " - A home price is expected to have an average price of ????\n",
    " \n",
    " - For each additional unit of square footage of house apart from basement, we expect the home price to decrease by 58.7990\n",
    " \n",
    " - For each additional unit of footage of the home, we expect the home price to increase by 139.3788\n",
    " \n",
    " - For each additional unit improvement of the overall grade given to the housing unit, we expect the home price to increase by 90,520 \n",
    " \n",
    " - For each additional unit of square footage, of interior housing living space for the nearest 15 neighbors, we expect the home price to increase by 36.1389\n",
    " \n",
    " - For each additional bathrooms, we expect the home price to decrease by -1.363e+04"
   ]
  },
  {
   "cell_type": "markdown",
   "id": "7859b225",
   "metadata": {},
   "source": [
    "## Model 1 - Linearity Check"
   ]
  },
  {
   "cell_type": "code",
   "execution_count": null,
   "id": "44df48df",
   "metadata": {
    "ExecuteTime": {
     "end_time": "2021-04-23T14:46:47.414328Z",
     "start_time": "2021-04-23T14:46:47.403423Z"
    }
   },
   "outputs": [],
   "source": [
    "rainbow_statistic, rainbow_p_value = linear_rainbow(fsm_results1)\n",
    "print(\"Rainbow statistic:\", rainbow_statistic)\n",
    "print(\"Rainbow p-value:\", rainbow_p_value)"
   ]
  },
  {
   "cell_type": "code",
   "execution_count": null,
   "id": "2b4971bc",
   "metadata": {
    "ExecuteTime": {
     "end_time": "2021-04-23T14:46:48.350559Z",
     "start_time": "2021-04-23T14:46:47.416687Z"
    }
   },
   "outputs": [],
   "source": [
    "fig = sm.graphics.plot_partregress_grid(fsm_results1)\n",
    "fig.tight_layout(pad=1.0)"
   ]
  },
  {
   "cell_type": "markdown",
   "id": "f467c2a5",
   "metadata": {},
   "source": [
    "##### The null hypothesis is that the model is linearly predicted by the features, alternative hypothesis is that it is not. \n",
    "\n",
    "##### Thus returning a p-value above .05 means that the current model meets the linearity assumption."
   ]
  },
  {
   "cell_type": "markdown",
   "id": "03708a4b",
   "metadata": {},
   "source": [
    "## Model 1 - Normality Check"
   ]
  },
  {
   "cell_type": "code",
   "execution_count": null,
   "id": "0fcb9e09",
   "metadata": {
    "ExecuteTime": {
     "end_time": "2021-04-23T14:46:48.355161Z",
     "start_time": "2021-04-23T14:46:48.353015Z"
    }
   },
   "outputs": [],
   "source": [
    "# Jarque-Bera (JB): 6482.361\n",
    "# Prob(JB): 0.00"
   ]
  },
  {
   "cell_type": "markdown",
   "id": "ac2dcb11",
   "metadata": {},
   "source": [
    "#### Linear regression assumes that the residuals are normally distributed. The null hypothesis is that the residuals are normally distributed, alternative hypothesis is that they are not. \n",
    "\n",
    "#### Thus returning a low p-value means that the current model violates the normality assumption."
   ]
  },
  {
   "cell_type": "markdown",
   "id": "539acf6e",
   "metadata": {},
   "source": [
    "## Homoscadasticity for Model 1, Pair 1:\n",
    "\n",
    "Linear regression assumes that the variance of the dependent variable is homogeneous across different value of the independent variable(s). \n",
    "\n",
    "We can visualize this by looking at the predicted life expectancy vs. the residuals.\n",
    "\n",
    "The null hypothesis is homoscedasticity, alternative hypothesis is heteroscedasticity. \n",
    "\n",
    "Thus returning a low p-value means that the current model violates the homoscedasticity assumption"
   ]
  },
  {
   "cell_type": "code",
   "execution_count": null,
   "id": "d82ee553",
   "metadata": {
    "ExecuteTime": {
     "end_time": "2021-04-23T14:46:48.362934Z",
     "start_time": "2021-04-23T14:46:48.357222Z"
    }
   },
   "outputs": [],
   "source": [
    "y = fsm_df1[\"price\"]\n",
    "y_hat = fsm_results1.predict()"
   ]
  },
  {
   "cell_type": "code",
   "execution_count": null,
   "id": "522717d6",
   "metadata": {
    "ExecuteTime": {
     "end_time": "2021-04-23T14:46:48.545789Z",
     "start_time": "2021-04-23T14:46:48.364758Z"
    }
   },
   "outputs": [],
   "source": [
    "fig2, ax2 = plt.subplots()\n",
    "ax2.set(xlabel=\"Predicted Home Price\",\n",
    "        ylabel=\"Residuals (Predicted - Actual Home Price)\")\n",
    "ax2.scatter(x = y_hat, y = y_hat-y, color=\"blue\", alpha=0.2);"
   ]
  },
  {
   "cell_type": "code",
   "execution_count": null,
   "id": "5eb7175e",
   "metadata": {
    "ExecuteTime": {
     "end_time": "2021-04-23T14:46:48.557164Z",
     "start_time": "2021-04-23T14:46:48.547486Z"
    }
   },
   "outputs": [],
   "source": [
    "lm, lm_p_value, fvalue, f_p_value = het_breuschpagan(y-y_hat, fsm_df1[['sqft_above', 'sqft_living','grade','sqft_living15', 'bathrooms']])\n",
    "print(\"Lagrange Multiplier p-value:\", lm_p_value)\n",
    "print(\"F-statistic p-value:\", f_p_value)"
   ]
  },
  {
   "cell_type": "markdown",
   "id": "ab6dc9af",
   "metadata": {},
   "source": [
    "The null hypothesis is homoscedasticity, alternative hypothesis is heteroscedasticity. \n",
    "\n",
    "Thus returning a low p-value means that the current model violates the homoscedasticity assumption"
   ]
  },
  {
   "cell_type": "markdown",
   "id": "c53e6d26",
   "metadata": {},
   "source": [
    "## Independence for Model 1:\n",
    "\n",
    "You might have noticed in the regression output that there was a warning about the condition number being high. \n",
    "\n",
    "The condition number is a measure of stability of the matrix used for computing the regression and a number above 30 can indicate strong multicollinearity. \n",
    "\n",
    "Our output was 2.94e+04"
   ]
  },
  {
   "cell_type": "code",
   "execution_count": null,
   "id": "8f5fbca8",
   "metadata": {
    "ExecuteTime": {
     "end_time": "2021-04-23T14:46:48.584398Z",
     "start_time": "2021-04-23T14:46:48.559276Z"
    }
   },
   "outputs": [],
   "source": [
    "rows = fsm_df1[['sqft_above', 'sqft_living','grade','sqft_living15', 'bathrooms']].values\n",
    "\n",
    "vif_df = pd.DataFrame()\n",
    "vif_df[\"VIF\"] = [variance_inflation_factor(rows, i) for i in range(5)]\n",
    "vif_df[\"feature\"] = ['sqft_above', 'sqft_living','grade','sqft_living15', 'bathrooms']\n",
    "\n",
    "vif_df"
   ]
  },
  {
   "cell_type": "markdown",
   "id": "87e208c8",
   "metadata": {},
   "source": [
    "##### A \"rule of thumb\" for VIF is that 5 is too high, so I think it's reasonable to say that we are violating the independence assumption, despite the high condition number."
   ]
  },
  {
   "cell_type": "markdown",
   "id": "6b9bf1d0",
   "metadata": {},
   "source": [
    "# Summary for Model 1:\n",
    "\n",
    "START ..."
   ]
  },
  {
   "cell_type": "code",
   "execution_count": null,
   "id": "9b3859f6",
   "metadata": {},
   "outputs": [],
   "source": []
  }
 ],
 "metadata": {
  "hide_input": false,
  "kernelspec": {
   "display_name": "Python 3",
   "language": "python",
   "name": "python3"
  },
  "language_info": {
   "codemirror_mode": {
    "name": "ipython",
    "version": 3
   },
   "file_extension": ".py",
   "mimetype": "text/x-python",
   "name": "python",
   "nbconvert_exporter": "python",
   "pygments_lexer": "ipython3",
   "version": "3.8.8"
  },
  "varInspector": {
   "cols": {
    "lenName": 16,
    "lenType": 16,
    "lenVar": 40
   },
   "kernels_config": {
    "python": {
     "delete_cmd_postfix": "",
     "delete_cmd_prefix": "del ",
     "library": "var_list.py",
     "varRefreshCmd": "print(var_dic_list())"
    },
    "r": {
     "delete_cmd_postfix": ") ",
     "delete_cmd_prefix": "rm(",
     "library": "var_list.r",
     "varRefreshCmd": "cat(var_dic_list()) "
    }
   },
   "types_to_exclude": [
    "module",
    "function",
    "builtin_function_or_method",
    "instance",
    "_Feature"
   ],
   "window_display": false
  }
 },
 "nbformat": 4,
 "nbformat_minor": 5
}
