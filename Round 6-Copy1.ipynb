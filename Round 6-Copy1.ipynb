{
 "cells": [
  {
   "cell_type": "code",
   "execution_count": 1,
   "id": "679f8944",
   "metadata": {
    "ExecuteTime": {
     "end_time": "2021-04-30T03:31:27.856969Z",
     "start_time": "2021-04-30T03:31:22.364179Z"
    }
   },
   "outputs": [],
   "source": [
    "import numpy as np\n",
    "import scipy.stats as stats\n",
    "import pandas as pd\n",
    "import matplotlib.pyplot as plt\n",
    "%matplotlib inline\n",
    "import seaborn as sns\n",
    "sns.set_style('darkgrid')\n",
    "\n",
    "import statsmodels.api as sm\n",
    "from statsmodels.formula.api import ols\n",
    "from statsmodels.stats.diagnostic import linear_rainbow, het_breuschpagan\n",
    "from statsmodels.stats.outliers_influence import variance_inflation_factor\n",
    "\n",
    "from sklearn.preprocessing import LabelEncoder"
   ]
  },
  {
   "cell_type": "code",
   "execution_count": 2,
   "id": "5872e83a",
   "metadata": {
    "ExecuteTime": {
     "end_time": "2021-04-30T03:31:28.001249Z",
     "start_time": "2021-04-30T03:31:27.870992Z"
    }
   },
   "outputs": [
    {
     "name": "stdout",
     "output_type": "stream",
     "text": [
      "CONTRIBUTING.md      Round 3.....ipynb    Untitled.ipynb\r\n",
      "LICENSE.md           Round 4.ipynb        \u001b[34mdata\u001b[m\u001b[m/\r\n",
      "README.md            Round 5.ipynb        halfway-there.gif\r\n",
      "Round 1.ipynb        Round 6-Copy1.ipynb\r\n",
      "Round 2.....ipynb    Round 6.ipynb\r\n"
     ]
    }
   ],
   "source": [
    "ls"
   ]
  },
  {
   "cell_type": "code",
   "execution_count": 3,
   "id": "9819c715",
   "metadata": {
    "ExecuteTime": {
     "end_time": "2021-04-30T03:31:28.097221Z",
     "start_time": "2021-04-30T03:31:28.019103Z"
    }
   },
   "outputs": [],
   "source": [
    "data = pd.read_csv(\"data/kc_house_data.csv\")"
   ]
  },
  {
   "cell_type": "code",
   "execution_count": 4,
   "id": "eb8afcd2",
   "metadata": {
    "ExecuteTime": {
     "end_time": "2021-04-30T03:31:29.453687Z",
     "start_time": "2021-04-30T03:31:29.418547Z"
    }
   },
   "outputs": [
    {
     "data": {
      "text/html": [
       "<div>\n",
       "<style scoped>\n",
       "    .dataframe tbody tr th:only-of-type {\n",
       "        vertical-align: middle;\n",
       "    }\n",
       "\n",
       "    .dataframe tbody tr th {\n",
       "        vertical-align: top;\n",
       "    }\n",
       "\n",
       "    .dataframe thead th {\n",
       "        text-align: right;\n",
       "    }\n",
       "</style>\n",
       "<table border=\"1\" class=\"dataframe\">\n",
       "  <thead>\n",
       "    <tr style=\"text-align: right;\">\n",
       "      <th></th>\n",
       "      <th>id</th>\n",
       "      <th>date</th>\n",
       "      <th>price</th>\n",
       "      <th>bedrooms</th>\n",
       "      <th>bathrooms</th>\n",
       "      <th>sqft_living</th>\n",
       "      <th>sqft_lot</th>\n",
       "      <th>floors</th>\n",
       "      <th>waterfront</th>\n",
       "      <th>view</th>\n",
       "      <th>...</th>\n",
       "      <th>grade</th>\n",
       "      <th>sqft_above</th>\n",
       "      <th>sqft_basement</th>\n",
       "      <th>yr_built</th>\n",
       "      <th>yr_renovated</th>\n",
       "      <th>zipcode</th>\n",
       "      <th>lat</th>\n",
       "      <th>long</th>\n",
       "      <th>sqft_living15</th>\n",
       "      <th>sqft_lot15</th>\n",
       "    </tr>\n",
       "  </thead>\n",
       "  <tbody>\n",
       "    <tr>\n",
       "      <th>0</th>\n",
       "      <td>7129300520</td>\n",
       "      <td>10/13/2014</td>\n",
       "      <td>221900.0</td>\n",
       "      <td>3</td>\n",
       "      <td>1.00</td>\n",
       "      <td>1180</td>\n",
       "      <td>5650</td>\n",
       "      <td>1.0</td>\n",
       "      <td>NaN</td>\n",
       "      <td>0.0</td>\n",
       "      <td>...</td>\n",
       "      <td>7</td>\n",
       "      <td>1180</td>\n",
       "      <td>0.0</td>\n",
       "      <td>1955</td>\n",
       "      <td>0.0</td>\n",
       "      <td>98178</td>\n",
       "      <td>47.5112</td>\n",
       "      <td>-122.257</td>\n",
       "      <td>1340</td>\n",
       "      <td>5650</td>\n",
       "    </tr>\n",
       "    <tr>\n",
       "      <th>1</th>\n",
       "      <td>6414100192</td>\n",
       "      <td>12/9/2014</td>\n",
       "      <td>538000.0</td>\n",
       "      <td>3</td>\n",
       "      <td>2.25</td>\n",
       "      <td>2570</td>\n",
       "      <td>7242</td>\n",
       "      <td>2.0</td>\n",
       "      <td>0.0</td>\n",
       "      <td>0.0</td>\n",
       "      <td>...</td>\n",
       "      <td>7</td>\n",
       "      <td>2170</td>\n",
       "      <td>400.0</td>\n",
       "      <td>1951</td>\n",
       "      <td>1991.0</td>\n",
       "      <td>98125</td>\n",
       "      <td>47.7210</td>\n",
       "      <td>-122.319</td>\n",
       "      <td>1690</td>\n",
       "      <td>7639</td>\n",
       "    </tr>\n",
       "    <tr>\n",
       "      <th>2</th>\n",
       "      <td>5631500400</td>\n",
       "      <td>2/25/2015</td>\n",
       "      <td>180000.0</td>\n",
       "      <td>2</td>\n",
       "      <td>1.00</td>\n",
       "      <td>770</td>\n",
       "      <td>10000</td>\n",
       "      <td>1.0</td>\n",
       "      <td>0.0</td>\n",
       "      <td>0.0</td>\n",
       "      <td>...</td>\n",
       "      <td>6</td>\n",
       "      <td>770</td>\n",
       "      <td>0.0</td>\n",
       "      <td>1933</td>\n",
       "      <td>NaN</td>\n",
       "      <td>98028</td>\n",
       "      <td>47.7379</td>\n",
       "      <td>-122.233</td>\n",
       "      <td>2720</td>\n",
       "      <td>8062</td>\n",
       "    </tr>\n",
       "    <tr>\n",
       "      <th>3</th>\n",
       "      <td>2487200875</td>\n",
       "      <td>12/9/2014</td>\n",
       "      <td>604000.0</td>\n",
       "      <td>4</td>\n",
       "      <td>3.00</td>\n",
       "      <td>1960</td>\n",
       "      <td>5000</td>\n",
       "      <td>1.0</td>\n",
       "      <td>0.0</td>\n",
       "      <td>0.0</td>\n",
       "      <td>...</td>\n",
       "      <td>7</td>\n",
       "      <td>1050</td>\n",
       "      <td>910.0</td>\n",
       "      <td>1965</td>\n",
       "      <td>0.0</td>\n",
       "      <td>98136</td>\n",
       "      <td>47.5208</td>\n",
       "      <td>-122.393</td>\n",
       "      <td>1360</td>\n",
       "      <td>5000</td>\n",
       "    </tr>\n",
       "    <tr>\n",
       "      <th>4</th>\n",
       "      <td>1954400510</td>\n",
       "      <td>2/18/2015</td>\n",
       "      <td>510000.0</td>\n",
       "      <td>3</td>\n",
       "      <td>2.00</td>\n",
       "      <td>1680</td>\n",
       "      <td>8080</td>\n",
       "      <td>1.0</td>\n",
       "      <td>0.0</td>\n",
       "      <td>0.0</td>\n",
       "      <td>...</td>\n",
       "      <td>8</td>\n",
       "      <td>1680</td>\n",
       "      <td>0.0</td>\n",
       "      <td>1987</td>\n",
       "      <td>0.0</td>\n",
       "      <td>98074</td>\n",
       "      <td>47.6168</td>\n",
       "      <td>-122.045</td>\n",
       "      <td>1800</td>\n",
       "      <td>7503</td>\n",
       "    </tr>\n",
       "  </tbody>\n",
       "</table>\n",
       "<p>5 rows × 21 columns</p>\n",
       "</div>"
      ],
      "text/plain": [
       "           id        date     price  bedrooms  bathrooms  sqft_living  \\\n",
       "0  7129300520  10/13/2014  221900.0         3       1.00         1180   \n",
       "1  6414100192   12/9/2014  538000.0         3       2.25         2570   \n",
       "2  5631500400   2/25/2015  180000.0         2       1.00          770   \n",
       "3  2487200875   12/9/2014  604000.0         4       3.00         1960   \n",
       "4  1954400510   2/18/2015  510000.0         3       2.00         1680   \n",
       "\n",
       "   sqft_lot  floors  waterfront  view  ...  grade  sqft_above  sqft_basement  \\\n",
       "0      5650     1.0         NaN   0.0  ...      7        1180            0.0   \n",
       "1      7242     2.0         0.0   0.0  ...      7        2170          400.0   \n",
       "2     10000     1.0         0.0   0.0  ...      6         770            0.0   \n",
       "3      5000     1.0         0.0   0.0  ...      7        1050          910.0   \n",
       "4      8080     1.0         0.0   0.0  ...      8        1680            0.0   \n",
       "\n",
       "  yr_built  yr_renovated  zipcode      lat     long  sqft_living15  sqft_lot15  \n",
       "0     1955           0.0    98178  47.5112 -122.257           1340        5650  \n",
       "1     1951        1991.0    98125  47.7210 -122.319           1690        7639  \n",
       "2     1933           NaN    98028  47.7379 -122.233           2720        8062  \n",
       "3     1965           0.0    98136  47.5208 -122.393           1360        5000  \n",
       "4     1987           0.0    98074  47.6168 -122.045           1800        7503  \n",
       "\n",
       "[5 rows x 21 columns]"
      ]
     },
     "execution_count": 4,
     "metadata": {},
     "output_type": "execute_result"
    }
   ],
   "source": [
    "data.head()"
   ]
  },
  {
   "cell_type": "code",
   "execution_count": 5,
   "id": "b1804838",
   "metadata": {
    "ExecuteTime": {
     "end_time": "2021-04-30T03:31:31.625369Z",
     "start_time": "2021-04-30T03:31:31.551697Z"
    }
   },
   "outputs": [
    {
     "data": {
      "text/html": [
       "<div>\n",
       "<style scoped>\n",
       "    .dataframe tbody tr th:only-of-type {\n",
       "        vertical-align: middle;\n",
       "    }\n",
       "\n",
       "    .dataframe tbody tr th {\n",
       "        vertical-align: top;\n",
       "    }\n",
       "\n",
       "    .dataframe thead th {\n",
       "        text-align: right;\n",
       "    }\n",
       "</style>\n",
       "<table border=\"1\" class=\"dataframe\">\n",
       "  <thead>\n",
       "    <tr style=\"text-align: right;\">\n",
       "      <th></th>\n",
       "      <th>id</th>\n",
       "      <th>price</th>\n",
       "      <th>bedrooms</th>\n",
       "      <th>bathrooms</th>\n",
       "      <th>sqft_living</th>\n",
       "      <th>sqft_lot</th>\n",
       "      <th>floors</th>\n",
       "      <th>waterfront</th>\n",
       "      <th>view</th>\n",
       "      <th>condition</th>\n",
       "      <th>grade</th>\n",
       "      <th>sqft_above</th>\n",
       "      <th>yr_built</th>\n",
       "      <th>yr_renovated</th>\n",
       "      <th>zipcode</th>\n",
       "      <th>lat</th>\n",
       "      <th>long</th>\n",
       "      <th>sqft_living15</th>\n",
       "      <th>sqft_lot15</th>\n",
       "    </tr>\n",
       "  </thead>\n",
       "  <tbody>\n",
       "    <tr>\n",
       "      <th>count</th>\n",
       "      <td>2.159700e+04</td>\n",
       "      <td>2.159700e+04</td>\n",
       "      <td>21597.000000</td>\n",
       "      <td>21597.000000</td>\n",
       "      <td>21597.000000</td>\n",
       "      <td>2.159700e+04</td>\n",
       "      <td>21597.000000</td>\n",
       "      <td>19221.000000</td>\n",
       "      <td>21534.000000</td>\n",
       "      <td>21597.000000</td>\n",
       "      <td>21597.000000</td>\n",
       "      <td>21597.000000</td>\n",
       "      <td>21597.000000</td>\n",
       "      <td>17755.000000</td>\n",
       "      <td>21597.000000</td>\n",
       "      <td>21597.000000</td>\n",
       "      <td>21597.000000</td>\n",
       "      <td>21597.000000</td>\n",
       "      <td>21597.000000</td>\n",
       "    </tr>\n",
       "    <tr>\n",
       "      <th>mean</th>\n",
       "      <td>4.580474e+09</td>\n",
       "      <td>5.402966e+05</td>\n",
       "      <td>3.373200</td>\n",
       "      <td>2.115826</td>\n",
       "      <td>2080.321850</td>\n",
       "      <td>1.509941e+04</td>\n",
       "      <td>1.494096</td>\n",
       "      <td>0.007596</td>\n",
       "      <td>0.233863</td>\n",
       "      <td>3.409825</td>\n",
       "      <td>7.657915</td>\n",
       "      <td>1788.596842</td>\n",
       "      <td>1970.999676</td>\n",
       "      <td>83.636778</td>\n",
       "      <td>98077.951845</td>\n",
       "      <td>47.560093</td>\n",
       "      <td>-122.213982</td>\n",
       "      <td>1986.620318</td>\n",
       "      <td>12758.283512</td>\n",
       "    </tr>\n",
       "    <tr>\n",
       "      <th>std</th>\n",
       "      <td>2.876736e+09</td>\n",
       "      <td>3.673681e+05</td>\n",
       "      <td>0.926299</td>\n",
       "      <td>0.768984</td>\n",
       "      <td>918.106125</td>\n",
       "      <td>4.141264e+04</td>\n",
       "      <td>0.539683</td>\n",
       "      <td>0.086825</td>\n",
       "      <td>0.765686</td>\n",
       "      <td>0.650546</td>\n",
       "      <td>1.173200</td>\n",
       "      <td>827.759761</td>\n",
       "      <td>29.375234</td>\n",
       "      <td>399.946414</td>\n",
       "      <td>53.513072</td>\n",
       "      <td>0.138552</td>\n",
       "      <td>0.140724</td>\n",
       "      <td>685.230472</td>\n",
       "      <td>27274.441950</td>\n",
       "    </tr>\n",
       "    <tr>\n",
       "      <th>min</th>\n",
       "      <td>1.000102e+06</td>\n",
       "      <td>7.800000e+04</td>\n",
       "      <td>1.000000</td>\n",
       "      <td>0.500000</td>\n",
       "      <td>370.000000</td>\n",
       "      <td>5.200000e+02</td>\n",
       "      <td>1.000000</td>\n",
       "      <td>0.000000</td>\n",
       "      <td>0.000000</td>\n",
       "      <td>1.000000</td>\n",
       "      <td>3.000000</td>\n",
       "      <td>370.000000</td>\n",
       "      <td>1900.000000</td>\n",
       "      <td>0.000000</td>\n",
       "      <td>98001.000000</td>\n",
       "      <td>47.155900</td>\n",
       "      <td>-122.519000</td>\n",
       "      <td>399.000000</td>\n",
       "      <td>651.000000</td>\n",
       "    </tr>\n",
       "    <tr>\n",
       "      <th>25%</th>\n",
       "      <td>2.123049e+09</td>\n",
       "      <td>3.220000e+05</td>\n",
       "      <td>3.000000</td>\n",
       "      <td>1.750000</td>\n",
       "      <td>1430.000000</td>\n",
       "      <td>5.040000e+03</td>\n",
       "      <td>1.000000</td>\n",
       "      <td>0.000000</td>\n",
       "      <td>0.000000</td>\n",
       "      <td>3.000000</td>\n",
       "      <td>7.000000</td>\n",
       "      <td>1190.000000</td>\n",
       "      <td>1951.000000</td>\n",
       "      <td>0.000000</td>\n",
       "      <td>98033.000000</td>\n",
       "      <td>47.471100</td>\n",
       "      <td>-122.328000</td>\n",
       "      <td>1490.000000</td>\n",
       "      <td>5100.000000</td>\n",
       "    </tr>\n",
       "    <tr>\n",
       "      <th>50%</th>\n",
       "      <td>3.904930e+09</td>\n",
       "      <td>4.500000e+05</td>\n",
       "      <td>3.000000</td>\n",
       "      <td>2.250000</td>\n",
       "      <td>1910.000000</td>\n",
       "      <td>7.618000e+03</td>\n",
       "      <td>1.500000</td>\n",
       "      <td>0.000000</td>\n",
       "      <td>0.000000</td>\n",
       "      <td>3.000000</td>\n",
       "      <td>7.000000</td>\n",
       "      <td>1560.000000</td>\n",
       "      <td>1975.000000</td>\n",
       "      <td>0.000000</td>\n",
       "      <td>98065.000000</td>\n",
       "      <td>47.571800</td>\n",
       "      <td>-122.231000</td>\n",
       "      <td>1840.000000</td>\n",
       "      <td>7620.000000</td>\n",
       "    </tr>\n",
       "    <tr>\n",
       "      <th>75%</th>\n",
       "      <td>7.308900e+09</td>\n",
       "      <td>6.450000e+05</td>\n",
       "      <td>4.000000</td>\n",
       "      <td>2.500000</td>\n",
       "      <td>2550.000000</td>\n",
       "      <td>1.068500e+04</td>\n",
       "      <td>2.000000</td>\n",
       "      <td>0.000000</td>\n",
       "      <td>0.000000</td>\n",
       "      <td>4.000000</td>\n",
       "      <td>8.000000</td>\n",
       "      <td>2210.000000</td>\n",
       "      <td>1997.000000</td>\n",
       "      <td>0.000000</td>\n",
       "      <td>98118.000000</td>\n",
       "      <td>47.678000</td>\n",
       "      <td>-122.125000</td>\n",
       "      <td>2360.000000</td>\n",
       "      <td>10083.000000</td>\n",
       "    </tr>\n",
       "    <tr>\n",
       "      <th>max</th>\n",
       "      <td>9.900000e+09</td>\n",
       "      <td>7.700000e+06</td>\n",
       "      <td>33.000000</td>\n",
       "      <td>8.000000</td>\n",
       "      <td>13540.000000</td>\n",
       "      <td>1.651359e+06</td>\n",
       "      <td>3.500000</td>\n",
       "      <td>1.000000</td>\n",
       "      <td>4.000000</td>\n",
       "      <td>5.000000</td>\n",
       "      <td>13.000000</td>\n",
       "      <td>9410.000000</td>\n",
       "      <td>2015.000000</td>\n",
       "      <td>2015.000000</td>\n",
       "      <td>98199.000000</td>\n",
       "      <td>47.777600</td>\n",
       "      <td>-121.315000</td>\n",
       "      <td>6210.000000</td>\n",
       "      <td>871200.000000</td>\n",
       "    </tr>\n",
       "  </tbody>\n",
       "</table>\n",
       "</div>"
      ],
      "text/plain": [
       "                 id         price      bedrooms     bathrooms   sqft_living  \\\n",
       "count  2.159700e+04  2.159700e+04  21597.000000  21597.000000  21597.000000   \n",
       "mean   4.580474e+09  5.402966e+05      3.373200      2.115826   2080.321850   \n",
       "std    2.876736e+09  3.673681e+05      0.926299      0.768984    918.106125   \n",
       "min    1.000102e+06  7.800000e+04      1.000000      0.500000    370.000000   \n",
       "25%    2.123049e+09  3.220000e+05      3.000000      1.750000   1430.000000   \n",
       "50%    3.904930e+09  4.500000e+05      3.000000      2.250000   1910.000000   \n",
       "75%    7.308900e+09  6.450000e+05      4.000000      2.500000   2550.000000   \n",
       "max    9.900000e+09  7.700000e+06     33.000000      8.000000  13540.000000   \n",
       "\n",
       "           sqft_lot        floors    waterfront          view     condition  \\\n",
       "count  2.159700e+04  21597.000000  19221.000000  21534.000000  21597.000000   \n",
       "mean   1.509941e+04      1.494096      0.007596      0.233863      3.409825   \n",
       "std    4.141264e+04      0.539683      0.086825      0.765686      0.650546   \n",
       "min    5.200000e+02      1.000000      0.000000      0.000000      1.000000   \n",
       "25%    5.040000e+03      1.000000      0.000000      0.000000      3.000000   \n",
       "50%    7.618000e+03      1.500000      0.000000      0.000000      3.000000   \n",
       "75%    1.068500e+04      2.000000      0.000000      0.000000      4.000000   \n",
       "max    1.651359e+06      3.500000      1.000000      4.000000      5.000000   \n",
       "\n",
       "              grade    sqft_above      yr_built  yr_renovated       zipcode  \\\n",
       "count  21597.000000  21597.000000  21597.000000  17755.000000  21597.000000   \n",
       "mean       7.657915   1788.596842   1970.999676     83.636778  98077.951845   \n",
       "std        1.173200    827.759761     29.375234    399.946414     53.513072   \n",
       "min        3.000000    370.000000   1900.000000      0.000000  98001.000000   \n",
       "25%        7.000000   1190.000000   1951.000000      0.000000  98033.000000   \n",
       "50%        7.000000   1560.000000   1975.000000      0.000000  98065.000000   \n",
       "75%        8.000000   2210.000000   1997.000000      0.000000  98118.000000   \n",
       "max       13.000000   9410.000000   2015.000000   2015.000000  98199.000000   \n",
       "\n",
       "                lat          long  sqft_living15     sqft_lot15  \n",
       "count  21597.000000  21597.000000   21597.000000   21597.000000  \n",
       "mean      47.560093   -122.213982    1986.620318   12758.283512  \n",
       "std        0.138552      0.140724     685.230472   27274.441950  \n",
       "min       47.155900   -122.519000     399.000000     651.000000  \n",
       "25%       47.471100   -122.328000    1490.000000    5100.000000  \n",
       "50%       47.571800   -122.231000    1840.000000    7620.000000  \n",
       "75%       47.678000   -122.125000    2360.000000   10083.000000  \n",
       "max       47.777600   -121.315000    6210.000000  871200.000000  "
      ]
     },
     "execution_count": 5,
     "metadata": {},
     "output_type": "execute_result"
    }
   ],
   "source": [
    "data.describe()"
   ]
  },
  {
   "cell_type": "code",
   "execution_count": 6,
   "id": "fac0e461",
   "metadata": {
    "ExecuteTime": {
     "end_time": "2021-04-30T03:31:34.748565Z",
     "start_time": "2021-04-30T03:31:34.743475Z"
    }
   },
   "outputs": [],
   "source": [
    "data = data.reset_index()"
   ]
  },
  {
   "cell_type": "code",
   "execution_count": 7,
   "id": "88bebd3d",
   "metadata": {
    "ExecuteTime": {
     "end_time": "2021-04-30T03:31:36.726312Z",
     "start_time": "2021-04-30T03:31:36.722065Z"
    }
   },
   "outputs": [
    {
     "data": {
      "text/plain": [
       "['index',\n",
       " 'id',\n",
       " 'date',\n",
       " 'price',\n",
       " 'bedrooms',\n",
       " 'bathrooms',\n",
       " 'sqft_living',\n",
       " 'sqft_lot',\n",
       " 'floors',\n",
       " 'waterfront',\n",
       " 'view',\n",
       " 'condition',\n",
       " 'grade',\n",
       " 'sqft_above',\n",
       " 'sqft_basement',\n",
       " 'yr_built',\n",
       " 'yr_renovated',\n",
       " 'zipcode',\n",
       " 'lat',\n",
       " 'long',\n",
       " 'sqft_living15',\n",
       " 'sqft_lot15']"
      ]
     },
     "execution_count": 7,
     "metadata": {},
     "output_type": "execute_result"
    }
   ],
   "source": [
    "columns = data.columns.to_list()\n",
    "columns"
   ]
  },
  {
   "cell_type": "code",
   "execution_count": 8,
   "id": "137e3da1",
   "metadata": {
    "ExecuteTime": {
     "end_time": "2021-04-30T03:31:40.062840Z",
     "start_time": "2021-04-30T03:31:40.059754Z"
    }
   },
   "outputs": [],
   "source": [
    "data.columns = data.columns.str.replace(' ', '')"
   ]
  },
  {
   "cell_type": "code",
   "execution_count": 9,
   "id": "0bbc3ed8",
   "metadata": {
    "ExecuteTime": {
     "end_time": "2021-04-30T03:31:41.672754Z",
     "start_time": "2021-04-30T03:31:41.665176Z"
    }
   },
   "outputs": [],
   "source": [
    "data = data.drop(columns=['index', 'id'])"
   ]
  },
  {
   "cell_type": "code",
   "execution_count": 10,
   "id": "22e708dd",
   "metadata": {
    "ExecuteTime": {
     "end_time": "2021-04-29T17:10:53.979567Z",
     "start_time": "2021-04-29T17:10:53.975031Z"
    }
   },
   "outputs": [],
   "source": [
    "cols = list(data.columns)\n",
    "cols = [cols[1]] + cols[:1] + cols[2:]\n",
    "data = data[cols]"
   ]
  },
  {
   "cell_type": "code",
   "execution_count": 11,
   "id": "f4d9de5e",
   "metadata": {
    "ExecuteTime": {
     "end_time": "2021-04-29T17:10:53.987190Z",
     "start_time": "2021-04-29T17:10:53.982347Z"
    }
   },
   "outputs": [
    {
     "data": {
      "text/plain": [
       "(21597, 18)"
      ]
     },
     "execution_count": 11,
     "metadata": {},
     "output_type": "execute_result"
    }
   ],
   "source": [
    "data.shape"
   ]
  },
  {
   "cell_type": "code",
   "execution_count": 12,
   "id": "ac45504d",
   "metadata": {
    "ExecuteTime": {
     "end_time": "2021-04-29T17:10:53.997542Z",
     "start_time": "2021-04-29T17:10:53.990133Z"
    }
   },
   "outputs": [
    {
     "data": {
      "text/plain": [
       "price            float64\n",
       "date              object\n",
       "bedrooms           int64\n",
       "bathrooms        float64\n",
       "sqft_living        int64\n",
       "sqft_lot           int64\n",
       "floors           float64\n",
       "waterfront       float64\n",
       "view             float64\n",
       "condition          int64\n",
       "grade              int64\n",
       "sqft_above         int64\n",
       "sqft_basement     object\n",
       "yr_built           int64\n",
       "yr_renovated     float64\n",
       "zipcode            int64\n",
       "sqft_living15      int64\n",
       "sqft_lot15         int64\n",
       "dtype: object"
      ]
     },
     "execution_count": 12,
     "metadata": {},
     "output_type": "execute_result"
    }
   ],
   "source": [
    "data.dtypes"
   ]
  },
  {
   "cell_type": "markdown",
   "id": "f92ea3b1",
   "metadata": {},
   "source": [
    "### Need to check on possibly modification of data types for the following columns:\n",
    "\n",
    "1.) sqft_basement\n",
    "\n",
    "2.) date"
   ]
  },
  {
   "cell_type": "code",
   "execution_count": 13,
   "id": "5f4ca74d",
   "metadata": {
    "ExecuteTime": {
     "end_time": "2021-04-29T17:10:54.070787Z",
     "start_time": "2021-04-29T17:10:54.000830Z"
    }
   },
   "outputs": [
    {
     "data": {
      "text/html": [
       "<div>\n",
       "<style scoped>\n",
       "    .dataframe tbody tr th:only-of-type {\n",
       "        vertical-align: middle;\n",
       "    }\n",
       "\n",
       "    .dataframe tbody tr th {\n",
       "        vertical-align: top;\n",
       "    }\n",
       "\n",
       "    .dataframe thead th {\n",
       "        text-align: right;\n",
       "    }\n",
       "</style>\n",
       "<table border=\"1\" class=\"dataframe\">\n",
       "  <thead>\n",
       "    <tr style=\"text-align: right;\">\n",
       "      <th></th>\n",
       "      <th>price</th>\n",
       "      <th>bedrooms</th>\n",
       "      <th>bathrooms</th>\n",
       "      <th>sqft_living</th>\n",
       "      <th>sqft_lot</th>\n",
       "      <th>floors</th>\n",
       "      <th>waterfront</th>\n",
       "      <th>view</th>\n",
       "      <th>condition</th>\n",
       "      <th>grade</th>\n",
       "      <th>sqft_above</th>\n",
       "      <th>yr_built</th>\n",
       "      <th>yr_renovated</th>\n",
       "      <th>zipcode</th>\n",
       "      <th>sqft_living15</th>\n",
       "      <th>sqft_lot15</th>\n",
       "    </tr>\n",
       "  </thead>\n",
       "  <tbody>\n",
       "    <tr>\n",
       "      <th>count</th>\n",
       "      <td>2.159700e+04</td>\n",
       "      <td>21597.000000</td>\n",
       "      <td>21597.000000</td>\n",
       "      <td>21597.000000</td>\n",
       "      <td>2.159700e+04</td>\n",
       "      <td>21597.000000</td>\n",
       "      <td>19221.000000</td>\n",
       "      <td>21534.000000</td>\n",
       "      <td>21597.000000</td>\n",
       "      <td>21597.000000</td>\n",
       "      <td>21597.000000</td>\n",
       "      <td>21597.000000</td>\n",
       "      <td>17755.000000</td>\n",
       "      <td>21597.000000</td>\n",
       "      <td>21597.000000</td>\n",
       "      <td>21597.000000</td>\n",
       "    </tr>\n",
       "    <tr>\n",
       "      <th>mean</th>\n",
       "      <td>5.402966e+05</td>\n",
       "      <td>3.373200</td>\n",
       "      <td>2.115826</td>\n",
       "      <td>2080.321850</td>\n",
       "      <td>1.509941e+04</td>\n",
       "      <td>1.494096</td>\n",
       "      <td>0.007596</td>\n",
       "      <td>0.233863</td>\n",
       "      <td>3.409825</td>\n",
       "      <td>7.657915</td>\n",
       "      <td>1788.596842</td>\n",
       "      <td>1970.999676</td>\n",
       "      <td>83.636778</td>\n",
       "      <td>98077.951845</td>\n",
       "      <td>1986.620318</td>\n",
       "      <td>12758.283512</td>\n",
       "    </tr>\n",
       "    <tr>\n",
       "      <th>std</th>\n",
       "      <td>3.673681e+05</td>\n",
       "      <td>0.926299</td>\n",
       "      <td>0.768984</td>\n",
       "      <td>918.106125</td>\n",
       "      <td>4.141264e+04</td>\n",
       "      <td>0.539683</td>\n",
       "      <td>0.086825</td>\n",
       "      <td>0.765686</td>\n",
       "      <td>0.650546</td>\n",
       "      <td>1.173200</td>\n",
       "      <td>827.759761</td>\n",
       "      <td>29.375234</td>\n",
       "      <td>399.946414</td>\n",
       "      <td>53.513072</td>\n",
       "      <td>685.230472</td>\n",
       "      <td>27274.441950</td>\n",
       "    </tr>\n",
       "    <tr>\n",
       "      <th>min</th>\n",
       "      <td>7.800000e+04</td>\n",
       "      <td>1.000000</td>\n",
       "      <td>0.500000</td>\n",
       "      <td>370.000000</td>\n",
       "      <td>5.200000e+02</td>\n",
       "      <td>1.000000</td>\n",
       "      <td>0.000000</td>\n",
       "      <td>0.000000</td>\n",
       "      <td>1.000000</td>\n",
       "      <td>3.000000</td>\n",
       "      <td>370.000000</td>\n",
       "      <td>1900.000000</td>\n",
       "      <td>0.000000</td>\n",
       "      <td>98001.000000</td>\n",
       "      <td>399.000000</td>\n",
       "      <td>651.000000</td>\n",
       "    </tr>\n",
       "    <tr>\n",
       "      <th>25%</th>\n",
       "      <td>3.220000e+05</td>\n",
       "      <td>3.000000</td>\n",
       "      <td>1.750000</td>\n",
       "      <td>1430.000000</td>\n",
       "      <td>5.040000e+03</td>\n",
       "      <td>1.000000</td>\n",
       "      <td>0.000000</td>\n",
       "      <td>0.000000</td>\n",
       "      <td>3.000000</td>\n",
       "      <td>7.000000</td>\n",
       "      <td>1190.000000</td>\n",
       "      <td>1951.000000</td>\n",
       "      <td>0.000000</td>\n",
       "      <td>98033.000000</td>\n",
       "      <td>1490.000000</td>\n",
       "      <td>5100.000000</td>\n",
       "    </tr>\n",
       "    <tr>\n",
       "      <th>50%</th>\n",
       "      <td>4.500000e+05</td>\n",
       "      <td>3.000000</td>\n",
       "      <td>2.250000</td>\n",
       "      <td>1910.000000</td>\n",
       "      <td>7.618000e+03</td>\n",
       "      <td>1.500000</td>\n",
       "      <td>0.000000</td>\n",
       "      <td>0.000000</td>\n",
       "      <td>3.000000</td>\n",
       "      <td>7.000000</td>\n",
       "      <td>1560.000000</td>\n",
       "      <td>1975.000000</td>\n",
       "      <td>0.000000</td>\n",
       "      <td>98065.000000</td>\n",
       "      <td>1840.000000</td>\n",
       "      <td>7620.000000</td>\n",
       "    </tr>\n",
       "    <tr>\n",
       "      <th>75%</th>\n",
       "      <td>6.450000e+05</td>\n",
       "      <td>4.000000</td>\n",
       "      <td>2.500000</td>\n",
       "      <td>2550.000000</td>\n",
       "      <td>1.068500e+04</td>\n",
       "      <td>2.000000</td>\n",
       "      <td>0.000000</td>\n",
       "      <td>0.000000</td>\n",
       "      <td>4.000000</td>\n",
       "      <td>8.000000</td>\n",
       "      <td>2210.000000</td>\n",
       "      <td>1997.000000</td>\n",
       "      <td>0.000000</td>\n",
       "      <td>98118.000000</td>\n",
       "      <td>2360.000000</td>\n",
       "      <td>10083.000000</td>\n",
       "    </tr>\n",
       "    <tr>\n",
       "      <th>max</th>\n",
       "      <td>7.700000e+06</td>\n",
       "      <td>33.000000</td>\n",
       "      <td>8.000000</td>\n",
       "      <td>13540.000000</td>\n",
       "      <td>1.651359e+06</td>\n",
       "      <td>3.500000</td>\n",
       "      <td>1.000000</td>\n",
       "      <td>4.000000</td>\n",
       "      <td>5.000000</td>\n",
       "      <td>13.000000</td>\n",
       "      <td>9410.000000</td>\n",
       "      <td>2015.000000</td>\n",
       "      <td>2015.000000</td>\n",
       "      <td>98199.000000</td>\n",
       "      <td>6210.000000</td>\n",
       "      <td>871200.000000</td>\n",
       "    </tr>\n",
       "  </tbody>\n",
       "</table>\n",
       "</div>"
      ],
      "text/plain": [
       "              price      bedrooms     bathrooms   sqft_living      sqft_lot  \\\n",
       "count  2.159700e+04  21597.000000  21597.000000  21597.000000  2.159700e+04   \n",
       "mean   5.402966e+05      3.373200      2.115826   2080.321850  1.509941e+04   \n",
       "std    3.673681e+05      0.926299      0.768984    918.106125  4.141264e+04   \n",
       "min    7.800000e+04      1.000000      0.500000    370.000000  5.200000e+02   \n",
       "25%    3.220000e+05      3.000000      1.750000   1430.000000  5.040000e+03   \n",
       "50%    4.500000e+05      3.000000      2.250000   1910.000000  7.618000e+03   \n",
       "75%    6.450000e+05      4.000000      2.500000   2550.000000  1.068500e+04   \n",
       "max    7.700000e+06     33.000000      8.000000  13540.000000  1.651359e+06   \n",
       "\n",
       "             floors    waterfront          view     condition         grade  \\\n",
       "count  21597.000000  19221.000000  21534.000000  21597.000000  21597.000000   \n",
       "mean       1.494096      0.007596      0.233863      3.409825      7.657915   \n",
       "std        0.539683      0.086825      0.765686      0.650546      1.173200   \n",
       "min        1.000000      0.000000      0.000000      1.000000      3.000000   \n",
       "25%        1.000000      0.000000      0.000000      3.000000      7.000000   \n",
       "50%        1.500000      0.000000      0.000000      3.000000      7.000000   \n",
       "75%        2.000000      0.000000      0.000000      4.000000      8.000000   \n",
       "max        3.500000      1.000000      4.000000      5.000000     13.000000   \n",
       "\n",
       "         sqft_above      yr_built  yr_renovated       zipcode  sqft_living15  \\\n",
       "count  21597.000000  21597.000000  17755.000000  21597.000000   21597.000000   \n",
       "mean    1788.596842   1970.999676     83.636778  98077.951845    1986.620318   \n",
       "std      827.759761     29.375234    399.946414     53.513072     685.230472   \n",
       "min      370.000000   1900.000000      0.000000  98001.000000     399.000000   \n",
       "25%     1190.000000   1951.000000      0.000000  98033.000000    1490.000000   \n",
       "50%     1560.000000   1975.000000      0.000000  98065.000000    1840.000000   \n",
       "75%     2210.000000   1997.000000      0.000000  98118.000000    2360.000000   \n",
       "max     9410.000000   2015.000000   2015.000000  98199.000000    6210.000000   \n",
       "\n",
       "          sqft_lot15  \n",
       "count   21597.000000  \n",
       "mean    12758.283512  \n",
       "std     27274.441950  \n",
       "min       651.000000  \n",
       "25%      5100.000000  \n",
       "50%      7620.000000  \n",
       "75%     10083.000000  \n",
       "max    871200.000000  "
      ]
     },
     "execution_count": 13,
     "metadata": {},
     "output_type": "execute_result"
    }
   ],
   "source": [
    "data.describe()"
   ]
  },
  {
   "cell_type": "code",
   "execution_count": 14,
   "id": "4b4098ec",
   "metadata": {
    "ExecuteTime": {
     "end_time": "2021-04-29T17:10:54.258462Z",
     "start_time": "2021-04-29T17:10:54.072821Z"
    }
   },
   "outputs": [],
   "source": [
    "errors = []\n",
    "for idx in data.index:\n",
    "    try: \n",
    "        float(data.sqft_basement[idx])\n",
    "    except:\n",
    "        errors.append(idx)"
   ]
  },
  {
   "cell_type": "code",
   "execution_count": 15,
   "id": "d36eecfe",
   "metadata": {
    "ExecuteTime": {
     "end_time": "2021-04-29T17:10:54.265919Z",
     "start_time": "2021-04-29T17:10:54.259986Z"
    }
   },
   "outputs": [
    {
     "data": {
      "text/plain": [
       "?    454\n",
       "Name: sqft_basement, dtype: int64"
      ]
     },
     "execution_count": 15,
     "metadata": {},
     "output_type": "execute_result"
    }
   ],
   "source": [
    "data.iloc[errors].sqft_basement.value_counts()"
   ]
  },
  {
   "cell_type": "code",
   "execution_count": 16,
   "id": "d943cbf9",
   "metadata": {
    "ExecuteTime": {
     "end_time": "2021-04-29T17:11:07.875057Z",
     "start_time": "2021-04-29T17:10:54.267728Z"
    }
   },
   "outputs": [
    {
     "data": {
      "image/png": "[encoded data removed]",
      "text/plain": [
       "<Figure size 1584x864 with 16 Axes>"
      ]
     },
     "metadata": {},
     "output_type": "display_data"
    }
   ],
   "source": [
    "data.hist(figsize  = [22, 12], bins = 'auto');"
   ]
  },
  {
   "cell_type": "markdown",
   "id": "53ca1a7c",
   "metadata": {},
   "source": [
    "#### I can replace nan's or missing data with their mean, for the following columns: price, sqft_living, sqft_lot, sqft_above, sqft_living15 and sqft_lot 15"
   ]
  },
  {
   "cell_type": "code",
   "execution_count": 17,
   "id": "03ffa6cf",
   "metadata": {
    "ExecuteTime": {
     "end_time": "2021-04-29T17:11:07.895838Z",
     "start_time": "2021-04-29T17:11:07.879140Z"
    }
   },
   "outputs": [],
   "source": [
    "data['sqft_basement'] = pd.to_numeric(data.sqft_basement, errors=\"coerce\")\n",
    "data['yr_renovated'] = pd.to_numeric(data.yr_renovated, errors=\"coerce\")"
   ]
  },
  {
   "cell_type": "code",
   "execution_count": 18,
   "id": "b25a1a50",
   "metadata": {
    "ExecuteTime": {
     "end_time": "2021-04-29T17:11:08.016919Z",
     "start_time": "2021-04-29T17:11:07.899833Z"
    }
   },
   "outputs": [],
   "source": [
    "column_means = data.mean()\n",
    "data = data.fillna(column_means)"
   ]
  },
  {
   "cell_type": "code",
   "execution_count": 19,
   "id": "6d90e549",
   "metadata": {
    "ExecuteTime": {
     "end_time": "2021-04-29T17:11:08.025638Z",
     "start_time": "2021-04-29T17:11:08.018577Z"
    }
   },
   "outputs": [],
   "source": [
    "data['price'] = data['price'].astype(int)\n",
    "data['bathrooms'] = data['bathrooms'].astype(int)\n",
    "data['floors'] = data['floors'].astype(int)\n",
    "data['waterfront'] = data['waterfront'].astype(int)\n",
    "data['view'] = data['view'].astype(int)"
   ]
  },
  {
   "cell_type": "code",
   "execution_count": 20,
   "id": "ea4bdbb0",
   "metadata": {
    "ExecuteTime": {
     "end_time": "2021-04-29T17:11:08.031685Z",
     "start_time": "2021-04-29T17:11:08.027267Z"
    }
   },
   "outputs": [],
   "source": [
    "data['sqft_basement'] = data['sqft_basement'].astype(int)\n",
    "data['yr_renovated'] = data['yr_renovated'].astype(int)"
   ]
  },
  {
   "cell_type": "code",
   "execution_count": 21,
   "id": "b4a2a886",
   "metadata": {
    "ExecuteTime": {
     "end_time": "2021-04-29T17:11:08.039355Z",
     "start_time": "2021-04-29T17:11:08.034081Z"
    }
   },
   "outputs": [
    {
     "data": {
      "text/plain": [
       "price             int64\n",
       "date             object\n",
       "bedrooms          int64\n",
       "bathrooms         int64\n",
       "sqft_living       int64\n",
       "sqft_lot          int64\n",
       "floors            int64\n",
       "waterfront        int64\n",
       "view              int64\n",
       "condition         int64\n",
       "grade             int64\n",
       "sqft_above        int64\n",
       "sqft_basement     int64\n",
       "yr_built          int64\n",
       "yr_renovated      int64\n",
       "zipcode           int64\n",
       "sqft_living15     int64\n",
       "sqft_lot15        int64\n",
       "dtype: object"
      ]
     },
     "execution_count": 21,
     "metadata": {},
     "output_type": "execute_result"
    }
   ],
   "source": [
    "data.dtypes"
   ]
  },
  {
   "cell_type": "code",
   "execution_count": 22,
   "id": "36dd4be3",
   "metadata": {
    "ExecuteTime": {
     "end_time": "2021-04-29T17:11:08.061567Z",
     "start_time": "2021-04-29T17:11:08.049494Z"
    }
   },
   "outputs": [
    {
     "data": {
      "text/html": [
       "<div>\n",
       "<style scoped>\n",
       "    .dataframe tbody tr th:only-of-type {\n",
       "        vertical-align: middle;\n",
       "    }\n",
       "\n",
       "    .dataframe tbody tr th {\n",
       "        vertical-align: top;\n",
       "    }\n",
       "\n",
       "    .dataframe thead th {\n",
       "        text-align: right;\n",
       "    }\n",
       "</style>\n",
       "<table border=\"1\" class=\"dataframe\">\n",
       "  <thead>\n",
       "    <tr style=\"text-align: right;\">\n",
       "      <th></th>\n",
       "      <th>price</th>\n",
       "      <th>date</th>\n",
       "      <th>bedrooms</th>\n",
       "      <th>bathrooms</th>\n",
       "      <th>sqft_living</th>\n",
       "      <th>sqft_lot</th>\n",
       "      <th>floors</th>\n",
       "      <th>waterfront</th>\n",
       "      <th>view</th>\n",
       "      <th>condition</th>\n",
       "      <th>grade</th>\n",
       "      <th>sqft_above</th>\n",
       "      <th>sqft_basement</th>\n",
       "      <th>yr_built</th>\n",
       "      <th>yr_renovated</th>\n",
       "      <th>zipcode</th>\n",
       "      <th>sqft_living15</th>\n",
       "      <th>sqft_lot15</th>\n",
       "    </tr>\n",
       "  </thead>\n",
       "  <tbody>\n",
       "    <tr>\n",
       "      <th>0</th>\n",
       "      <td>221900</td>\n",
       "      <td>10/13/2014</td>\n",
       "      <td>3</td>\n",
       "      <td>1</td>\n",
       "      <td>1180</td>\n",
       "      <td>5650</td>\n",
       "      <td>1</td>\n",
       "      <td>0</td>\n",
       "      <td>0</td>\n",
       "      <td>3</td>\n",
       "      <td>7</td>\n",
       "      <td>1180</td>\n",
       "      <td>0</td>\n",
       "      <td>1955</td>\n",
       "      <td>0</td>\n",
       "      <td>98178</td>\n",
       "      <td>1340</td>\n",
       "      <td>5650</td>\n",
       "    </tr>\n",
       "    <tr>\n",
       "      <th>1</th>\n",
       "      <td>538000</td>\n",
       "      <td>12/9/2014</td>\n",
       "      <td>3</td>\n",
       "      <td>2</td>\n",
       "      <td>2570</td>\n",
       "      <td>7242</td>\n",
       "      <td>2</td>\n",
       "      <td>0</td>\n",
       "      <td>0</td>\n",
       "      <td>3</td>\n",
       "      <td>7</td>\n",
       "      <td>2170</td>\n",
       "      <td>400</td>\n",
       "      <td>1951</td>\n",
       "      <td>1991</td>\n",
       "      <td>98125</td>\n",
       "      <td>1690</td>\n",
       "      <td>7639</td>\n",
       "    </tr>\n",
       "    <tr>\n",
       "      <th>2</th>\n",
       "      <td>180000</td>\n",
       "      <td>2/25/2015</td>\n",
       "      <td>2</td>\n",
       "      <td>1</td>\n",
       "      <td>770</td>\n",
       "      <td>10000</td>\n",
       "      <td>1</td>\n",
       "      <td>0</td>\n",
       "      <td>0</td>\n",
       "      <td>3</td>\n",
       "      <td>6</td>\n",
       "      <td>770</td>\n",
       "      <td>0</td>\n",
       "      <td>1933</td>\n",
       "      <td>83</td>\n",
       "      <td>98028</td>\n",
       "      <td>2720</td>\n",
       "      <td>8062</td>\n",
       "    </tr>\n",
       "    <tr>\n",
       "      <th>3</th>\n",
       "      <td>604000</td>\n",
       "      <td>12/9/2014</td>\n",
       "      <td>4</td>\n",
       "      <td>3</td>\n",
       "      <td>1960</td>\n",
       "      <td>5000</td>\n",
       "      <td>1</td>\n",
       "      <td>0</td>\n",
       "      <td>0</td>\n",
       "      <td>5</td>\n",
       "      <td>7</td>\n",
       "      <td>1050</td>\n",
       "      <td>910</td>\n",
       "      <td>1965</td>\n",
       "      <td>0</td>\n",
       "      <td>98136</td>\n",
       "      <td>1360</td>\n",
       "      <td>5000</td>\n",
       "    </tr>\n",
       "    <tr>\n",
       "      <th>4</th>\n",
       "      <td>510000</td>\n",
       "      <td>2/18/2015</td>\n",
       "      <td>3</td>\n",
       "      <td>2</td>\n",
       "      <td>1680</td>\n",
       "      <td>8080</td>\n",
       "      <td>1</td>\n",
       "      <td>0</td>\n",
       "      <td>0</td>\n",
       "      <td>3</td>\n",
       "      <td>8</td>\n",
       "      <td>1680</td>\n",
       "      <td>0</td>\n",
       "      <td>1987</td>\n",
       "      <td>0</td>\n",
       "      <td>98074</td>\n",
       "      <td>1800</td>\n",
       "      <td>7503</td>\n",
       "    </tr>\n",
       "  </tbody>\n",
       "</table>\n",
       "</div>"
      ],
      "text/plain": [
       "    price        date  bedrooms  bathrooms  sqft_living  sqft_lot  floors  \\\n",
       "0  221900  10/13/2014         3          1         1180      5650       1   \n",
       "1  538000   12/9/2014         3          2         2570      7242       2   \n",
       "2  180000   2/25/2015         2          1          770     10000       1   \n",
       "3  604000   12/9/2014         4          3         1960      5000       1   \n",
       "4  510000   2/18/2015         3          2         1680      8080       1   \n",
       "\n",
       "   waterfront  view  condition  grade  sqft_above  sqft_basement  yr_built  \\\n",
       "0           0     0          3      7        1180              0      1955   \n",
       "1           0     0          3      7        2170            400      1951   \n",
       "2           0     0          3      6         770              0      1933   \n",
       "3           0     0          5      7        1050            910      1965   \n",
       "4           0     0          3      8        1680              0      1987   \n",
       "\n",
       "   yr_renovated  zipcode  sqft_living15  sqft_lot15  \n",
       "0             0    98178           1340        5650  \n",
       "1          1991    98125           1690        7639  \n",
       "2            83    98028           2720        8062  \n",
       "3             0    98136           1360        5000  \n",
       "4             0    98074           1800        7503  "
      ]
     },
     "execution_count": 22,
     "metadata": {},
     "output_type": "execute_result"
    }
   ],
   "source": [
    "data.head()"
   ]
  },
  {
   "cell_type": "code",
   "execution_count": 23,
   "id": "f0e5fc07",
   "metadata": {
    "ExecuteTime": {
     "end_time": "2021-04-29T17:11:08.070118Z",
     "start_time": "2021-04-29T17:11:08.067973Z"
    }
   },
   "outputs": [],
   "source": [
    "#data.to_csv('Semi-Editted', index = False)"
   ]
  },
  {
   "cell_type": "markdown",
   "id": "218cef59",
   "metadata": {},
   "source": [
    "# Feature Engineering Time"
   ]
  },
  {
   "cell_type": "code",
   "execution_count": 24,
   "id": "c67ca8c8",
   "metadata": {
    "ExecuteTime": {
     "end_time": "2021-04-29T17:11:08.091891Z",
     "start_time": "2021-04-29T17:11:08.072124Z"
    }
   },
   "outputs": [],
   "source": [
    "data['age'] = 2021 - data.yr_built\n",
    "data = data.drop(columns=['yr_built'], axis=1)"
   ]
  },
  {
   "cell_type": "code",
   "execution_count": 25,
   "id": "55f96c3f",
   "metadata": {
    "ExecuteTime": {
     "end_time": "2021-04-29T17:11:08.169053Z",
     "start_time": "2021-04-29T17:11:08.093925Z"
    }
   },
   "outputs": [],
   "source": [
    "#Convert date column to 2 separate columns for month and year\n",
    "date = data['date'].str.split('/', expand=True)\n",
    "data['month_sold'] = date[0].astype('int64')\n",
    "data['year_sold'] = date[2].astype('int64')\n",
    "#Drop original date column\n",
    "data.drop(columns=['date'], axis=1, inplace=True)"
   ]
  },
  {
   "cell_type": "code",
   "execution_count": 26,
   "id": "241b491c",
   "metadata": {
    "ExecuteTime": {
     "end_time": "2021-04-29T17:11:08.184872Z",
     "start_time": "2021-04-29T17:11:08.171361Z"
    }
   },
   "outputs": [],
   "source": [
    "# Let's change yr_renovated to a binary column? Since it's not manadatory to have renovated your home\n",
    "\n",
    "data.yr_renovated.fillna(0.0, inplace=True)\n",
    "#Create renovated column\n",
    "data['renovated'] = data.year_sold - data.yr_renovated\n",
    "#Replace any values less than 10 with 1, and any values over 10 with 0renovated = df.renovated.values\n",
    "age = data.age.values\n",
    "values = np.where(data.renovated <= 10, 1, 0)\n",
    "data['renovated'] = np.where(age <= 5, 1, values)\n",
    "#Drop yr_renovated column\n",
    "data.drop(columns=['yr_renovated'], axis=1, inplace=True)"
   ]
  },
  {
   "cell_type": "code",
   "execution_count": 27,
   "id": "1edda7d7",
   "metadata": {
    "ExecuteTime": {
     "end_time": "2021-04-29T17:11:08.191698Z",
     "start_time": "2021-04-29T17:11:08.187080Z"
    }
   },
   "outputs": [],
   "source": [
    "# sqft_livingsquare  -  footage of the home\n",
    "# sqft_lotsquare-  footage of the lot\n",
    "\n",
    "# sqft_above - square footage of house apart from basement\n",
    "# sqft_basement - square footage of the basement\n",
    "\n",
    "# sqft_above + sqft_basement = sqft_livingsquare\n",
    "data['yard_space'] = data.sqft_lot - data.sqft_living"
   ]
  },
  {
   "cell_type": "code",
   "execution_count": 28,
   "id": "735f80b6",
   "metadata": {
    "ExecuteTime": {
     "end_time": "2021-04-29T17:11:08.203710Z",
     "start_time": "2021-04-29T17:11:08.193891Z"
    }
   },
   "outputs": [],
   "source": [
    "data['price_log'] = np.log(data['price'])\n",
    "data['sqft_living_log'] = np.log(data['sqft_living'])\n",
    "data['sqft_lot15_log'] = np.log(data['sqft_lot15'])\n",
    "data['sqft_living15_log'] = np.log(data['sqft_living15'])\n",
    "# data['xxx_log'] = np.log(data['xxx'])"
   ]
  },
  {
   "cell_type": "code",
   "execution_count": 29,
   "id": "666d70cb",
   "metadata": {
    "ExecuteTime": {
     "end_time": "2021-04-29T17:11:08.226419Z",
     "start_time": "2021-04-29T17:11:08.205846Z"
    }
   },
   "outputs": [
    {
     "data": {
      "text/html": [
       "<div>\n",
       "<style scoped>\n",
       "    .dataframe tbody tr th:only-of-type {\n",
       "        vertical-align: middle;\n",
       "    }\n",
       "\n",
       "    .dataframe tbody tr th {\n",
       "        vertical-align: top;\n",
       "    }\n",
       "\n",
       "    .dataframe thead th {\n",
       "        text-align: right;\n",
       "    }\n",
       "</style>\n",
       "<table border=\"1\" class=\"dataframe\">\n",
       "  <thead>\n",
       "    <tr style=\"text-align: right;\">\n",
       "      <th></th>\n",
       "      <th>price</th>\n",
       "      <th>bedrooms</th>\n",
       "      <th>bathrooms</th>\n",
       "      <th>sqft_living</th>\n",
       "      <th>sqft_lot</th>\n",
       "      <th>floors</th>\n",
       "      <th>waterfront</th>\n",
       "      <th>view</th>\n",
       "      <th>condition</th>\n",
       "      <th>grade</th>\n",
       "      <th>...</th>\n",
       "      <th>sqft_lot15</th>\n",
       "      <th>age</th>\n",
       "      <th>month_sold</th>\n",
       "      <th>year_sold</th>\n",
       "      <th>renovated</th>\n",
       "      <th>yard_space</th>\n",
       "      <th>price_log</th>\n",
       "      <th>sqft_living_log</th>\n",
       "      <th>sqft_lot15_log</th>\n",
       "      <th>sqft_living15_log</th>\n",
       "    </tr>\n",
       "  </thead>\n",
       "  <tbody>\n",
       "    <tr>\n",
       "      <th>0</th>\n",
       "      <td>221900</td>\n",
       "      <td>3</td>\n",
       "      <td>1</td>\n",
       "      <td>1180</td>\n",
       "      <td>5650</td>\n",
       "      <td>1</td>\n",
       "      <td>0</td>\n",
       "      <td>0</td>\n",
       "      <td>3</td>\n",
       "      <td>7</td>\n",
       "      <td>...</td>\n",
       "      <td>5650</td>\n",
       "      <td>66</td>\n",
       "      <td>10</td>\n",
       "      <td>2014</td>\n",
       "      <td>0</td>\n",
       "      <td>4470</td>\n",
       "      <td>12.309982</td>\n",
       "      <td>7.073270</td>\n",
       "      <td>8.639411</td>\n",
       "      <td>7.200425</td>\n",
       "    </tr>\n",
       "    <tr>\n",
       "      <th>1</th>\n",
       "      <td>538000</td>\n",
       "      <td>3</td>\n",
       "      <td>2</td>\n",
       "      <td>2570</td>\n",
       "      <td>7242</td>\n",
       "      <td>2</td>\n",
       "      <td>0</td>\n",
       "      <td>0</td>\n",
       "      <td>3</td>\n",
       "      <td>7</td>\n",
       "      <td>...</td>\n",
       "      <td>7639</td>\n",
       "      <td>70</td>\n",
       "      <td>12</td>\n",
       "      <td>2014</td>\n",
       "      <td>0</td>\n",
       "      <td>4672</td>\n",
       "      <td>13.195614</td>\n",
       "      <td>7.851661</td>\n",
       "      <td>8.941022</td>\n",
       "      <td>7.432484</td>\n",
       "    </tr>\n",
       "    <tr>\n",
       "      <th>2</th>\n",
       "      <td>180000</td>\n",
       "      <td>2</td>\n",
       "      <td>1</td>\n",
       "      <td>770</td>\n",
       "      <td>10000</td>\n",
       "      <td>1</td>\n",
       "      <td>0</td>\n",
       "      <td>0</td>\n",
       "      <td>3</td>\n",
       "      <td>6</td>\n",
       "      <td>...</td>\n",
       "      <td>8062</td>\n",
       "      <td>88</td>\n",
       "      <td>2</td>\n",
       "      <td>2015</td>\n",
       "      <td>0</td>\n",
       "      <td>9230</td>\n",
       "      <td>12.100712</td>\n",
       "      <td>6.646391</td>\n",
       "      <td>8.994917</td>\n",
       "      <td>7.908387</td>\n",
       "    </tr>\n",
       "    <tr>\n",
       "      <th>3</th>\n",
       "      <td>604000</td>\n",
       "      <td>4</td>\n",
       "      <td>3</td>\n",
       "      <td>1960</td>\n",
       "      <td>5000</td>\n",
       "      <td>1</td>\n",
       "      <td>0</td>\n",
       "      <td>0</td>\n",
       "      <td>5</td>\n",
       "      <td>7</td>\n",
       "      <td>...</td>\n",
       "      <td>5000</td>\n",
       "      <td>56</td>\n",
       "      <td>12</td>\n",
       "      <td>2014</td>\n",
       "      <td>0</td>\n",
       "      <td>3040</td>\n",
       "      <td>13.311329</td>\n",
       "      <td>7.580700</td>\n",
       "      <td>8.517193</td>\n",
       "      <td>7.215240</td>\n",
       "    </tr>\n",
       "    <tr>\n",
       "      <th>4</th>\n",
       "      <td>510000</td>\n",
       "      <td>3</td>\n",
       "      <td>2</td>\n",
       "      <td>1680</td>\n",
       "      <td>8080</td>\n",
       "      <td>1</td>\n",
       "      <td>0</td>\n",
       "      <td>0</td>\n",
       "      <td>3</td>\n",
       "      <td>8</td>\n",
       "      <td>...</td>\n",
       "      <td>7503</td>\n",
       "      <td>34</td>\n",
       "      <td>2</td>\n",
       "      <td>2015</td>\n",
       "      <td>0</td>\n",
       "      <td>6400</td>\n",
       "      <td>13.142166</td>\n",
       "      <td>7.426549</td>\n",
       "      <td>8.923058</td>\n",
       "      <td>7.495542</td>\n",
       "    </tr>\n",
       "  </tbody>\n",
       "</table>\n",
       "<p>5 rows × 24 columns</p>\n",
       "</div>"
      ],
      "text/plain": [
       "    price  bedrooms  bathrooms  sqft_living  sqft_lot  floors  waterfront  \\\n",
       "0  221900         3          1         1180      5650       1           0   \n",
       "1  538000         3          2         2570      7242       2           0   \n",
       "2  180000         2          1          770     10000       1           0   \n",
       "3  604000         4          3         1960      5000       1           0   \n",
       "4  510000         3          2         1680      8080       1           0   \n",
       "\n",
       "   view  condition  grade  ...  sqft_lot15  age  month_sold  year_sold  \\\n",
       "0     0          3      7  ...        5650   66          10       2014   \n",
       "1     0          3      7  ...        7639   70          12       2014   \n",
       "2     0          3      6  ...        8062   88           2       2015   \n",
       "3     0          5      7  ...        5000   56          12       2014   \n",
       "4     0          3      8  ...        7503   34           2       2015   \n",
       "\n",
       "   renovated  yard_space  price_log  sqft_living_log  sqft_lot15_log  \\\n",
       "0          0        4470  12.309982         7.073270        8.639411   \n",
       "1          0        4672  13.195614         7.851661        8.941022   \n",
       "2          0        9230  12.100712         6.646391        8.994917   \n",
       "3          0        3040  13.311329         7.580700        8.517193   \n",
       "4          0        6400  13.142166         7.426549        8.923058   \n",
       "\n",
       "   sqft_living15_log  \n",
       "0           7.200425  \n",
       "1           7.432484  \n",
       "2           7.908387  \n",
       "3           7.215240  \n",
       "4           7.495542  \n",
       "\n",
       "[5 rows x 24 columns]"
      ]
     },
     "execution_count": 29,
     "metadata": {},
     "output_type": "execute_result"
    }
   ],
   "source": [
    "data.head()"
   ]
  },
  {
   "cell_type": "markdown",
   "id": "c3b1cefe",
   "metadata": {},
   "source": [
    "# Correlation"
   ]
  },
  {
   "cell_type": "code",
   "execution_count": 30,
   "id": "8a40d2ad",
   "metadata": {
    "ExecuteTime": {
     "end_time": "2021-04-29T17:11:08.306150Z",
     "start_time": "2021-04-29T17:11:08.228400Z"
    }
   },
   "outputs": [
    {
     "data": {
      "text/html": [
       "<div>\n",
       "<style scoped>\n",
       "    .dataframe tbody tr th:only-of-type {\n",
       "        vertical-align: middle;\n",
       "    }\n",
       "\n",
       "    .dataframe tbody tr th {\n",
       "        vertical-align: top;\n",
       "    }\n",
       "\n",
       "    .dataframe thead th {\n",
       "        text-align: right;\n",
       "    }\n",
       "</style>\n",
       "<table border=\"1\" class=\"dataframe\">\n",
       "  <thead>\n",
       "    <tr style=\"text-align: right;\">\n",
       "      <th></th>\n",
       "      <th>price</th>\n",
       "      <th>bedrooms</th>\n",
       "      <th>bathrooms</th>\n",
       "      <th>sqft_living</th>\n",
       "      <th>sqft_lot</th>\n",
       "      <th>floors</th>\n",
       "      <th>waterfront</th>\n",
       "      <th>view</th>\n",
       "      <th>condition</th>\n",
       "      <th>grade</th>\n",
       "      <th>...</th>\n",
       "      <th>sqft_lot15</th>\n",
       "      <th>age</th>\n",
       "      <th>month_sold</th>\n",
       "      <th>year_sold</th>\n",
       "      <th>renovated</th>\n",
       "      <th>yard_space</th>\n",
       "      <th>price_log</th>\n",
       "      <th>sqft_living_log</th>\n",
       "      <th>sqft_lot15_log</th>\n",
       "      <th>sqft_living15_log</th>\n",
       "    </tr>\n",
       "  </thead>\n",
       "  <tbody>\n",
       "    <tr>\n",
       "      <th>price</th>\n",
       "      <td>1.000000</td>\n",
       "      <td>0.308787</td>\n",
       "      <td>0.510631</td>\n",
       "      <td>0.701917</td>\n",
       "      <td>0.089876</td>\n",
       "      <td>0.237264</td>\n",
       "      <td>0.264306</td>\n",
       "      <td>0.393497</td>\n",
       "      <td>0.036056</td>\n",
       "      <td>0.667951</td>\n",
       "      <td>...</td>\n",
       "      <td>0.082845</td>\n",
       "      <td>-0.053953</td>\n",
       "      <td>-0.009928</td>\n",
       "      <td>0.003727</td>\n",
       "      <td>0.073734</td>\n",
       "      <td>0.074584</td>\n",
       "      <td>0.891745</td>\n",
       "      <td>0.611839</td>\n",
       "      <td>0.147913</td>\n",
       "      <td>0.543829</td>\n",
       "    </tr>\n",
       "    <tr>\n",
       "      <th>bedrooms</th>\n",
       "      <td>0.308787</td>\n",
       "      <td>1.000000</td>\n",
       "      <td>0.465995</td>\n",
       "      <td>0.578212</td>\n",
       "      <td>0.032471</td>\n",
       "      <td>0.158065</td>\n",
       "      <td>-0.002127</td>\n",
       "      <td>0.078354</td>\n",
       "      <td>0.026496</td>\n",
       "      <td>0.356563</td>\n",
       "      <td>...</td>\n",
       "      <td>0.030690</td>\n",
       "      <td>-0.155670</td>\n",
       "      <td>-0.001046</td>\n",
       "      <td>-0.009949</td>\n",
       "      <td>0.024346</td>\n",
       "      <td>0.019723</td>\n",
       "      <td>0.343360</td>\n",
       "      <td>0.621820</td>\n",
       "      <td>0.162238</td>\n",
       "      <td>0.406631</td>\n",
       "    </tr>\n",
       "    <tr>\n",
       "      <th>bathrooms</th>\n",
       "      <td>0.510631</td>\n",
       "      <td>0.465995</td>\n",
       "      <td>1.000000</td>\n",
       "      <td>0.698591</td>\n",
       "      <td>0.086029</td>\n",
       "      <td>0.486404</td>\n",
       "      <td>0.059587</td>\n",
       "      <td>0.175111</td>\n",
       "      <td>-0.127328</td>\n",
       "      <td>0.607156</td>\n",
       "      <td>...</td>\n",
       "      <td>0.082039</td>\n",
       "      <td>-0.434536</td>\n",
       "      <td>0.004087</td>\n",
       "      <td>-0.021699</td>\n",
       "      <td>0.053010</td>\n",
       "      <td>0.070797</td>\n",
       "      <td>0.511357</td>\n",
       "      <td>0.677009</td>\n",
       "      <td>0.072745</td>\n",
       "      <td>0.500864</td>\n",
       "    </tr>\n",
       "    <tr>\n",
       "      <th>sqft_living</th>\n",
       "      <td>0.701917</td>\n",
       "      <td>0.578212</td>\n",
       "      <td>0.698591</td>\n",
       "      <td>1.000000</td>\n",
       "      <td>0.173453</td>\n",
       "      <td>0.353372</td>\n",
       "      <td>0.104637</td>\n",
       "      <td>0.281715</td>\n",
       "      <td>-0.059445</td>\n",
       "      <td>0.762779</td>\n",
       "      <td>...</td>\n",
       "      <td>0.184342</td>\n",
       "      <td>-0.318152</td>\n",
       "      <td>0.012112</td>\n",
       "      <td>-0.029014</td>\n",
       "      <td>0.030274</td>\n",
       "      <td>0.151831</td>\n",
       "      <td>0.695185</td>\n",
       "      <td>0.954607</td>\n",
       "      <td>0.321020</td>\n",
       "      <td>0.732180</td>\n",
       "    </tr>\n",
       "    <tr>\n",
       "      <th>sqft_lot</th>\n",
       "      <td>0.089876</td>\n",
       "      <td>0.032471</td>\n",
       "      <td>0.086029</td>\n",
       "      <td>0.173453</td>\n",
       "      <td>1.000000</td>\n",
       "      <td>-0.008603</td>\n",
       "      <td>0.021459</td>\n",
       "      <td>0.075054</td>\n",
       "      <td>-0.008830</td>\n",
       "      <td>0.114731</td>\n",
       "      <td>...</td>\n",
       "      <td>0.718204</td>\n",
       "      <td>-0.052946</td>\n",
       "      <td>-0.002591</td>\n",
       "      <td>0.005628</td>\n",
       "      <td>-0.013557</td>\n",
       "      <td>0.999760</td>\n",
       "      <td>0.100025</td>\n",
       "      <td>0.150102</td>\n",
       "      <td>0.550135</td>\n",
       "      <td>0.145162</td>\n",
       "    </tr>\n",
       "    <tr>\n",
       "      <th>floors</th>\n",
       "      <td>0.237264</td>\n",
       "      <td>0.158065</td>\n",
       "      <td>0.486404</td>\n",
       "      <td>0.353372</td>\n",
       "      <td>-0.008603</td>\n",
       "      <td>1.000000</td>\n",
       "      <td>0.018321</td>\n",
       "      <td>0.023711</td>\n",
       "      <td>-0.293463</td>\n",
       "      <td>0.473273</td>\n",
       "      <td>...</td>\n",
       "      <td>-0.012766</td>\n",
       "      <td>-0.578549</td>\n",
       "      <td>0.013083</td>\n",
       "      <td>-0.019523</td>\n",
       "      <td>-0.012706</td>\n",
       "      <td>-0.016497</td>\n",
       "      <td>0.286106</td>\n",
       "      <td>0.363827</td>\n",
       "      <td>-0.208712</td>\n",
       "      <td>0.291710</td>\n",
       "    </tr>\n",
       "    <tr>\n",
       "      <th>waterfront</th>\n",
       "      <td>0.264306</td>\n",
       "      <td>-0.002127</td>\n",
       "      <td>0.059587</td>\n",
       "      <td>0.104637</td>\n",
       "      <td>0.021459</td>\n",
       "      <td>0.018321</td>\n",
       "      <td>1.000000</td>\n",
       "      <td>0.380543</td>\n",
       "      <td>0.016648</td>\n",
       "      <td>0.082818</td>\n",
       "      <td>...</td>\n",
       "      <td>0.030658</td>\n",
       "      <td>0.024487</td>\n",
       "      <td>0.008199</td>\n",
       "      <td>-0.005018</td>\n",
       "      <td>0.000432</td>\n",
       "      <td>0.019208</td>\n",
       "      <td>0.170720</td>\n",
       "      <td>0.078900</td>\n",
       "      <td>0.081562</td>\n",
       "      <td>0.076503</td>\n",
       "    </tr>\n",
       "    <tr>\n",
       "      <th>view</th>\n",
       "      <td>0.393497</td>\n",
       "      <td>0.078354</td>\n",
       "      <td>0.175111</td>\n",
       "      <td>0.281715</td>\n",
       "      <td>0.075054</td>\n",
       "      <td>0.023711</td>\n",
       "      <td>0.380543</td>\n",
       "      <td>1.000000</td>\n",
       "      <td>0.045622</td>\n",
       "      <td>0.249082</td>\n",
       "      <td>...</td>\n",
       "      <td>0.073083</td>\n",
       "      <td>0.054452</td>\n",
       "      <td>-0.005161</td>\n",
       "      <td>0.001239</td>\n",
       "      <td>0.023967</td>\n",
       "      <td>0.069058</td>\n",
       "      <td>0.344653</td>\n",
       "      <td>0.244804</td>\n",
       "      <td>0.119119</td>\n",
       "      <td>0.262556</td>\n",
       "    </tr>\n",
       "    <tr>\n",
       "      <th>condition</th>\n",
       "      <td>0.036056</td>\n",
       "      <td>0.026496</td>\n",
       "      <td>-0.127328</td>\n",
       "      <td>-0.059445</td>\n",
       "      <td>-0.008830</td>\n",
       "      <td>-0.293463</td>\n",
       "      <td>0.016648</td>\n",
       "      <td>0.045622</td>\n",
       "      <td>1.000000</td>\n",
       "      <td>-0.146896</td>\n",
       "      <td>...</td>\n",
       "      <td>-0.003126</td>\n",
       "      <td>0.361592</td>\n",
       "      <td>0.022388</td>\n",
       "      <td>-0.045898</td>\n",
       "      <td>-0.065082</td>\n",
       "      <td>-0.007539</td>\n",
       "      <td>0.038918</td>\n",
       "      <td>-0.049620</td>\n",
       "      <td>0.079862</td>\n",
       "      <td>-0.089255</td>\n",
       "    </tr>\n",
       "    <tr>\n",
       "      <th>grade</th>\n",
       "      <td>0.667951</td>\n",
       "      <td>0.356563</td>\n",
       "      <td>0.607156</td>\n",
       "      <td>0.762779</td>\n",
       "      <td>0.114731</td>\n",
       "      <td>0.473273</td>\n",
       "      <td>0.082818</td>\n",
       "      <td>0.249082</td>\n",
       "      <td>-0.146896</td>\n",
       "      <td>1.000000</td>\n",
       "      <td>...</td>\n",
       "      <td>0.120981</td>\n",
       "      <td>-0.447865</td>\n",
       "      <td>0.008989</td>\n",
       "      <td>-0.030635</td>\n",
       "      <td>0.018676</td>\n",
       "      <td>0.098174</td>\n",
       "      <td>0.703720</td>\n",
       "      <td>0.743038</td>\n",
       "      <td>0.185000</td>\n",
       "      <td>0.689054</td>\n",
       "    </tr>\n",
       "    <tr>\n",
       "      <th>sqft_above</th>\n",
       "      <td>0.605368</td>\n",
       "      <td>0.479386</td>\n",
       "      <td>0.640895</td>\n",
       "      <td>0.876448</td>\n",
       "      <td>0.184139</td>\n",
       "      <td>0.518037</td>\n",
       "      <td>0.071778</td>\n",
       "      <td>0.166017</td>\n",
       "      <td>-0.158904</td>\n",
       "      <td>0.756073</td>\n",
       "      <td>...</td>\n",
       "      <td>0.195077</td>\n",
       "      <td>-0.424037</td>\n",
       "      <td>0.010153</td>\n",
       "      <td>-0.023782</td>\n",
       "      <td>-0.002101</td>\n",
       "      <td>0.165305</td>\n",
       "      <td>0.601579</td>\n",
       "      <td>0.832380</td>\n",
       "      <td>0.312412</td>\n",
       "      <td>0.701745</td>\n",
       "    </tr>\n",
       "    <tr>\n",
       "      <th>sqft_basement</th>\n",
       "      <td>0.322193</td>\n",
       "      <td>0.299036</td>\n",
       "      <td>0.246948</td>\n",
       "      <td>0.430192</td>\n",
       "      <td>0.015293</td>\n",
       "      <td>-0.232392</td>\n",
       "      <td>0.083778</td>\n",
       "      <td>0.272311</td>\n",
       "      <td>0.169153</td>\n",
       "      <td>0.166398</td>\n",
       "      <td>...</td>\n",
       "      <td>0.016419</td>\n",
       "      <td>0.131200</td>\n",
       "      <td>0.006978</td>\n",
       "      <td>-0.015699</td>\n",
       "      <td>0.066151</td>\n",
       "      <td>0.005776</td>\n",
       "      <td>0.314281</td>\n",
       "      <td>0.418611</td>\n",
       "      <td>0.079551</td>\n",
       "      <td>0.204857</td>\n",
       "    </tr>\n",
       "    <tr>\n",
       "      <th>zipcode</th>\n",
       "      <td>-0.053402</td>\n",
       "      <td>-0.154092</td>\n",
       "      <td>-0.160478</td>\n",
       "      <td>-0.199802</td>\n",
       "      <td>-0.129586</td>\n",
       "      <td>-0.097146</td>\n",
       "      <td>0.028923</td>\n",
       "      <td>0.085059</td>\n",
       "      <td>0.002888</td>\n",
       "      <td>-0.185771</td>\n",
       "      <td>...</td>\n",
       "      <td>-0.147294</td>\n",
       "      <td>0.347210</td>\n",
       "      <td>-0.000143</td>\n",
       "      <td>0.001290</td>\n",
       "      <td>0.048223</td>\n",
       "      <td>-0.125609</td>\n",
       "      <td>-0.038788</td>\n",
       "      <td>-0.222128</td>\n",
       "      <td>-0.280095</td>\n",
       "      <td>-0.290355</td>\n",
       "    </tr>\n",
       "    <tr>\n",
       "      <th>sqft_living15</th>\n",
       "      <td>0.585241</td>\n",
       "      <td>0.393406</td>\n",
       "      <td>0.510950</td>\n",
       "      <td>0.756402</td>\n",
       "      <td>0.144763</td>\n",
       "      <td>0.296797</td>\n",
       "      <td>0.083823</td>\n",
       "      <td>0.278928</td>\n",
       "      <td>-0.093072</td>\n",
       "      <td>0.713867</td>\n",
       "      <td>...</td>\n",
       "      <td>0.183515</td>\n",
       "      <td>-0.326377</td>\n",
       "      <td>0.002513</td>\n",
       "      <td>-0.021549</td>\n",
       "      <td>-0.012260</td>\n",
       "      <td>0.128457</td>\n",
       "      <td>0.619326</td>\n",
       "      <td>0.737215</td>\n",
       "      <td>0.375973</td>\n",
       "      <td>0.976819</td>\n",
       "    </tr>\n",
       "    <tr>\n",
       "      <th>sqft_lot15</th>\n",
       "      <td>0.082845</td>\n",
       "      <td>0.030690</td>\n",
       "      <td>0.082039</td>\n",
       "      <td>0.184342</td>\n",
       "      <td>0.718204</td>\n",
       "      <td>-0.012766</td>\n",
       "      <td>0.030658</td>\n",
       "      <td>0.073083</td>\n",
       "      <td>-0.003126</td>\n",
       "      <td>0.120981</td>\n",
       "      <td>...</td>\n",
       "      <td>1.000000</td>\n",
       "      <td>-0.070777</td>\n",
       "      <td>0.003189</td>\n",
       "      <td>0.000162</td>\n",
       "      <td>-0.014516</td>\n",
       "      <td>0.716702</td>\n",
       "      <td>0.092281</td>\n",
       "      <td>0.162890</td>\n",
       "      <td>0.701523</td>\n",
       "      <td>0.178371</td>\n",
       "    </tr>\n",
       "    <tr>\n",
       "      <th>age</th>\n",
       "      <td>-0.053953</td>\n",
       "      <td>-0.155670</td>\n",
       "      <td>-0.434536</td>\n",
       "      <td>-0.318152</td>\n",
       "      <td>-0.052946</td>\n",
       "      <td>-0.578549</td>\n",
       "      <td>0.024487</td>\n",
       "      <td>0.054452</td>\n",
       "      <td>0.361592</td>\n",
       "      <td>-0.447865</td>\n",
       "      <td>...</td>\n",
       "      <td>-0.070777</td>\n",
       "      <td>1.000000</td>\n",
       "      <td>0.006235</td>\n",
       "      <td>-0.003574</td>\n",
       "      <td>0.111443</td>\n",
       "      <td>-0.046059</td>\n",
       "      <td>-0.080583</td>\n",
       "      <td>-0.349689</td>\n",
       "      <td>-0.018759</td>\n",
       "      <td>-0.333819</td>\n",
       "    </tr>\n",
       "    <tr>\n",
       "      <th>month_sold</th>\n",
       "      <td>-0.009928</td>\n",
       "      <td>-0.001046</td>\n",
       "      <td>0.004087</td>\n",
       "      <td>0.012112</td>\n",
       "      <td>-0.002591</td>\n",
       "      <td>0.013083</td>\n",
       "      <td>0.008199</td>\n",
       "      <td>-0.005161</td>\n",
       "      <td>0.022388</td>\n",
       "      <td>0.008989</td>\n",
       "      <td>...</td>\n",
       "      <td>0.003189</td>\n",
       "      <td>0.006235</td>\n",
       "      <td>1.000000</td>\n",
       "      <td>-0.782325</td>\n",
       "      <td>0.005303</td>\n",
       "      <td>-0.002869</td>\n",
       "      <td>-0.013064</td>\n",
       "      <td>0.012456</td>\n",
       "      <td>-0.001652</td>\n",
       "      <td>0.002355</td>\n",
       "    </tr>\n",
       "    <tr>\n",
       "      <th>year_sold</th>\n",
       "      <td>0.003727</td>\n",
       "      <td>-0.009949</td>\n",
       "      <td>-0.021699</td>\n",
       "      <td>-0.029014</td>\n",
       "      <td>0.005628</td>\n",
       "      <td>-0.019523</td>\n",
       "      <td>-0.005018</td>\n",
       "      <td>0.001239</td>\n",
       "      <td>-0.045898</td>\n",
       "      <td>-0.030635</td>\n",
       "      <td>...</td>\n",
       "      <td>0.000162</td>\n",
       "      <td>-0.003574</td>\n",
       "      <td>-0.782325</td>\n",
       "      <td>1.000000</td>\n",
       "      <td>-0.013408</td>\n",
       "      <td>0.006294</td>\n",
       "      <td>0.004972</td>\n",
       "      <td>-0.029434</td>\n",
       "      <td>-0.006988</td>\n",
       "      <td>-0.020421</td>\n",
       "    </tr>\n",
       "    <tr>\n",
       "      <th>renovated</th>\n",
       "      <td>0.073734</td>\n",
       "      <td>0.024346</td>\n",
       "      <td>0.053010</td>\n",
       "      <td>0.030274</td>\n",
       "      <td>-0.013557</td>\n",
       "      <td>-0.012706</td>\n",
       "      <td>0.000432</td>\n",
       "      <td>0.023967</td>\n",
       "      <td>-0.065082</td>\n",
       "      <td>0.018676</td>\n",
       "      <td>...</td>\n",
       "      <td>-0.014516</td>\n",
       "      <td>0.111443</td>\n",
       "      <td>0.005303</td>\n",
       "      <td>-0.013408</td>\n",
       "      <td>1.000000</td>\n",
       "      <td>-0.014279</td>\n",
       "      <td>0.073672</td>\n",
       "      <td>0.029123</td>\n",
       "      <td>-0.014348</td>\n",
       "      <td>-0.014331</td>\n",
       "    </tr>\n",
       "    <tr>\n",
       "      <th>yard_space</th>\n",
       "      <td>0.074584</td>\n",
       "      <td>0.019723</td>\n",
       "      <td>0.070797</td>\n",
       "      <td>0.151831</td>\n",
       "      <td>0.999760</td>\n",
       "      <td>-0.016497</td>\n",
       "      <td>0.019208</td>\n",
       "      <td>0.069058</td>\n",
       "      <td>-0.007539</td>\n",
       "      <td>0.098174</td>\n",
       "      <td>...</td>\n",
       "      <td>0.716702</td>\n",
       "      <td>-0.046059</td>\n",
       "      <td>-0.002869</td>\n",
       "      <td>0.006294</td>\n",
       "      <td>-0.014279</td>\n",
       "      <td>1.000000</td>\n",
       "      <td>0.084919</td>\n",
       "      <td>0.129405</td>\n",
       "      <td>0.544983</td>\n",
       "      <td>0.129397</td>\n",
       "    </tr>\n",
       "    <tr>\n",
       "      <th>price_log</th>\n",
       "      <td>0.891745</td>\n",
       "      <td>0.343360</td>\n",
       "      <td>0.511357</td>\n",
       "      <td>0.695185</td>\n",
       "      <td>0.100025</td>\n",
       "      <td>0.286106</td>\n",
       "      <td>0.170720</td>\n",
       "      <td>0.344653</td>\n",
       "      <td>0.038918</td>\n",
       "      <td>0.703720</td>\n",
       "      <td>...</td>\n",
       "      <td>0.092281</td>\n",
       "      <td>-0.080583</td>\n",
       "      <td>-0.013064</td>\n",
       "      <td>0.004972</td>\n",
       "      <td>0.073672</td>\n",
       "      <td>0.084919</td>\n",
       "      <td>1.000000</td>\n",
       "      <td>0.674802</td>\n",
       "      <td>0.123710</td>\n",
       "      <td>0.607154</td>\n",
       "    </tr>\n",
       "    <tr>\n",
       "      <th>sqft_living_log</th>\n",
       "      <td>0.611839</td>\n",
       "      <td>0.621820</td>\n",
       "      <td>0.677009</td>\n",
       "      <td>0.954607</td>\n",
       "      <td>0.150102</td>\n",
       "      <td>0.363827</td>\n",
       "      <td>0.078900</td>\n",
       "      <td>0.244804</td>\n",
       "      <td>-0.049620</td>\n",
       "      <td>0.743038</td>\n",
       "      <td>...</td>\n",
       "      <td>0.162890</td>\n",
       "      <td>-0.349689</td>\n",
       "      <td>0.012456</td>\n",
       "      <td>-0.029434</td>\n",
       "      <td>0.029123</td>\n",
       "      <td>0.129405</td>\n",
       "      <td>0.674802</td>\n",
       "      <td>1.000000</td>\n",
       "      <td>0.303058</td>\n",
       "      <td>0.746836</td>\n",
       "    </tr>\n",
       "    <tr>\n",
       "      <th>sqft_lot15_log</th>\n",
       "      <td>0.147913</td>\n",
       "      <td>0.162238</td>\n",
       "      <td>0.072745</td>\n",
       "      <td>0.321020</td>\n",
       "      <td>0.550135</td>\n",
       "      <td>-0.208712</td>\n",
       "      <td>0.081562</td>\n",
       "      <td>0.119119</td>\n",
       "      <td>0.079862</td>\n",
       "      <td>0.185000</td>\n",
       "      <td>...</td>\n",
       "      <td>0.701523</td>\n",
       "      <td>-0.018759</td>\n",
       "      <td>-0.001652</td>\n",
       "      <td>-0.006988</td>\n",
       "      <td>-0.014348</td>\n",
       "      <td>0.544983</td>\n",
       "      <td>0.123710</td>\n",
       "      <td>0.303058</td>\n",
       "      <td>1.000000</td>\n",
       "      <td>0.373618</td>\n",
       "    </tr>\n",
       "    <tr>\n",
       "      <th>sqft_living15_log</th>\n",
       "      <td>0.543829</td>\n",
       "      <td>0.406631</td>\n",
       "      <td>0.500864</td>\n",
       "      <td>0.732180</td>\n",
       "      <td>0.145162</td>\n",
       "      <td>0.291710</td>\n",
       "      <td>0.076503</td>\n",
       "      <td>0.262556</td>\n",
       "      <td>-0.089255</td>\n",
       "      <td>0.689054</td>\n",
       "      <td>...</td>\n",
       "      <td>0.178371</td>\n",
       "      <td>-0.333819</td>\n",
       "      <td>0.002355</td>\n",
       "      <td>-0.020421</td>\n",
       "      <td>-0.014331</td>\n",
       "      <td>0.129397</td>\n",
       "      <td>0.607154</td>\n",
       "      <td>0.746836</td>\n",
       "      <td>0.373618</td>\n",
       "      <td>1.000000</td>\n",
       "    </tr>\n",
       "  </tbody>\n",
       "</table>\n",
       "<p>24 rows × 24 columns</p>\n",
       "</div>"
      ],
      "text/plain": [
       "                      price  bedrooms  bathrooms  sqft_living  sqft_lot  \\\n",
       "price              1.000000  0.308787   0.510631     0.701917  0.089876   \n",
       "bedrooms           0.308787  1.000000   0.465995     0.578212  0.032471   \n",
       "bathrooms          0.510631  0.465995   1.000000     0.698591  0.086029   \n",
       "sqft_living        0.701917  0.578212   0.698591     1.000000  0.173453   \n",
       "sqft_lot           0.089876  0.032471   0.086029     0.173453  1.000000   \n",
       "floors             0.237264  0.158065   0.486404     0.353372 -0.008603   \n",
       "waterfront         0.264306 -0.002127   0.059587     0.104637  0.021459   \n",
       "view               0.393497  0.078354   0.175111     0.281715  0.075054   \n",
       "condition          0.036056  0.026496  -0.127328    -0.059445 -0.008830   \n",
       "grade              0.667951  0.356563   0.607156     0.762779  0.114731   \n",
       "sqft_above         0.605368  0.479386   0.640895     0.876448  0.184139   \n",
       "sqft_basement      0.322193  0.299036   0.246948     0.430192  0.015293   \n",
       "zipcode           -0.053402 -0.154092  -0.160478    -0.199802 -0.129586   \n",
       "sqft_living15      0.585241  0.393406   0.510950     0.756402  0.144763   \n",
       "sqft_lot15         0.082845  0.030690   0.082039     0.184342  0.718204   \n",
       "age               -0.053953 -0.155670  -0.434536    -0.318152 -0.052946   \n",
       "month_sold        -0.009928 -0.001046   0.004087     0.012112 -0.002591   \n",
       "year_sold          0.003727 -0.009949  -0.021699    -0.029014  0.005628   \n",
       "renovated          0.073734  0.024346   0.053010     0.030274 -0.013557   \n",
       "yard_space         0.074584  0.019723   0.070797     0.151831  0.999760   \n",
       "price_log          0.891745  0.343360   0.511357     0.695185  0.100025   \n",
       "sqft_living_log    0.611839  0.621820   0.677009     0.954607  0.150102   \n",
       "sqft_lot15_log     0.147913  0.162238   0.072745     0.321020  0.550135   \n",
       "sqft_living15_log  0.543829  0.406631   0.500864     0.732180  0.145162   \n",
       "\n",
       "                     floors  waterfront      view  condition     grade  ...  \\\n",
       "price              0.237264    0.264306  0.393497   0.036056  0.667951  ...   \n",
       "bedrooms           0.158065   -0.002127  0.078354   0.026496  0.356563  ...   \n",
       "bathrooms          0.486404    0.059587  0.175111  -0.127328  0.607156  ...   \n",
       "sqft_living        0.353372    0.104637  0.281715  -0.059445  0.762779  ...   \n",
       "sqft_lot          -0.008603    0.021459  0.075054  -0.008830  0.114731  ...   \n",
       "floors             1.000000    0.018321  0.023711  -0.293463  0.473273  ...   \n",
       "waterfront         0.018321    1.000000  0.380543   0.016648  0.082818  ...   \n",
       "view               0.023711    0.380543  1.000000   0.045622  0.249082  ...   \n",
       "condition         -0.293463    0.016648  0.045622   1.000000 -0.146896  ...   \n",
       "grade              0.473273    0.082818  0.249082  -0.146896  1.000000  ...   \n",
       "sqft_above         0.518037    0.071778  0.166017  -0.158904  0.756073  ...   \n",
       "sqft_basement     -0.232392    0.083778  0.272311   0.169153  0.166398  ...   \n",
       "zipcode           -0.097146    0.028923  0.085059   0.002888 -0.185771  ...   \n",
       "sqft_living15      0.296797    0.083823  0.278928  -0.093072  0.713867  ...   \n",
       "sqft_lot15        -0.012766    0.030658  0.073083  -0.003126  0.120981  ...   \n",
       "age               -0.578549    0.024487  0.054452   0.361592 -0.447865  ...   \n",
       "month_sold         0.013083    0.008199 -0.005161   0.022388  0.008989  ...   \n",
       "year_sold         -0.019523   -0.005018  0.001239  -0.045898 -0.030635  ...   \n",
       "renovated         -0.012706    0.000432  0.023967  -0.065082  0.018676  ...   \n",
       "yard_space        -0.016497    0.019208  0.069058  -0.007539  0.098174  ...   \n",
       "price_log          0.286106    0.170720  0.344653   0.038918  0.703720  ...   \n",
       "sqft_living_log    0.363827    0.078900  0.244804  -0.049620  0.743038  ...   \n",
       "sqft_lot15_log    -0.208712    0.081562  0.119119   0.079862  0.185000  ...   \n",
       "sqft_living15_log  0.291710    0.076503  0.262556  -0.089255  0.689054  ...   \n",
       "\n",
       "                   sqft_lot15       age  month_sold  year_sold  renovated  \\\n",
       "price                0.082845 -0.053953   -0.009928   0.003727   0.073734   \n",
       "bedrooms             0.030690 -0.155670   -0.001046  -0.009949   0.024346   \n",
       "bathrooms            0.082039 -0.434536    0.004087  -0.021699   0.053010   \n",
       "sqft_living          0.184342 -0.318152    0.012112  -0.029014   0.030274   \n",
       "sqft_lot             0.718204 -0.052946   -0.002591   0.005628  -0.013557   \n",
       "floors              -0.012766 -0.578549    0.013083  -0.019523  -0.012706   \n",
       "waterfront           0.030658  0.024487    0.008199  -0.005018   0.000432   \n",
       "view                 0.073083  0.054452   -0.005161   0.001239   0.023967   \n",
       "condition           -0.003126  0.361592    0.022388  -0.045898  -0.065082   \n",
       "grade                0.120981 -0.447865    0.008989  -0.030635   0.018676   \n",
       "sqft_above           0.195077 -0.424037    0.010153  -0.023782  -0.002101   \n",
       "sqft_basement        0.016419  0.131200    0.006978  -0.015699   0.066151   \n",
       "zipcode             -0.147294  0.347210   -0.000143   0.001290   0.048223   \n",
       "sqft_living15        0.183515 -0.326377    0.002513  -0.021549  -0.012260   \n",
       "sqft_lot15           1.000000 -0.070777    0.003189   0.000162  -0.014516   \n",
       "age                 -0.070777  1.000000    0.006235  -0.003574   0.111443   \n",
       "month_sold           0.003189  0.006235    1.000000  -0.782325   0.005303   \n",
       "year_sold            0.000162 -0.003574   -0.782325   1.000000  -0.013408   \n",
       "renovated           -0.014516  0.111443    0.005303  -0.013408   1.000000   \n",
       "yard_space           0.716702 -0.046059   -0.002869   0.006294  -0.014279   \n",
       "price_log            0.092281 -0.080583   -0.013064   0.004972   0.073672   \n",
       "sqft_living_log      0.162890 -0.349689    0.012456  -0.029434   0.029123   \n",
       "sqft_lot15_log       0.701523 -0.018759   -0.001652  -0.006988  -0.014348   \n",
       "sqft_living15_log    0.178371 -0.333819    0.002355  -0.020421  -0.014331   \n",
       "\n",
       "                   yard_space  price_log  sqft_living_log  sqft_lot15_log  \\\n",
       "price                0.074584   0.891745         0.611839        0.147913   \n",
       "bedrooms             0.019723   0.343360         0.621820        0.162238   \n",
       "bathrooms            0.070797   0.511357         0.677009        0.072745   \n",
       "sqft_living          0.151831   0.695185         0.954607        0.321020   \n",
       "sqft_lot             0.999760   0.100025         0.150102        0.550135   \n",
       "floors              -0.016497   0.286106         0.363827       -0.208712   \n",
       "waterfront           0.019208   0.170720         0.078900        0.081562   \n",
       "view                 0.069058   0.344653         0.244804        0.119119   \n",
       "condition           -0.007539   0.038918        -0.049620        0.079862   \n",
       "grade                0.098174   0.703720         0.743038        0.185000   \n",
       "sqft_above           0.165305   0.601579         0.832380        0.312412   \n",
       "sqft_basement        0.005776   0.314281         0.418611        0.079551   \n",
       "zipcode             -0.125609  -0.038788        -0.222128       -0.280095   \n",
       "sqft_living15        0.128457   0.619326         0.737215        0.375973   \n",
       "sqft_lot15           0.716702   0.092281         0.162890        0.701523   \n",
       "age                 -0.046059  -0.080583        -0.349689       -0.018759   \n",
       "month_sold          -0.002869  -0.013064         0.012456       -0.001652   \n",
       "year_sold            0.006294   0.004972        -0.029434       -0.006988   \n",
       "renovated           -0.014279   0.073672         0.029123       -0.014348   \n",
       "yard_space           1.000000   0.084919         0.129405        0.544983   \n",
       "price_log            0.084919   1.000000         0.674802        0.123710   \n",
       "sqft_living_log      0.129405   0.674802         1.000000        0.303058   \n",
       "sqft_lot15_log       0.544983   0.123710         0.303058        1.000000   \n",
       "sqft_living15_log    0.129397   0.607154         0.746836        0.373618   \n",
       "\n",
       "                   sqft_living15_log  \n",
       "price                       0.543829  \n",
       "bedrooms                    0.406631  \n",
       "bathrooms                   0.500864  \n",
       "sqft_living                 0.732180  \n",
       "sqft_lot                    0.145162  \n",
       "floors                      0.291710  \n",
       "waterfront                  0.076503  \n",
       "view                        0.262556  \n",
       "condition                  -0.089255  \n",
       "grade                       0.689054  \n",
       "sqft_above                  0.701745  \n",
       "sqft_basement               0.204857  \n",
       "zipcode                    -0.290355  \n",
       "sqft_living15               0.976819  \n",
       "sqft_lot15                  0.178371  \n",
       "age                        -0.333819  \n",
       "month_sold                  0.002355  \n",
       "year_sold                  -0.020421  \n",
       "renovated                  -0.014331  \n",
       "yard_space                  0.129397  \n",
       "price_log                   0.607154  \n",
       "sqft_living_log             0.746836  \n",
       "sqft_lot15_log              0.373618  \n",
       "sqft_living15_log           1.000000  \n",
       "\n",
       "[24 rows x 24 columns]"
      ]
     },
     "execution_count": 30,
     "metadata": {},
     "output_type": "execute_result"
    }
   ],
   "source": [
    "data_corr = data.corr()\n",
    "data_corr"
   ]
  },
  {
   "cell_type": "code",
   "execution_count": 31,
   "id": "a8848acf",
   "metadata": {
    "ExecuteTime": {
     "end_time": "2021-04-29T17:11:08.924200Z",
     "start_time": "2021-04-29T17:11:08.307953Z"
    }
   },
   "outputs": [
    {
     "data": {
      "image/png": "[encoded data removed]",
      "text/plain": [
       "<Figure size 792x648 with 2 Axes>"
      ]
     },
     "metadata": {},
     "output_type": "display_data"
    }
   ],
   "source": [
    "mask = np.triu(np.ones_like(data_corr, dtype=np.bool))\n",
    "\n",
    "fig1, ax1 = plt.subplots(figsize=(11, 9))\n",
    "sns.heatmap(data_corr, mask=mask, ax=ax1, cmap=\"viridis\");"
   ]
  },
  {
   "cell_type": "markdown",
   "id": "85405c33",
   "metadata": {},
   "source": [
    "# Further Data Exploration of Selected Independent variable"
   ]
  },
  {
   "cell_type": "code",
   "execution_count": 32,
   "id": "04150838",
   "metadata": {
    "ExecuteTime": {
     "end_time": "2021-04-29T17:11:08.931911Z",
     "start_time": "2021-04-29T17:11:08.925787Z"
    }
   },
   "outputs": [],
   "source": [
    "model1_cols = ['price_log', 'sqft_living_log', 'view', 'grade', 'age', 'waterfront', 'bathrooms', 'bedrooms', 'sqft_lot15_log', 'year_sold', 'condition', 'floors', 'sqft_living15_log','renovated', 'month_sold']\n",
    "model1 = data[model1_cols]"
   ]
  },
  {
   "cell_type": "code",
   "execution_count": 33,
   "id": "1e7aad80",
   "metadata": {
    "ExecuteTime": {
     "end_time": "2021-04-29T17:11:11.728099Z",
     "start_time": "2021-04-29T17:11:08.933578Z"
    }
   },
   "outputs": [
    {
     "data": {
      "image/png": "[encoded data removed]",
      "text/plain": [
       "<Figure size 1440x720 with 16 Axes>"
      ]
     },
     "metadata": {},
     "output_type": "display_data"
    }
   ],
   "source": [
    "model1.hist(figsize  = [20, 10]); "
   ]
  },
  {
   "cell_type": "code",
   "execution_count": 34,
   "id": "c2519ac6",
   "metadata": {
    "ExecuteTime": {
     "end_time": "2021-04-29T17:11:11.734943Z",
     "start_time": "2021-04-29T17:11:11.730370Z"
    }
   },
   "outputs": [],
   "source": [
    "def bootstrap(df,column,target,sample_size=300):\n",
    "    unique = df[column].unique()\n",
    "    for val in unique:\n",
    "        samples = []\n",
    "        frame = df[df[column] == val]\n",
    "        for i in range(sample_size):\n",
    "            sample = np.random.choice(frame[target], size = frame.shape[0], replace = True)\n",
    "            samples.append(sample.mean())\n",
    "        plt.hist(samples, label = val, alpha =.7)\n",
    "    plt.legend();"
   ]
  },
  {
   "cell_type": "code",
   "execution_count": 35,
   "id": "641b2f7a",
   "metadata": {
    "ExecuteTime": {
     "end_time": "2021-04-29T17:11:12.071564Z",
     "start_time": "2021-04-29T17:11:11.736849Z"
    }
   },
   "outputs": [
    {
     "data": {
      "image/png": "[encoded data removed]",
      "text/plain": [
       "<Figure size 1080x432 with 1 Axes>"
      ]
     },
     "metadata": {},
     "output_type": "display_data"
    }
   ],
   "source": [
    "plt.figure(figsize = (15,6))\n",
    "frame = model1[model1.bedrooms>8]\n",
    "bootstrap(frame,'bedrooms','price_log')"
   ]
  },
  {
   "cell_type": "code",
   "execution_count": 36,
   "id": "cdc6896c",
   "metadata": {
    "ExecuteTime": {
     "end_time": "2021-04-29T17:11:12.234279Z",
     "start_time": "2021-04-29T17:11:12.073257Z"
    }
   },
   "outputs": [
    {
     "name": "stderr",
     "output_type": "stream",
     "text": [
      "No handles with labels found to put in legend.\n"
     ]
    },
    {
     "data": {
      "image/png": "[encoded data removed]",
      "text/plain": [
       "<Figure size 1080x432 with 1 Axes>"
      ]
     },
     "metadata": {},
     "output_type": "display_data"
    }
   ],
   "source": [
    "plt.figure(figsize = (15,6))\n",
    "frame = model1[model1.sqft_living_log>5000]\n",
    "bootstrap(frame,'sqft_living_log','price')"
   ]
  },
  {
   "cell_type": "code",
   "execution_count": 37,
   "id": "639a8305",
   "metadata": {
    "ExecuteTime": {
     "end_time": "2021-04-29T17:11:12.391212Z",
     "start_time": "2021-04-29T17:11:12.235951Z"
    }
   },
   "outputs": [
    {
     "name": "stderr",
     "output_type": "stream",
     "text": [
      "No handles with labels found to put in legend.\n"
     ]
    },
    {
     "data": {
      "image/png": "[encoded data removed]",
      "text/plain": [
       "<Figure size 1080x432 with 1 Axes>"
      ]
     },
     "metadata": {},
     "output_type": "display_data"
    }
   ],
   "source": [
    "plt.figure(figsize = (15,6))\n",
    "frame = model1[model1.sqft_living15_log>4000]\n",
    "bootstrap(frame,'sqft_living15_log','price')"
   ]
  },
  {
   "cell_type": "code",
   "execution_count": 38,
   "id": "f231e1f4",
   "metadata": {
    "ExecuteTime": {
     "end_time": "2021-04-29T17:11:12.425245Z",
     "start_time": "2021-04-29T17:11:12.392821Z"
    }
   },
   "outputs": [],
   "source": [
    "# Removing Outliers\n",
    "model1 = model1[model1.apply(lambda x: np.abs(x - x.mean()) / x.std() < 3).all(axis=1)]"
   ]
  },
  {
   "cell_type": "code",
   "execution_count": 39,
   "id": "9e019eb8",
   "metadata": {
    "ExecuteTime": {
     "end_time": "2021-04-29T17:11:15.271346Z",
     "start_time": "2021-04-29T17:11:12.427429Z"
    }
   },
   "outputs": [
    {
     "data": {
      "text/plain": [
       "<seaborn.axisgrid.PairGrid at 0x7fcfeda95070>"
      ]
     },
     "execution_count": 39,
     "metadata": {},
     "output_type": "execute_result"
    },
    {
     "data": {
      "image/png": "[encoded data removed]",
      "text/plain": [
       "<Figure size 2520x180 with 14 Axes>"
      ]
     },
     "metadata": {},
     "output_type": "display_data"
    }
   ],
   "source": [
    "sns.pairplot(data = model1,\n",
    "                y_vars=['price_log'],\n",
    "                x_vars=['sqft_living_log', 'view', 'grade', 'age', 'waterfront', 'bathrooms', 'bedrooms', 'sqft_lot15_log', 'year_sold', 'condition', 'floors', 'sqft_living15_log','renovated', 'month_sold'])"
   ]
  },
  {
   "cell_type": "markdown",
   "id": "229c8b56",
   "metadata": {},
   "source": [
    "# Linear Regression Model"
   ]
  },
  {
   "cell_type": "code",
   "execution_count": 40,
   "id": "4b85cd51",
   "metadata": {
    "ExecuteTime": {
     "end_time": "2021-04-29T17:11:15.279878Z",
     "start_time": "2021-04-29T17:11:15.273218Z"
    }
   },
   "outputs": [],
   "source": [
    "fsm_df1 = model1.copy()\n",
    "fsm_df1.dropna(inplace=True)"
   ]
  },
  {
   "cell_type": "code",
   "execution_count": 41,
   "id": "d44a16a6",
   "metadata": {
    "ExecuteTime": {
     "end_time": "2021-04-29T17:11:15.335801Z",
     "start_time": "2021-04-29T17:11:15.282417Z"
    }
   },
   "outputs": [],
   "source": [
    "fsm1 = ols(formula =\"price_log ~ sqft_living_log + view + grade + age + waterfront + bathrooms + bedrooms + sqft_lot15_log + year_sold + condition + floors + sqft_living15_log + month_sold\", data = fsm_df1)\n",
    "fsm_results1 = fsm1.fit()"
   ]
  },
  {
   "cell_type": "code",
   "execution_count": 42,
   "id": "f7844b8f",
   "metadata": {
    "ExecuteTime": {
     "end_time": "2021-04-29T17:11:15.361647Z",
     "start_time": "2021-04-29T17:11:15.337920Z"
    }
   },
   "outputs": [
    {
     "data": {
      "text/html": [
       "<table class=\"simpletable\">\n",
       "<caption>OLS Regression Results</caption>\n",
       "<tr>\n",
       "  <th>Dep. Variable:</th>        <td>price_log</td>    <th>  R-squared:         </th> <td>   0.597</td>\n",
       "</tr>\n",
       "<tr>\n",
       "  <th>Model:</th>                   <td>OLS</td>       <th>  Adj. R-squared:    </th> <td>   0.597</td>\n",
       "</tr>\n",
       "<tr>\n",
       "  <th>Method:</th>             <td>Least Squares</td>  <th>  F-statistic:       </th> <td>   2432.</td>\n",
       "</tr>\n",
       "<tr>\n",
       "  <th>Date:</th>             <td>Thu, 29 Apr 2021</td> <th>  Prob (F-statistic):</th>  <td>  0.00</td> \n",
       "</tr>\n",
       "<tr>\n",
       "  <th>Time:</th>                 <td>11:11:15</td>     <th>  Log-Likelihood:    </th> <td> -4252.8</td>\n",
       "</tr>\n",
       "<tr>\n",
       "  <th>No. Observations:</th>      <td> 19675</td>      <th>  AIC:               </th> <td>   8532.</td>\n",
       "</tr>\n",
       "<tr>\n",
       "  <th>Df Residuals:</th>          <td> 19662</td>      <th>  BIC:               </th> <td>   8634.</td>\n",
       "</tr>\n",
       "<tr>\n",
       "  <th>Df Model:</th>              <td>    12</td>      <th>                     </th>     <td> </td>   \n",
       "</tr>\n",
       "<tr>\n",
       "  <th>Covariance Type:</th>      <td>nonrobust</td>    <th>                     </th>     <td> </td>   \n",
       "</tr>\n",
       "</table>\n",
       "<table class=\"simpletable\">\n",
       "<tr>\n",
       "          <td></td>             <th>coef</th>     <th>std err</th>      <th>t</th>      <th>P>|t|</th>  <th>[0.025</th>    <th>0.975]</th>  \n",
       "</tr>\n",
       "<tr>\n",
       "  <th>Intercept</th>         <td>  -76.9036</td> <td>   14.876</td> <td>   -5.170</td> <td> 0.000</td> <td> -106.061</td> <td>  -47.746</td>\n",
       "</tr>\n",
       "<tr>\n",
       "  <th>sqft_living_log</th>   <td>    0.3589</td> <td>    0.011</td> <td>   32.008</td> <td> 0.000</td> <td>    0.337</td> <td>    0.381</td>\n",
       "</tr>\n",
       "<tr>\n",
       "  <th>view</th>              <td>    0.0477</td> <td>    0.005</td> <td>    9.113</td> <td> 0.000</td> <td>    0.037</td> <td>    0.058</td>\n",
       "</tr>\n",
       "<tr>\n",
       "  <th>grade</th>             <td>    0.2108</td> <td>    0.003</td> <td>   63.582</td> <td> 0.000</td> <td>    0.204</td> <td>    0.217</td>\n",
       "</tr>\n",
       "<tr>\n",
       "  <th>age</th>               <td>    0.0058</td> <td>    0.000</td> <td>   56.727</td> <td> 0.000</td> <td>    0.006</td> <td>    0.006</td>\n",
       "</tr>\n",
       "<tr>\n",
       "  <th>waterfront</th>        <td>-2.139e-13</td> <td> 4.14e-14</td> <td>   -5.168</td> <td> 0.000</td> <td>-2.95e-13</td> <td>-1.33e-13</td>\n",
       "</tr>\n",
       "<tr>\n",
       "  <th>bathrooms</th>         <td>    0.0560</td> <td>    0.005</td> <td>   11.506</td> <td> 0.000</td> <td>    0.046</td> <td>    0.066</td>\n",
       "</tr>\n",
       "<tr>\n",
       "  <th>bedrooms</th>          <td>   -0.0349</td> <td>    0.003</td> <td>  -10.375</td> <td> 0.000</td> <td>   -0.041</td> <td>   -0.028</td>\n",
       "</tr>\n",
       "<tr>\n",
       "  <th>sqft_lot15_log</th>    <td>   -0.1001</td> <td>    0.004</td> <td>  -26.877</td> <td> 0.000</td> <td>   -0.107</td> <td>   -0.093</td>\n",
       "</tr>\n",
       "<tr>\n",
       "  <th>year_sold</th>         <td>    0.0416</td> <td>    0.007</td> <td>    5.641</td> <td> 0.000</td> <td>    0.027</td> <td>    0.056</td>\n",
       "</tr>\n",
       "<tr>\n",
       "  <th>condition</th>         <td>    0.0475</td> <td>    0.004</td> <td>   12.982</td> <td> 0.000</td> <td>    0.040</td> <td>    0.055</td>\n",
       "</tr>\n",
       "<tr>\n",
       "  <th>floors</th>            <td>    0.0449</td> <td>    0.006</td> <td>    7.898</td> <td> 0.000</td> <td>    0.034</td> <td>    0.056</td>\n",
       "</tr>\n",
       "<tr>\n",
       "  <th>sqft_living15_log</th> <td>    0.2826</td> <td>    0.011</td> <td>   25.180</td> <td> 0.000</td> <td>    0.261</td> <td>    0.305</td>\n",
       "</tr>\n",
       "<tr>\n",
       "  <th>month_sold</th>        <td>    0.0002</td> <td>    0.001</td> <td>    0.176</td> <td> 0.860</td> <td>   -0.002</td> <td>    0.002</td>\n",
       "</tr>\n",
       "</table>\n",
       "<table class=\"simpletable\">\n",
       "<tr>\n",
       "  <th>Omnibus:</th>       <td>37.807</td> <th>  Durbin-Watson:     </th> <td>   1.969</td>\n",
       "</tr>\n",
       "<tr>\n",
       "  <th>Prob(Omnibus):</th> <td> 0.000</td> <th>  Jarque-Bera (JB):  </th> <td>  39.361</td>\n",
       "</tr>\n",
       "<tr>\n",
       "  <th>Skew:</th>          <td>-0.088</td> <th>  Prob(JB):          </th> <td>2.84e-09</td>\n",
       "</tr>\n",
       "<tr>\n",
       "  <th>Kurtosis:</th>      <td> 3.131</td> <th>  Cond. No.          </th> <td>3.23e+20</td>\n",
       "</tr>\n",
       "</table><br/><br/>Notes:<br/>[1] Standard Errors assume that the covariance matrix of the errors is correctly specified.<br/>[2] The smallest eigenvalue is 7.68e-31. This might indicate that there are<br/>strong multicollinearity problems or that the design matrix is singular."
      ],
      "text/plain": [
       "<class 'statsmodels.iolib.summary.Summary'>\n",
       "\"\"\"\n",
       "                            OLS Regression Results                            \n",
       "==============================================================================\n",
       "Dep. Variable:              price_log   R-squared:                       0.597\n",
       "Model:                            OLS   Adj. R-squared:                  0.597\n",
       "Method:                 Least Squares   F-statistic:                     2432.\n",
       "Date:                Thu, 29 Apr 2021   Prob (F-statistic):               0.00\n",
       "Time:                        11:11:15   Log-Likelihood:                -4252.8\n",
       "No. Observations:               19675   AIC:                             8532.\n",
       "Df Residuals:                   19662   BIC:                             8634.\n",
       "Df Model:                          12                                         \n",
       "Covariance Type:            nonrobust                                         \n",
       "=====================================================================================\n",
       "                        coef    std err          t      P>|t|      [0.025      0.975]\n",
       "-------------------------------------------------------------------------------------\n",
       "Intercept           -76.9036     14.876     -5.170      0.000    -106.061     -47.746\n",
       "sqft_living_log       0.3589      0.011     32.008      0.000       0.337       0.381\n",
       "view                  0.0477      0.005      9.113      0.000       0.037       0.058\n",
       "grade                 0.2108      0.003     63.582      0.000       0.204       0.217\n",
       "age                   0.0058      0.000     56.727      0.000       0.006       0.006\n",
       "waterfront        -2.139e-13   4.14e-14     -5.168      0.000   -2.95e-13   -1.33e-13\n",
       "bathrooms             0.0560      0.005     11.506      0.000       0.046       0.066\n",
       "bedrooms             -0.0349      0.003    -10.375      0.000      -0.041      -0.028\n",
       "sqft_lot15_log       -0.1001      0.004    -26.877      0.000      -0.107      -0.093\n",
       "year_sold             0.0416      0.007      5.641      0.000       0.027       0.056\n",
       "condition             0.0475      0.004     12.982      0.000       0.040       0.055\n",
       "floors                0.0449      0.006      7.898      0.000       0.034       0.056\n",
       "sqft_living15_log     0.2826      0.011     25.180      0.000       0.261       0.305\n",
       "month_sold            0.0002      0.001      0.176      0.860      -0.002       0.002\n",
       "==============================================================================\n",
       "Omnibus:                       37.807   Durbin-Watson:                   1.969\n",
       "Prob(Omnibus):                  0.000   Jarque-Bera (JB):               39.361\n",
       "Skew:                          -0.088   Prob(JB):                     2.84e-09\n",
       "Kurtosis:                       3.131   Cond. No.                     3.23e+20\n",
       "==============================================================================\n",
       "\n",
       "Notes:\n",
       "[1] Standard Errors assume that the covariance matrix of the errors is correctly specified.\n",
       "[2] The smallest eigenvalue is 7.68e-31. This might indicate that there are\n",
       "strong multicollinearity problems or that the design matrix is singular.\n",
       "\"\"\""
      ]
     },
     "execution_count": 42,
     "metadata": {},
     "output_type": "execute_result"
    }
   ],
   "source": [
    "fsm_results1.summary()"
   ]
  },
  {
   "cell_type": "markdown",
   "id": "cfdb7c57",
   "metadata": {},
   "source": [
    "#  Model 1, Evaluation:\n",
    "\n",
    "We are explaining about roughly 60% of the variance in home price, with our 14 features so far and it's statistically significant.\n",
    "\n",
    "According to our model:\n",
    "\n",
    " - For each additional footage of the home, we expect the home price to increase 171\n",
    " \n",
    " - For each additional bathroom, we expect the home price to increase by 9600\n",
    " \n",
    " - ...\n",
    " "
   ]
  },
  {
   "cell_type": "markdown",
   "id": "1c512c54",
   "metadata": {},
   "source": [
    "## Linearity Model 1 Assumption \n",
    "\n",
    "The null hypothesis is that the model is linearly predicted by the features, alternative hypothesis is that it is not. \n",
    "\n",
    "Thus returning a p-value above .05 means that the current model does meet the linearity assumption."
   ]
  },
  {
   "cell_type": "code",
   "execution_count": 43,
   "id": "aebf1823",
   "metadata": {
    "ExecuteTime": {
     "end_time": "2021-04-29T17:11:15.373338Z",
     "start_time": "2021-04-29T17:11:15.364172Z"
    }
   },
   "outputs": [
    {
     "name": "stdout",
     "output_type": "stream",
     "text": [
      "Rainbow statistic: 0.9793599478226508\n",
      "Rainbow p-value: 0.849414143177961\n"
     ]
    }
   ],
   "source": [
    "rainbow_statistic, rainbow_p_value = linear_rainbow(fsm_results1)\n",
    "print(\"Rainbow statistic:\", rainbow_statistic)\n",
    "print(\"Rainbow p-value:\", rainbow_p_value)"
   ]
  },
  {
   "cell_type": "markdown",
   "id": "0292104d",
   "metadata": {},
   "source": [
    "## Normality Model 1 Assumption\n",
    "\n",
    "Linear regression assumes that the residuals are normally distributed. The null hypothesis is that the residuals are normally distributed, alternative hypothesis is that they are not. \n",
    "\n",
    "Thus returning a low p-value means that the current model violates the normality assumption."
   ]
  },
  {
   "cell_type": "code",
   "execution_count": 44,
   "id": "38796c2c",
   "metadata": {
    "ExecuteTime": {
     "end_time": "2021-04-29T17:11:15.377572Z",
     "start_time": "2021-04-29T17:11:15.375399Z"
    }
   },
   "outputs": [],
   "source": [
    "# Jarque-Bera (JB): 39.361\n",
    "# ]Prob(JB): 2.84e-09"
   ]
  },
  {
   "cell_type": "code",
   "execution_count": null,
   "id": "c36ec7dc",
   "metadata": {},
   "outputs": [],
   "source": [
    "#Check qqplots vs non-log/log"
   ]
  },
  {
   "cell_type": "markdown",
   "id": "f246c9d1",
   "metadata": {},
   "source": [
    "## Homoscadasticity for Model 1:\n",
    "\n",
    "Linear regression assumes that the variance of the dependent variable is homogeneous across different value of the independent variable(s). \n",
    "\n",
    "We can visualize this by looking at the predicted life expectancy vs. the residuals.\n",
    "\n",
    "The null hypothesis is homoscedasticity, alternative hypothesis is heteroscedasticity. \n",
    "\n",
    "Thus returning a low p-value means that the current model violates the homoscedasticity assumption."
   ]
  },
  {
   "cell_type": "code",
   "execution_count": 45,
   "id": "31eed9dc",
   "metadata": {
    "ExecuteTime": {
     "end_time": "2021-04-29T17:11:15.383590Z",
     "start_time": "2021-04-29T17:11:15.379813Z"
    }
   },
   "outputs": [],
   "source": [
    "y = fsm_df1[\"price_log\"]\n",
    "y_hat = fsm_results1.predict()"
   ]
  },
  {
   "cell_type": "code",
   "execution_count": 46,
   "id": "d951adce",
   "metadata": {
    "ExecuteTime": {
     "end_time": "2021-04-29T17:11:15.588473Z",
     "start_time": "2021-04-29T17:11:15.385515Z"
    }
   },
   "outputs": [
    {
     "data": {
      "image/png": "[encoded data removed]",
      "text/plain": [
       "<Figure size 432x288 with 1 Axes>"
      ]
     },
     "metadata": {},
     "output_type": "display_data"
    }
   ],
   "source": [
    "fig2, ax2 = plt.subplots()\n",
    "ax2.set(xlabel=\"Predicted Home Price\",\n",
    "        ylabel=\"Residuals (Predicted - Actual Home Price)\")\n",
    "ax2.scatter(x = y_hat, y = y_hat-y, color = \"blue\", alpha=0.2);"
   ]
  },
  {
   "cell_type": "code",
   "execution_count": 47,
   "id": "287e0bd6",
   "metadata": {
    "ExecuteTime": {
     "end_time": "2021-04-29T17:11:15.609945Z",
     "start_time": "2021-04-29T17:11:15.590186Z"
    }
   },
   "outputs": [
    {
     "name": "stdout",
     "output_type": "stream",
     "text": [
      "Lagrange Multiplier p-value: 0.0\n",
      "F-statistic p-value: 0.0\n"
     ]
    }
   ],
   "source": [
    "lm, lm_p_value, fvalue, f_p_value = het_breuschpagan(y-y_hat, fsm_df1[['sqft_living_log', 'view', 'grade', 'age', 'waterfront', 'bathrooms', 'bedrooms', 'sqft_lot15_log', 'year_sold', 'condition', 'floors', 'sqft_living15_log','renovated', 'month_sold']])\n",
    "print(\"Lagrange Multiplier p-value:\", lm_p_value)\n",
    "print(\"F-statistic p-value:\", f_p_value)"
   ]
  },
  {
   "cell_type": "markdown",
   "id": "677548f8",
   "metadata": {},
   "source": [
    "## Independence for Model 1:\n",
    "\n",
    "You might have noticed in the regression output that there was a warning about the condition number being high. \n",
    "\n",
    "The condition number is a measure of stability of the matrix used for computing the regression and a number above 30 can indicate strong multicollinearity. \n",
    "\n",
    "Our output was 3.23e+20"
   ]
  },
  {
   "cell_type": "code",
   "execution_count": 48,
   "id": "d0ba6588",
   "metadata": {
    "ExecuteTime": {
     "end_time": "2021-04-29T17:11:15.759939Z",
     "start_time": "2021-04-29T17:11:15.611995Z"
    }
   },
   "outputs": [
    {
     "name": "stderr",
     "output_type": "stream",
     "text": [
      "/Users/sammy/opt/anaconda3/lib/python3.8/site-packages/statsmodels/regression/linear_model.py:1717: RuntimeWarning: invalid value encountered in double_scalars\n",
      "  return 1 - self.ssr/self.uncentered_tss\n"
     ]
    },
    {
     "data": {
      "text/html": [
       "<div>\n",
       "<style scoped>\n",
       "    .dataframe tbody tr th:only-of-type {\n",
       "        vertical-align: middle;\n",
       "    }\n",
       "\n",
       "    .dataframe tbody tr th {\n",
       "        vertical-align: top;\n",
       "    }\n",
       "\n",
       "    .dataframe thead th {\n",
       "        text-align: right;\n",
       "    }\n",
       "</style>\n",
       "<table border=\"1\" class=\"dataframe\">\n",
       "  <thead>\n",
       "    <tr style=\"text-align: right;\">\n",
       "      <th></th>\n",
       "      <th>VIF</th>\n",
       "      <th>feature</th>\n",
       "    </tr>\n",
       "  </thead>\n",
       "  <tbody>\n",
       "    <tr>\n",
       "      <th>0</th>\n",
       "      <td>1552.696699</td>\n",
       "      <td>sqft_living_log</td>\n",
       "    </tr>\n",
       "    <tr>\n",
       "      <th>1</th>\n",
       "      <td>1.118002</td>\n",
       "      <td>view</td>\n",
       "    </tr>\n",
       "    <tr>\n",
       "      <th>2</th>\n",
       "      <td>139.741958</td>\n",
       "      <td>grade</td>\n",
       "    </tr>\n",
       "    <tr>\n",
       "      <th>3</th>\n",
       "      <td>7.553497</td>\n",
       "      <td>age</td>\n",
       "    </tr>\n",
       "    <tr>\n",
       "      <th>4</th>\n",
       "      <td>NaN</td>\n",
       "      <td>waterfront</td>\n",
       "    </tr>\n",
       "    <tr>\n",
       "      <th>5</th>\n",
       "      <td>16.745377</td>\n",
       "      <td>bathrooms</td>\n",
       "    </tr>\n",
       "    <tr>\n",
       "      <th>6</th>\n",
       "      <td>29.176152</td>\n",
       "      <td>bedrooms</td>\n",
       "    </tr>\n",
       "    <tr>\n",
       "      <th>7</th>\n",
       "      <td>239.862140</td>\n",
       "      <td>sqft_lot15_log</td>\n",
       "    </tr>\n",
       "    <tr>\n",
       "      <th>8</th>\n",
       "      <td>1098.974077</td>\n",
       "      <td>year_sold</td>\n",
       "    </tr>\n",
       "    <tr>\n",
       "      <th>9</th>\n",
       "      <td>35.155176</td>\n",
       "      <td>condition</td>\n",
       "    </tr>\n",
       "    <tr>\n",
       "      <th>10</th>\n",
       "      <td>16.658713</td>\n",
       "      <td>floors</td>\n",
       "    </tr>\n",
       "    <tr>\n",
       "      <th>11</th>\n",
       "      <td>1552.766826</td>\n",
       "      <td>sqft_living15_log</td>\n",
       "    </tr>\n",
       "    <tr>\n",
       "      <th>12</th>\n",
       "      <td>NaN</td>\n",
       "      <td>renovated</td>\n",
       "    </tr>\n",
       "    <tr>\n",
       "      <th>13</th>\n",
       "      <td>5.445621</td>\n",
       "      <td>month_sold</td>\n",
       "    </tr>\n",
       "  </tbody>\n",
       "</table>\n",
       "</div>"
      ],
      "text/plain": [
       "            VIF            feature\n",
       "0   1552.696699    sqft_living_log\n",
       "1      1.118002               view\n",
       "2    139.741958              grade\n",
       "3      7.553497                age\n",
       "4           NaN         waterfront\n",
       "5     16.745377          bathrooms\n",
       "6     29.176152           bedrooms\n",
       "7    239.862140     sqft_lot15_log\n",
       "8   1098.974077          year_sold\n",
       "9     35.155176          condition\n",
       "10    16.658713             floors\n",
       "11  1552.766826  sqft_living15_log\n",
       "12          NaN          renovated\n",
       "13     5.445621         month_sold"
      ]
     },
     "execution_count": 48,
     "metadata": {},
     "output_type": "execute_result"
    }
   ],
   "source": [
    "rows = fsm_df1[['sqft_living_log', 'view', 'grade', 'age', 'waterfront', 'bathrooms', 'bedrooms', 'sqft_lot15_log', 'year_sold', 'condition', 'floors', 'sqft_living15_log','renovated', 'month_sold']].values\n",
    "\n",
    "vif_df = pd.DataFrame()\n",
    "vif_df[\"VIF\"] = [variance_inflation_factor(rows, i) for i in range(14)]\n",
    "vif_df[\"feature\"] = ['sqft_living_log', 'view', 'grade', 'age', 'waterfront', 'bathrooms', 'bedrooms', 'sqft_lot15_log', 'year_sold', 'condition', 'floors', 'sqft_living15_log','renovated', 'month_sold']\n",
    "\n",
    "vif_df"
   ]
  },
  {
   "cell_type": "code",
   "execution_count": 70,
   "id": "01b6633c",
   "metadata": {
    "ExecuteTime": {
     "end_time": "2021-04-29T17:22:13.458941Z",
     "start_time": "2021-04-29T17:22:13.455344Z"
    }
   },
   "outputs": [
    {
     "data": {
      "text/plain": [
       "(19675, 15)"
      ]
     },
     "execution_count": 70,
     "metadata": {},
     "output_type": "execute_result"
    }
   ],
   "source": [
    "model1.shape"
   ]
  },
  {
   "cell_type": "markdown",
   "id": "6c6f8de0",
   "metadata": {},
   "source": [
    "# Let's try to standard scale our non-logged columns to improve our assumptions....hopefully"
   ]
  },
  {
   "cell_type": "code",
   "execution_count": 72,
   "id": "ad41758c",
   "metadata": {
    "ExecuteTime": {
     "end_time": "2021-04-29T17:24:02.588774Z",
     "start_time": "2021-04-29T17:24:02.562194Z"
    }
   },
   "outputs": [
    {
     "name": "stdout",
     "output_type": "stream",
     "text": [
      "(19675, 15)\n"
     ]
    },
    {
     "data": {
      "text/html": [
       "<div>\n",
       "<style scoped>\n",
       "    .dataframe tbody tr th:only-of-type {\n",
       "        vertical-align: middle;\n",
       "    }\n",
       "\n",
       "    .dataframe tbody tr th {\n",
       "        vertical-align: top;\n",
       "    }\n",
       "\n",
       "    .dataframe thead th {\n",
       "        text-align: right;\n",
       "    }\n",
       "</style>\n",
       "<table border=\"1\" class=\"dataframe\">\n",
       "  <thead>\n",
       "    <tr style=\"text-align: right;\">\n",
       "      <th></th>\n",
       "      <th>price_log</th>\n",
       "      <th>sqft_living_log</th>\n",
       "      <th>view</th>\n",
       "      <th>grade</th>\n",
       "      <th>age</th>\n",
       "      <th>waterfront</th>\n",
       "      <th>bathrooms</th>\n",
       "      <th>bedrooms</th>\n",
       "      <th>sqft_lot15_log</th>\n",
       "      <th>year_sold</th>\n",
       "      <th>condition</th>\n",
       "      <th>floors</th>\n",
       "      <th>sqft_living15_log</th>\n",
       "      <th>renovated</th>\n",
       "      <th>month_sold</th>\n",
       "    </tr>\n",
       "  </thead>\n",
       "  <tbody>\n",
       "    <tr>\n",
       "      <th>0</th>\n",
       "      <td>-1.449410</td>\n",
       "      <td>-1.121296</td>\n",
       "      <td>-0.240515</td>\n",
       "      <td>-0.536452</td>\n",
       "      <td>0.555905</td>\n",
       "      <td>0.0</td>\n",
       "      <td>-1.073634</td>\n",
       "      <td>-0.393200</td>\n",
       "      <td>-0.348384</td>\n",
       "      <td>-0.693376</td>\n",
       "      <td>-0.646539</td>\n",
       "      <td>-0.792683</td>\n",
       "      <td>-1.012572</td>\n",
       "      <td>0.0</td>\n",
       "      <td>1.101079</td>\n",
       "    </tr>\n",
       "    <tr>\n",
       "      <th>1</th>\n",
       "      <td>0.421360</td>\n",
       "      <td>0.848989</td>\n",
       "      <td>-0.240515</td>\n",
       "      <td>-0.536452</td>\n",
       "      <td>0.692761</td>\n",
       "      <td>0.0</td>\n",
       "      <td>0.495039</td>\n",
       "      <td>-0.393200</td>\n",
       "      <td>0.083259</td>\n",
       "      <td>-0.693376</td>\n",
       "      <td>-0.646539</td>\n",
       "      <td>1.022076</td>\n",
       "      <td>-0.266599</td>\n",
       "      <td>0.0</td>\n",
       "      <td>1.742702</td>\n",
       "    </tr>\n",
       "    <tr>\n",
       "      <th>2</th>\n",
       "      <td>-1.891463</td>\n",
       "      <td>-2.201823</td>\n",
       "      <td>-0.240515</td>\n",
       "      <td>-1.485444</td>\n",
       "      <td>1.308614</td>\n",
       "      <td>0.0</td>\n",
       "      <td>-1.073634</td>\n",
       "      <td>-1.568917</td>\n",
       "      <td>0.160389</td>\n",
       "      <td>1.442218</td>\n",
       "      <td>-0.646539</td>\n",
       "      <td>-0.792683</td>\n",
       "      <td>1.263231</td>\n",
       "      <td>0.0</td>\n",
       "      <td>-1.465410</td>\n",
       "    </tr>\n",
       "    <tr>\n",
       "      <th>3</th>\n",
       "      <td>0.665793</td>\n",
       "      <td>0.163125</td>\n",
       "      <td>-0.240515</td>\n",
       "      <td>-0.536452</td>\n",
       "      <td>0.213765</td>\n",
       "      <td>0.0</td>\n",
       "      <td>2.063712</td>\n",
       "      <td>0.782516</td>\n",
       "      <td>-0.523293</td>\n",
       "      <td>-0.693376</td>\n",
       "      <td>2.448887</td>\n",
       "      <td>-0.792683</td>\n",
       "      <td>-0.964947</td>\n",
       "      <td>0.0</td>\n",
       "      <td>1.742702</td>\n",
       "    </tr>\n",
       "    <tr>\n",
       "      <th>4</th>\n",
       "      <td>0.308459</td>\n",
       "      <td>-0.227066</td>\n",
       "      <td>-0.240515</td>\n",
       "      <td>0.412540</td>\n",
       "      <td>-0.538943</td>\n",
       "      <td>0.0</td>\n",
       "      <td>0.495039</td>\n",
       "      <td>-0.393200</td>\n",
       "      <td>0.057550</td>\n",
       "      <td>1.442218</td>\n",
       "      <td>-0.646539</td>\n",
       "      <td>-0.792683</td>\n",
       "      <td>-0.063894</td>\n",
       "      <td>0.0</td>\n",
       "      <td>-1.465410</td>\n",
       "    </tr>\n",
       "  </tbody>\n",
       "</table>\n",
       "</div>"
      ],
      "text/plain": [
       "   price_log  sqft_living_log      view     grade       age  waterfront  \\\n",
       "0  -1.449410        -1.121296 -0.240515 -0.536452  0.555905         0.0   \n",
       "1   0.421360         0.848989 -0.240515 -0.536452  0.692761         0.0   \n",
       "2  -1.891463        -2.201823 -0.240515 -1.485444  1.308614         0.0   \n",
       "3   0.665793         0.163125 -0.240515 -0.536452  0.213765         0.0   \n",
       "4   0.308459        -0.227066 -0.240515  0.412540 -0.538943         0.0   \n",
       "\n",
       "   bathrooms  bedrooms  sqft_lot15_log  year_sold  condition    floors  \\\n",
       "0  -1.073634 -0.393200       -0.348384  -0.693376  -0.646539 -0.792683   \n",
       "1   0.495039 -0.393200        0.083259  -0.693376  -0.646539  1.022076   \n",
       "2  -1.073634 -1.568917        0.160389   1.442218  -0.646539 -0.792683   \n",
       "3   2.063712  0.782516       -0.523293  -0.693376   2.448887 -0.792683   \n",
       "4   0.495039 -0.393200        0.057550   1.442218  -0.646539 -0.792683   \n",
       "\n",
       "   sqft_living15_log  renovated  month_sold  \n",
       "0          -1.012572        0.0    1.101079  \n",
       "1          -0.266599        0.0    1.742702  \n",
       "2           1.263231        0.0   -1.465410  \n",
       "3          -0.964947        0.0    1.742702  \n",
       "4          -0.063894        0.0   -1.465410  "
      ]
     },
     "execution_count": 72,
     "metadata": {},
     "output_type": "execute_result"
    }
   ],
   "source": [
    "from sklearn.preprocessing import StandardScaler\n",
    "scaler = StandardScaler()\n",
    "\n",
    "model2= model1.copy()\n",
    "model2_scaled = pd.DataFrame(scaler.fit_transform(model2), columns = model2.columns)\n",
    "print(model2_scaled.shape)\n",
    "model2_scaled.head()"
   ]
  },
  {
   "cell_type": "markdown",
   "id": "d36a7e68",
   "metadata": {
    "ExecuteTime": {
     "end_time": "2021-04-29T04:55:11.068321Z",
     "start_time": "2021-04-29T04:55:11.029236Z"
    }
   },
   "source": [
    "from sklearn.preprocessing import StandardScaler\n",
    "scaler = StandardScaler()\n",
    "\n",
    "mode2_scaling_non_logs = mode2_scaling_non_logs.copy()\n",
    "mode2_scaling_non_logs = pd.DataFrame(scaler.fit_transform(data), columns =  model1['sqft_living_log', 'view', 'grade', 'age', 'waterfront', 'bathrooms', 'bedrooms', 'sqft_lot15_log', 'year_sold', 'condition', 'floors', 'sqft_living15_log','renovated', 'month_sold'])"
   ]
  },
  {
   "cell_type": "code",
   "execution_count": 73,
   "id": "4dc28237",
   "metadata": {
    "ExecuteTime": {
     "end_time": "2021-04-29T17:24:21.528794Z",
     "start_time": "2021-04-29T17:24:21.522609Z"
    }
   },
   "outputs": [],
   "source": [
    "fsm_df2 = model2_scaled.copy()\n",
    "fsm_df2.dropna(inplace=True)"
   ]
  },
  {
   "cell_type": "code",
   "execution_count": 74,
   "id": "f55e5813",
   "metadata": {
    "ExecuteTime": {
     "end_time": "2021-04-29T17:24:24.412392Z",
     "start_time": "2021-04-29T17:24:24.374575Z"
    }
   },
   "outputs": [],
   "source": [
    "fsm2 = ols(formula =\"price_log ~ sqft_living_log + view + grade + age + waterfront + bathrooms + bedrooms + sqft_lot15_log + year_sold + condition + floors + sqft_living15_log + month_sold\", data = fsm_df1)\n",
    "fsm_results2 = fsm2.fit()"
   ]
  },
  {
   "cell_type": "code",
   "execution_count": 75,
   "id": "6e570687",
   "metadata": {
    "ExecuteTime": {
     "end_time": "2021-04-29T17:24:27.189969Z",
     "start_time": "2021-04-29T17:24:27.165768Z"
    }
   },
   "outputs": [
    {
     "data": {
      "text/html": [
       "<table class=\"simpletable\">\n",
       "<caption>OLS Regression Results</caption>\n",
       "<tr>\n",
       "  <th>Dep. Variable:</th>        <td>price_log</td>    <th>  R-squared:         </th> <td>   0.597</td>\n",
       "</tr>\n",
       "<tr>\n",
       "  <th>Model:</th>                   <td>OLS</td>       <th>  Adj. R-squared:    </th> <td>   0.597</td>\n",
       "</tr>\n",
       "<tr>\n",
       "  <th>Method:</th>             <td>Least Squares</td>  <th>  F-statistic:       </th> <td>   2432.</td>\n",
       "</tr>\n",
       "<tr>\n",
       "  <th>Date:</th>             <td>Thu, 29 Apr 2021</td> <th>  Prob (F-statistic):</th>  <td>  0.00</td> \n",
       "</tr>\n",
       "<tr>\n",
       "  <th>Time:</th>                 <td>11:24:27</td>     <th>  Log-Likelihood:    </th> <td> -4252.8</td>\n",
       "</tr>\n",
       "<tr>\n",
       "  <th>No. Observations:</th>      <td> 19675</td>      <th>  AIC:               </th> <td>   8532.</td>\n",
       "</tr>\n",
       "<tr>\n",
       "  <th>Df Residuals:</th>          <td> 19662</td>      <th>  BIC:               </th> <td>   8634.</td>\n",
       "</tr>\n",
       "<tr>\n",
       "  <th>Df Model:</th>              <td>    12</td>      <th>                     </th>     <td> </td>   \n",
       "</tr>\n",
       "<tr>\n",
       "  <th>Covariance Type:</th>      <td>nonrobust</td>    <th>                     </th>     <td> </td>   \n",
       "</tr>\n",
       "</table>\n",
       "<table class=\"simpletable\">\n",
       "<tr>\n",
       "          <td></td>             <th>coef</th>     <th>std err</th>      <th>t</th>      <th>P>|t|</th>  <th>[0.025</th>    <th>0.975]</th>  \n",
       "</tr>\n",
       "<tr>\n",
       "  <th>Intercept</th>         <td>  -76.9036</td> <td>   14.876</td> <td>   -5.170</td> <td> 0.000</td> <td> -106.061</td> <td>  -47.746</td>\n",
       "</tr>\n",
       "<tr>\n",
       "  <th>sqft_living_log</th>   <td>    0.3589</td> <td>    0.011</td> <td>   32.008</td> <td> 0.000</td> <td>    0.337</td> <td>    0.381</td>\n",
       "</tr>\n",
       "<tr>\n",
       "  <th>view</th>              <td>    0.0477</td> <td>    0.005</td> <td>    9.113</td> <td> 0.000</td> <td>    0.037</td> <td>    0.058</td>\n",
       "</tr>\n",
       "<tr>\n",
       "  <th>grade</th>             <td>    0.2108</td> <td>    0.003</td> <td>   63.582</td> <td> 0.000</td> <td>    0.204</td> <td>    0.217</td>\n",
       "</tr>\n",
       "<tr>\n",
       "  <th>age</th>               <td>    0.0058</td> <td>    0.000</td> <td>   56.727</td> <td> 0.000</td> <td>    0.006</td> <td>    0.006</td>\n",
       "</tr>\n",
       "<tr>\n",
       "  <th>waterfront</th>        <td>-2.139e-13</td> <td> 4.14e-14</td> <td>   -5.168</td> <td> 0.000</td> <td>-2.95e-13</td> <td>-1.33e-13</td>\n",
       "</tr>\n",
       "<tr>\n",
       "  <th>bathrooms</th>         <td>    0.0560</td> <td>    0.005</td> <td>   11.506</td> <td> 0.000</td> <td>    0.046</td> <td>    0.066</td>\n",
       "</tr>\n",
       "<tr>\n",
       "  <th>bedrooms</th>          <td>   -0.0349</td> <td>    0.003</td> <td>  -10.375</td> <td> 0.000</td> <td>   -0.041</td> <td>   -0.028</td>\n",
       "</tr>\n",
       "<tr>\n",
       "  <th>sqft_lot15_log</th>    <td>   -0.1001</td> <td>    0.004</td> <td>  -26.877</td> <td> 0.000</td> <td>   -0.107</td> <td>   -0.093</td>\n",
       "</tr>\n",
       "<tr>\n",
       "  <th>year_sold</th>         <td>    0.0416</td> <td>    0.007</td> <td>    5.641</td> <td> 0.000</td> <td>    0.027</td> <td>    0.056</td>\n",
       "</tr>\n",
       "<tr>\n",
       "  <th>condition</th>         <td>    0.0475</td> <td>    0.004</td> <td>   12.982</td> <td> 0.000</td> <td>    0.040</td> <td>    0.055</td>\n",
       "</tr>\n",
       "<tr>\n",
       "  <th>floors</th>            <td>    0.0449</td> <td>    0.006</td> <td>    7.898</td> <td> 0.000</td> <td>    0.034</td> <td>    0.056</td>\n",
       "</tr>\n",
       "<tr>\n",
       "  <th>sqft_living15_log</th> <td>    0.2826</td> <td>    0.011</td> <td>   25.180</td> <td> 0.000</td> <td>    0.261</td> <td>    0.305</td>\n",
       "</tr>\n",
       "<tr>\n",
       "  <th>month_sold</th>        <td>    0.0002</td> <td>    0.001</td> <td>    0.176</td> <td> 0.860</td> <td>   -0.002</td> <td>    0.002</td>\n",
       "</tr>\n",
       "</table>\n",
       "<table class=\"simpletable\">\n",
       "<tr>\n",
       "  <th>Omnibus:</th>       <td>37.807</td> <th>  Durbin-Watson:     </th> <td>   1.969</td>\n",
       "</tr>\n",
       "<tr>\n",
       "  <th>Prob(Omnibus):</th> <td> 0.000</td> <th>  Jarque-Bera (JB):  </th> <td>  39.361</td>\n",
       "</tr>\n",
       "<tr>\n",
       "  <th>Skew:</th>          <td>-0.088</td> <th>  Prob(JB):          </th> <td>2.84e-09</td>\n",
       "</tr>\n",
       "<tr>\n",
       "  <th>Kurtosis:</th>      <td> 3.131</td> <th>  Cond. No.          </th> <td>3.23e+20</td>\n",
       "</tr>\n",
       "</table><br/><br/>Notes:<br/>[1] Standard Errors assume that the covariance matrix of the errors is correctly specified.<br/>[2] The smallest eigenvalue is 7.68e-31. This might indicate that there are<br/>strong multicollinearity problems or that the design matrix is singular."
      ],
      "text/plain": [
       "<class 'statsmodels.iolib.summary.Summary'>\n",
       "\"\"\"\n",
       "                            OLS Regression Results                            \n",
       "==============================================================================\n",
       "Dep. Variable:              price_log   R-squared:                       0.597\n",
       "Model:                            OLS   Adj. R-squared:                  0.597\n",
       "Method:                 Least Squares   F-statistic:                     2432.\n",
       "Date:                Thu, 29 Apr 2021   Prob (F-statistic):               0.00\n",
       "Time:                        11:24:27   Log-Likelihood:                -4252.8\n",
       "No. Observations:               19675   AIC:                             8532.\n",
       "Df Residuals:                   19662   BIC:                             8634.\n",
       "Df Model:                          12                                         \n",
       "Covariance Type:            nonrobust                                         \n",
       "=====================================================================================\n",
       "                        coef    std err          t      P>|t|      [0.025      0.975]\n",
       "-------------------------------------------------------------------------------------\n",
       "Intercept           -76.9036     14.876     -5.170      0.000    -106.061     -47.746\n",
       "sqft_living_log       0.3589      0.011     32.008      0.000       0.337       0.381\n",
       "view                  0.0477      0.005      9.113      0.000       0.037       0.058\n",
       "grade                 0.2108      0.003     63.582      0.000       0.204       0.217\n",
       "age                   0.0058      0.000     56.727      0.000       0.006       0.006\n",
       "waterfront        -2.139e-13   4.14e-14     -5.168      0.000   -2.95e-13   -1.33e-13\n",
       "bathrooms             0.0560      0.005     11.506      0.000       0.046       0.066\n",
       "bedrooms             -0.0349      0.003    -10.375      0.000      -0.041      -0.028\n",
       "sqft_lot15_log       -0.1001      0.004    -26.877      0.000      -0.107      -0.093\n",
       "year_sold             0.0416      0.007      5.641      0.000       0.027       0.056\n",
       "condition             0.0475      0.004     12.982      0.000       0.040       0.055\n",
       "floors                0.0449      0.006      7.898      0.000       0.034       0.056\n",
       "sqft_living15_log     0.2826      0.011     25.180      0.000       0.261       0.305\n",
       "month_sold            0.0002      0.001      0.176      0.860      -0.002       0.002\n",
       "==============================================================================\n",
       "Omnibus:                       37.807   Durbin-Watson:                   1.969\n",
       "Prob(Omnibus):                  0.000   Jarque-Bera (JB):               39.361\n",
       "Skew:                          -0.088   Prob(JB):                     2.84e-09\n",
       "Kurtosis:                       3.131   Cond. No.                     3.23e+20\n",
       "==============================================================================\n",
       "\n",
       "Notes:\n",
       "[1] Standard Errors assume that the covariance matrix of the errors is correctly specified.\n",
       "[2] The smallest eigenvalue is 7.68e-31. This might indicate that there are\n",
       "strong multicollinearity problems or that the design matrix is singular.\n",
       "\"\"\""
      ]
     },
     "execution_count": 75,
     "metadata": {},
     "output_type": "execute_result"
    }
   ],
   "source": [
    "fsm_results2.summary()"
   ]
  },
  {
   "cell_type": "markdown",
   "id": "b04e7161",
   "metadata": {},
   "source": [
    "#  Model 2, Evaluation:\n",
    "\n",
    "We are explaining about roughly 60% of the variance in home price, with our 14 features so far and it's statistically significant.\n",
    "\n",
    "According to our model:\n",
    "\n",
    " - For each additional footage of the home, we expect the home price to increase 171\n",
    " \n",
    " - For each additional bathroom, we expect the home price to increase by 9600\n",
    " \n",
    " - ...\n",
    " "
   ]
  },
  {
   "cell_type": "markdown",
   "id": "8b7ef547",
   "metadata": {},
   "source": [
    "## Linearity Model 2 Assumption \n",
    "\n",
    "The null hypothesis is that the model is linearly predicted by the features, alternative hypothesis is that it is not.\n",
    "\n",
    "We reject the null hypothesis when the p-value is less than α, which is .05. \n",
    "\n",
    "We fail to reject the alternative hypothesis when the p-value is higher than α, which is .05.\n",
    "\n",
    "Thus returning a p-value above .05 means that the current model fails to reject the linearity assumption."
   ]
  },
  {
   "cell_type": "code",
   "execution_count": 76,
   "id": "a2aaa74a",
   "metadata": {
    "ExecuteTime": {
     "end_time": "2021-04-29T17:24:41.994914Z",
     "start_time": "2021-04-29T17:24:41.984921Z"
    }
   },
   "outputs": [
    {
     "name": "stdout",
     "output_type": "stream",
     "text": [
      "Rainbow statistic: 0.9793599478226508\n",
      "Rainbow p-value: 0.849414143177961\n"
     ]
    }
   ],
   "source": [
    "rainbow_statistic, rainbow_p_value = linear_rainbow(fsm_results2)\n",
    "print(\"Rainbow statistic:\", rainbow_statistic)\n",
    "print(\"Rainbow p-value:\", rainbow_p_value)"
   ]
  },
  {
   "cell_type": "markdown",
   "id": "ea9e01be",
   "metadata": {},
   "source": [
    "## Normality Model 1 Assumption\n",
    "\n",
    "Linear regression assumes that the residuals are normally distributed. \n",
    "\n",
    "The null hypothesis is that the residuals are normally distributed, alternative hypothesis is that they are not. \n",
    "\n",
    "Thus returning a low p-value means that the current model rejects the normality assumption."
   ]
  },
  {
   "cell_type": "code",
   "execution_count": 56,
   "id": "8082aa03",
   "metadata": {
    "ExecuteTime": {
     "end_time": "2021-04-29T17:11:15.921905Z",
     "start_time": "2021-04-29T17:11:15.919698Z"
    }
   },
   "outputs": [],
   "source": [
    "# Jarque-Bera (JB):\t39.361\n",
    "# Prob(JB): 2.84e-09"
   ]
  },
  {
   "cell_type": "markdown",
   "id": "7ad46756",
   "metadata": {},
   "source": [
    "## Homoscadasticity for Model 2:\n",
    "\n",
    "Linear regression assumes that the variance of the dependent variable is homogeneous across different value of the independent variable(s). \n",
    "\n",
    "We can visualize this by looking at the predicted life expectancy vs. the residuals.\n",
    "\n",
    "The null hypothesis is homoscedasticity, alternative hypothesis is heteroscedasticity. \n",
    "\n",
    "Thus returning a low p-value means that the current model violates the homoscedasticity assumption."
   ]
  },
  {
   "cell_type": "code",
   "execution_count": 77,
   "id": "290a09f2",
   "metadata": {
    "ExecuteTime": {
     "end_time": "2021-04-29T17:25:35.787660Z",
     "start_time": "2021-04-29T17:25:35.784427Z"
    }
   },
   "outputs": [],
   "source": [
    "y2 = fsm_df2[\"price_log\"]\n",
    "y_hat2 = fsm_results2.predict()"
   ]
  },
  {
   "cell_type": "code",
   "execution_count": 78,
   "id": "419bfa6c",
   "metadata": {
    "ExecuteTime": {
     "end_time": "2021-04-29T17:25:38.988109Z",
     "start_time": "2021-04-29T17:25:38.782753Z"
    }
   },
   "outputs": [
    {
     "data": {
      "image/png": "[encoded data removed]",
      "text/plain": [
       "<Figure size 432x288 with 1 Axes>"
      ]
     },
     "metadata": {},
     "output_type": "display_data"
    }
   ],
   "source": [
    "fig2, ax2 = plt.subplots()\n",
    "ax2.set(xlabel=\"Predicted Home Price\",\n",
    "        ylabel=\"Residuals (Predicted - Actual Home Price)\")\n",
    "ax2.scatter(x = y_hat2, y = y_hat2-y2, color = \"blue\", alpha=0.2);"
   ]
  },
  {
   "cell_type": "code",
   "execution_count": 79,
   "id": "a02fd2a6",
   "metadata": {
    "ExecuteTime": {
     "end_time": "2021-04-29T17:26:02.473639Z",
     "start_time": "2021-04-29T17:26:02.455352Z"
    }
   },
   "outputs": [
    {
     "name": "stdout",
     "output_type": "stream",
     "text": [
      "Lagrange Multiplier p-value: 1.0403724292168811e-10\n",
      "F-statistic p-value: 3.823132779766805e-11\n"
     ]
    }
   ],
   "source": [
    "lm, lm_p_value, fvalue, f_p_value = het_breuschpagan(y2-y_hat2, fsm_df2[['sqft_living_log', 'view', 'grade', 'age', 'waterfront', 'bathrooms', 'bedrooms', 'sqft_lot15_log', 'year_sold', 'condition', 'floors', 'sqft_living15_log','renovated', 'month_sold']])\n",
    "print(\"Lagrange Multiplier p-value:\", lm_p_value)\n",
    "print(\"F-statistic p-value:\", f_p_value)"
   ]
  },
  {
   "cell_type": "markdown",
   "id": "a45a5143",
   "metadata": {},
   "source": [
    "## Independence for Model 1:\n",
    "\n",
    "You might have noticed in the regression output that there was a warning about the condition number being high. \n",
    "\n",
    "The condition number is a measure of stability of the matrix used for computing the regression and a number above 30 can indicate strong multicollinearity. \n",
    "\n",
    "Our output was 3.23e+20"
   ]
  },
  {
   "cell_type": "code",
   "execution_count": 80,
   "id": "a6032de2",
   "metadata": {
    "ExecuteTime": {
     "end_time": "2021-04-29T17:26:30.287595Z",
     "start_time": "2021-04-29T17:26:30.145411Z"
    }
   },
   "outputs": [
    {
     "name": "stderr",
     "output_type": "stream",
     "text": [
      "/Users/sammy/opt/anaconda3/lib/python3.8/site-packages/statsmodels/regression/linear_model.py:1717: RuntimeWarning: invalid value encountered in double_scalars\n",
      "  return 1 - self.ssr/self.uncentered_tss\n"
     ]
    },
    {
     "data": {
      "text/html": [
       "<div>\n",
       "<style scoped>\n",
       "    .dataframe tbody tr th:only-of-type {\n",
       "        vertical-align: middle;\n",
       "    }\n",
       "\n",
       "    .dataframe tbody tr th {\n",
       "        vertical-align: top;\n",
       "    }\n",
       "\n",
       "    .dataframe thead th {\n",
       "        text-align: right;\n",
       "    }\n",
       "</style>\n",
       "<table border=\"1\" class=\"dataframe\">\n",
       "  <thead>\n",
       "    <tr style=\"text-align: right;\">\n",
       "      <th></th>\n",
       "      <th>VIF</th>\n",
       "      <th>feature</th>\n",
       "    </tr>\n",
       "  </thead>\n",
       "  <tbody>\n",
       "    <tr>\n",
       "      <th>0</th>\n",
       "      <td>4.277831</td>\n",
       "      <td>sqft_living_log</td>\n",
       "    </tr>\n",
       "    <tr>\n",
       "      <th>1</th>\n",
       "      <td>1.057025</td>\n",
       "      <td>view</td>\n",
       "    </tr>\n",
       "    <tr>\n",
       "      <th>2</th>\n",
       "      <td>2.660437</td>\n",
       "      <td>grade</td>\n",
       "    </tr>\n",
       "    <tr>\n",
       "      <th>3</th>\n",
       "      <td>1.938084</td>\n",
       "      <td>age</td>\n",
       "    </tr>\n",
       "    <tr>\n",
       "      <th>4</th>\n",
       "      <td>NaN</td>\n",
       "      <td>waterfront</td>\n",
       "    </tr>\n",
       "    <tr>\n",
       "      <th>5</th>\n",
       "      <td>2.098194</td>\n",
       "      <td>bathrooms</td>\n",
       "    </tr>\n",
       "    <tr>\n",
       "      <th>6</th>\n",
       "      <td>1.782674</td>\n",
       "      <td>bedrooms</td>\n",
       "    </tr>\n",
       "    <tr>\n",
       "      <th>7</th>\n",
       "      <td>1.475334</td>\n",
       "      <td>sqft_lot15_log</td>\n",
       "    </tr>\n",
       "    <tr>\n",
       "      <th>8</th>\n",
       "      <td>2.603499</td>\n",
       "      <td>year_sold</td>\n",
       "    </tr>\n",
       "    <tr>\n",
       "      <th>9</th>\n",
       "      <td>1.216642</td>\n",
       "      <td>condition</td>\n",
       "    </tr>\n",
       "    <tr>\n",
       "      <th>10</th>\n",
       "      <td>2.136508</td>\n",
       "      <td>floors</td>\n",
       "    </tr>\n",
       "    <tr>\n",
       "      <th>11</th>\n",
       "      <td>2.655969</td>\n",
       "      <td>sqft_living15_log</td>\n",
       "    </tr>\n",
       "    <tr>\n",
       "      <th>12</th>\n",
       "      <td>NaN</td>\n",
       "      <td>renovated</td>\n",
       "    </tr>\n",
       "    <tr>\n",
       "      <th>13</th>\n",
       "      <td>2.594442</td>\n",
       "      <td>month_sold</td>\n",
       "    </tr>\n",
       "  </tbody>\n",
       "</table>\n",
       "</div>"
      ],
      "text/plain": [
       "         VIF            feature\n",
       "0   4.277831    sqft_living_log\n",
       "1   1.057025               view\n",
       "2   2.660437              grade\n",
       "3   1.938084                age\n",
       "4        NaN         waterfront\n",
       "5   2.098194          bathrooms\n",
       "6   1.782674           bedrooms\n",
       "7   1.475334     sqft_lot15_log\n",
       "8   2.603499          year_sold\n",
       "9   1.216642          condition\n",
       "10  2.136508             floors\n",
       "11  2.655969  sqft_living15_log\n",
       "12       NaN          renovated\n",
       "13  2.594442         month_sold"
      ]
     },
     "execution_count": 80,
     "metadata": {},
     "output_type": "execute_result"
    }
   ],
   "source": [
    "rows = fsm_df2[['sqft_living_log', 'view', 'grade', 'age', 'waterfront', 'bathrooms', 'bedrooms', 'sqft_lot15_log', 'year_sold', 'condition', 'floors', 'sqft_living15_log','renovated', 'month_sold']].values\n",
    "\n",
    "vif_df = pd.DataFrame()\n",
    "vif_df[\"VIF\"] = [variance_inflation_factor(rows, i) for i in range(14)]\n",
    "vif_df[\"feature\"] = ['sqft_living_log', 'view', 'grade', 'age', 'waterfront', 'bathrooms', 'bedrooms', 'sqft_lot15_log', 'year_sold', 'condition', 'floors', 'sqft_living15_log','renovated', 'month_sold']\n",
    "\n",
    "vif_df"
   ]
  },
  {
   "cell_type": "code",
   "execution_count": null,
   "id": "63b79dc1",
   "metadata": {},
   "outputs": [],
   "source": []
  }
 ],
 "metadata": {
  "hide_input": false,
  "kernelspec": {
   "display_name": "Python 3",
   "language": "python",
   "name": "python3"
  },
  "language_info": {
   "codemirror_mode": {
    "name": "ipython",
    "version": 3
   },
   "file_extension": ".py",
   "mimetype": "text/x-python",
   "name": "python",
   "nbconvert_exporter": "python",
   "pygments_lexer": "ipython3",
   "version": "3.8.8"
  },
  "varInspector": {
   "cols": {
    "lenName": 16,
    "lenType": 16,
    "lenVar": 40
   },
   "kernels_config": {
    "python": {
     "delete_cmd_postfix": "",
     "delete_cmd_prefix": "del ",
     "library": "var_list.py",
     "varRefreshCmd": "print(var_dic_list())"
    },
    "r": {
     "delete_cmd_postfix": ") ",
     "delete_cmd_prefix": "rm(",
     "library": "var_list.r",
     "varRefreshCmd": "cat(var_dic_list()) "
    }
   },
   "types_to_exclude": [
    "module",
    "function",
    "builtin_function_or_method",
    "instance",
    "_Feature"
   ],
   "window_display": false
  }
 },
 "nbformat": 4,
 "nbformat_minor": 5
}
